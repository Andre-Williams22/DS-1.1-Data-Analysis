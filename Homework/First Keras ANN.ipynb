{
 "cells": [
  {
   "cell_type": "code",
   "execution_count": 2,
   "metadata": {},
   "outputs": [
    {
     "data": {
      "text/html": "<div>\n<style scoped>\n    .dataframe tbody tr th:only-of-type {\n        vertical-align: middle;\n    }\n\n    .dataframe tbody tr th {\n        vertical-align: top;\n    }\n\n    .dataframe thead th {\n        text-align: right;\n    }\n</style>\n<table border=\"1\" class=\"dataframe\">\n  <thead>\n    <tr style=\"text-align: right;\">\n      <th></th>\n      <th>battery_power</th>\n      <th>blue</th>\n      <th>clock_speed</th>\n      <th>dual_sim</th>\n      <th>fc</th>\n      <th>four_g</th>\n      <th>int_memory</th>\n      <th>m_dep</th>\n      <th>mobile_wt</th>\n      <th>n_cores</th>\n      <th>...</th>\n      <th>px_height</th>\n      <th>px_width</th>\n      <th>ram</th>\n      <th>sc_h</th>\n      <th>sc_w</th>\n      <th>talk_time</th>\n      <th>three_g</th>\n      <th>touch_screen</th>\n      <th>wifi</th>\n      <th>price_range</th>\n    </tr>\n  </thead>\n  <tbody>\n    <tr>\n      <th>0</th>\n      <td>842</td>\n      <td>0</td>\n      <td>2.2</td>\n      <td>0</td>\n      <td>1</td>\n      <td>0</td>\n      <td>7</td>\n      <td>0.6</td>\n      <td>188</td>\n      <td>2</td>\n      <td>...</td>\n      <td>20</td>\n      <td>756</td>\n      <td>2549</td>\n      <td>9</td>\n      <td>7</td>\n      <td>19</td>\n      <td>0</td>\n      <td>0</td>\n      <td>1</td>\n      <td>1</td>\n    </tr>\n    <tr>\n      <th>1</th>\n      <td>1021</td>\n      <td>1</td>\n      <td>0.5</td>\n      <td>1</td>\n      <td>0</td>\n      <td>1</td>\n      <td>53</td>\n      <td>0.7</td>\n      <td>136</td>\n      <td>3</td>\n      <td>...</td>\n      <td>905</td>\n      <td>1988</td>\n      <td>2631</td>\n      <td>17</td>\n      <td>3</td>\n      <td>7</td>\n      <td>1</td>\n      <td>1</td>\n      <td>0</td>\n      <td>2</td>\n    </tr>\n    <tr>\n      <th>2</th>\n      <td>563</td>\n      <td>1</td>\n      <td>0.5</td>\n      <td>1</td>\n      <td>2</td>\n      <td>1</td>\n      <td>41</td>\n      <td>0.9</td>\n      <td>145</td>\n      <td>5</td>\n      <td>...</td>\n      <td>1263</td>\n      <td>1716</td>\n      <td>2603</td>\n      <td>11</td>\n      <td>2</td>\n      <td>9</td>\n      <td>1</td>\n      <td>1</td>\n      <td>0</td>\n      <td>2</td>\n    </tr>\n    <tr>\n      <th>3</th>\n      <td>615</td>\n      <td>1</td>\n      <td>2.5</td>\n      <td>0</td>\n      <td>0</td>\n      <td>0</td>\n      <td>10</td>\n      <td>0.8</td>\n      <td>131</td>\n      <td>6</td>\n      <td>...</td>\n      <td>1216</td>\n      <td>1786</td>\n      <td>2769</td>\n      <td>16</td>\n      <td>8</td>\n      <td>11</td>\n      <td>1</td>\n      <td>0</td>\n      <td>0</td>\n      <td>2</td>\n    </tr>\n    <tr>\n      <th>4</th>\n      <td>1821</td>\n      <td>1</td>\n      <td>1.2</td>\n      <td>0</td>\n      <td>13</td>\n      <td>1</td>\n      <td>44</td>\n      <td>0.6</td>\n      <td>141</td>\n      <td>2</td>\n      <td>...</td>\n      <td>1208</td>\n      <td>1212</td>\n      <td>1411</td>\n      <td>8</td>\n      <td>2</td>\n      <td>15</td>\n      <td>1</td>\n      <td>1</td>\n      <td>0</td>\n      <td>1</td>\n    </tr>\n  </tbody>\n</table>\n<p>5 rows × 21 columns</p>\n</div>",
      "text/plain": "   battery_power  blue  clock_speed  dual_sim  fc  four_g  int_memory  m_dep  \\\n0            842     0          2.2         0   1       0           7    0.6   \n1           1021     1          0.5         1   0       1          53    0.7   \n2            563     1          0.5         1   2       1          41    0.9   \n3            615     1          2.5         0   0       0          10    0.8   \n4           1821     1          1.2         0  13       1          44    0.6   \n\n   mobile_wt  n_cores  ...  px_height  px_width   ram  sc_h  sc_w  talk_time  \\\n0        188        2  ...         20       756  2549     9     7         19   \n1        136        3  ...        905      1988  2631    17     3          7   \n2        145        5  ...       1263      1716  2603    11     2          9   \n3        131        6  ...       1216      1786  2769    16     8         11   \n4        141        2  ...       1208      1212  1411     8     2         15   \n\n   three_g  touch_screen  wifi  price_range  \n0        0             0     1            1  \n1        1             1     0            2  \n2        1             1     0            2  \n3        1             0     0            2  \n4        1             1     0            1  \n\n[5 rows x 21 columns]"
     },
     "execution_count": 2,
     "metadata": {},
     "output_type": "execute_result"
    }
   ],
   "source": [
    "import pandas as pd\n",
    "import numpy as np\n",
    "from matplotlib import pyplot as plt\n",
    "df = pd.read_csv('mobiletrain.csv')\n",
    "df.head()"
   ]
  },
  {
   "cell_type": "code",
   "execution_count": 3,
   "metadata": {},
   "outputs": [
    {
     "data": {
      "text/plain": "Index(['battery_power', 'blue', 'clock_speed', 'dual_sim', 'fc', 'four_g',\n       'int_memory', 'm_dep', 'mobile_wt', 'n_cores', 'pc', 'px_height',\n       'px_width', 'ram', 'sc_h', 'sc_w', 'talk_time', 'three_g',\n       'touch_screen', 'wifi', 'price_range'],\n      dtype='object')"
     },
     "execution_count": 3,
     "metadata": {},
     "output_type": "execute_result"
    }
   ],
   "source": [
    "df.columns"
   ]
  },
  {
   "cell_type": "markdown",
   "metadata": {},
   "source": [
    "## Changing Pandas Dataframe to Array"
   ]
  },
  {
   "cell_type": "code",
   "execution_count": 33,
   "metadata": {
    "scrolled": true
   },
   "outputs": [
    {
     "name": "stdout",
     "output_type": "stream",
     "text": [
      "Normalized Data: \n",
      "[-0.90259726 -0.9900495   0.83077942 -1.01918398 -0.76249466 -1.04396559\n",
      " -1.38064353  0.34073951  1.34924881 -1.10197128 -1.3057501  -1.40894856\n",
      " -1.14678403  0.39170341 -0.78498329  0.2831028   1.46249332 -1.78686097\n",
      " -1.00601811  0.98609664]\n",
      "One hot encoded array: \n",
      "[[0. 1. 0. 0.]\n",
      " [0. 0. 1. 0.]\n",
      " [0. 0. 1. 0.]\n",
      " [0. 0. 1. 0.]\n",
      " [0. 1. 0. 0.]]\n"
     ]
    },
    {
     "name": "stderr",
     "output_type": "stream",
     "text": [
      "/Library/Frameworks/Python.framework/Versions/3.7/lib/python3.7/site-packages/sklearn/preprocessing/_encoders.py:415: FutureWarning: The handling of integer data will change in version 0.22. Currently, the categories are determined based on the range [0, max(values)], while in the future they will be determined based on the unique values.\n",
      "If you want the future behaviour and silence this warning, you can specify \"categories='auto'\".\n",
      "In case you used a LabelEncoder before this OneHotEncoder to convert the categories to integers, then you can now use the OneHotEncoder directly.\n",
      "  warnings.warn(msg, FutureWarning)\n"
     ]
    }
   ],
   "source": [
    "X = df.iloc[:,:20].values\n",
    "y = df.iloc[:,20:21].values\n",
    "\n",
    "# Normalizing the Data\n",
    "from sklearn.preprocessing import StandardScaler\n",
    "sc = StandardScaler()\n",
    "X = sc.fit_transform(X)\n",
    "print('Normalized Data: ')\n",
    "print(X[0])\n",
    "\n",
    "#One hot encode\n",
    "from sklearn.preprocessing import OneHotEncoder\n",
    "ohe = OneHotEncoder()\n",
    "y = ohe.fit_transform(y).toarray()\n",
    "print('One hot encoded array: ')\n",
    "print(y[0:5])\n",
    "\n",
    "# Train Test Split\n",
    "from sklearn.model_selection import train_test_split\n",
    "X_train, X_test, y_train, y_test = train_test_split(X, y, test_size = 0.1, random_state = 0)"
   ]
  },
  {
   "cell_type": "code",
   "execution_count": 34,
   "metadata": {},
   "outputs": [],
   "source": [
    "import keras\n",
    "from keras.models import Sequential\n",
    "from keras.layers import Dense"
   ]
  },
  {
   "cell_type": "code",
   "execution_count": 35,
   "metadata": {},
   "outputs": [],
   "source": [
    "model = Sequential()\n",
    "model.add(Dense(16,input_dim=20, activation='relu'))\n",
    "model.add(Dense(12, activation='relu'))\n",
    "model.add(Dense(4, activation='softmax'))"
   ]
  },
  {
   "cell_type": "code",
   "execution_count": 36,
   "metadata": {},
   "outputs": [
    {
     "name": "stdout",
     "output_type": "stream",
     "text": [
      "Model: \"sequential_5\"\n",
      "_________________________________________________________________\n",
      "Layer (type)                 Output Shape              Param #   \n",
      "=================================================================\n",
      "dense_13 (Dense)             (None, 16)                336       \n",
      "_________________________________________________________________\n",
      "dense_14 (Dense)             (None, 12)                204       \n",
      "_________________________________________________________________\n",
      "dense_15 (Dense)             (None, 4)                 52        \n",
      "=================================================================\n",
      "Total params: 592\n",
      "Trainable params: 592\n",
      "Non-trainable params: 0\n",
      "_________________________________________________________________\n"
     ]
    }
   ],
   "source": [
    "# To Visualize the neural network \n",
    "model.summary()"
   ]
  },
  {
   "cell_type": "code",
   "execution_count": 37,
   "metadata": {},
   "outputs": [],
   "source": [
    "model.compile(loss='categorical_crossentropy', optimizer='adam', metrics=['accuracy'])"
   ]
  },
  {
   "cell_type": "code",
   "execution_count": 38,
   "metadata": {},
   "outputs": [
    {
     "name": "stdout",
     "output_type": "stream",
     "text": [
      "Epoch 1/100\n",
      "1800/1800 [==============================] - 0s 248us/step - loss: 1.3854 - accuracy: 0.2878\n",
      "Epoch 2/100\n",
      "1800/1800 [==============================] - 0s 39us/step - loss: 1.3286 - accuracy: 0.3461\n",
      "Epoch 3/100\n",
      "1800/1800 [==============================] - 0s 43us/step - loss: 1.2769 - accuracy: 0.4006\n",
      "Epoch 4/100\n",
      "1800/1800 [==============================] - 0s 40us/step - loss: 1.2172 - accuracy: 0.4433\n",
      "Epoch 5/100\n",
      "1800/1800 [==============================] - 0s 40us/step - loss: 1.1444 - accuracy: 0.4889\n",
      "Epoch 6/100\n",
      "1800/1800 [==============================] - 0s 51us/step - loss: 1.0651 - accuracy: 0.5417\n",
      "Epoch 7/100\n",
      "1800/1800 [==============================] - 0s 38us/step - loss: 0.9845 - accuracy: 0.5711\n",
      "Epoch 8/100\n",
      "1800/1800 [==============================] - 0s 42us/step - loss: 0.9091 - accuracy: 0.5950\n",
      "Epoch 9/100\n",
      "1800/1800 [==============================] - 0s 37us/step - loss: 0.8421 - accuracy: 0.6300\n",
      "Epoch 10/100\n",
      "1800/1800 [==============================] - 0s 48us/step - loss: 0.7819 - accuracy: 0.6756\n",
      "Epoch 11/100\n",
      "1800/1800 [==============================] - 0s 42us/step - loss: 0.7283 - accuracy: 0.7083\n",
      "Epoch 12/100\n",
      "1800/1800 [==============================] - 0s 40us/step - loss: 0.6806 - accuracy: 0.7294\n",
      "Epoch 13/100\n",
      "1800/1800 [==============================] - 0s 56us/step - loss: 0.6357 - accuracy: 0.7722\n",
      "Epoch 14/100\n",
      "1800/1800 [==============================] - 0s 50us/step - loss: 0.5940 - accuracy: 0.8033\n",
      "Epoch 15/100\n",
      "1800/1800 [==============================] - 0s 46us/step - loss: 0.5542 - accuracy: 0.8239\n",
      "Epoch 16/100\n",
      "1800/1800 [==============================] - 0s 35us/step - loss: 0.5175 - accuracy: 0.8461\n",
      "Epoch 17/100\n",
      "1800/1800 [==============================] - 0s 50us/step - loss: 0.4840 - accuracy: 0.8661\n",
      "Epoch 18/100\n",
      "1800/1800 [==============================] - 0s 38us/step - loss: 0.4542 - accuracy: 0.8783\n",
      "Epoch 19/100\n",
      "1800/1800 [==============================] - 0s 35us/step - loss: 0.4261 - accuracy: 0.8833\n",
      "Epoch 20/100\n",
      "1800/1800 [==============================] - 0s 47us/step - loss: 0.4004 - accuracy: 0.8989\n",
      "Epoch 21/100\n",
      "1800/1800 [==============================] - 0s 75us/step - loss: 0.3778 - accuracy: 0.9028\n",
      "Epoch 22/100\n",
      "1800/1800 [==============================] - 0s 42us/step - loss: 0.3550 - accuracy: 0.9078\n",
      "Epoch 23/100\n",
      "1800/1800 [==============================] - 0s 63us/step - loss: 0.3363 - accuracy: 0.9133\n",
      "Epoch 24/100\n",
      "1800/1800 [==============================] - 0s 79us/step - loss: 0.3160 - accuracy: 0.9250\n",
      "Epoch 25/100\n",
      "1800/1800 [==============================] - 0s 56us/step - loss: 0.3004 - accuracy: 0.9278\n",
      "Epoch 26/100\n",
      "1800/1800 [==============================] - 0s 80us/step - loss: 0.2851 - accuracy: 0.9322\n",
      "Epoch 27/100\n",
      "1800/1800 [==============================] - 0s 143us/step - loss: 0.2712 - accuracy: 0.9378\n",
      "Epoch 28/100\n",
      "1800/1800 [==============================] - 0s 41us/step - loss: 0.2596 - accuracy: 0.9383\n",
      "Epoch 29/100\n",
      "1800/1800 [==============================] - 0s 43us/step - loss: 0.2476 - accuracy: 0.9400\n",
      "Epoch 30/100\n",
      "1800/1800 [==============================] - 0s 51us/step - loss: 0.2368 - accuracy: 0.9439\n",
      "Epoch 31/100\n",
      "1800/1800 [==============================] - 0s 55us/step - loss: 0.2263 - accuracy: 0.9439\n",
      "Epoch 32/100\n",
      "1800/1800 [==============================] - 0s 39us/step - loss: 0.2175 - accuracy: 0.9444\n",
      "Epoch 33/100\n",
      "1800/1800 [==============================] - 0s 33us/step - loss: 0.2094 - accuracy: 0.9483\n",
      "Epoch 34/100\n",
      "1800/1800 [==============================] - 0s 26us/step - loss: 0.2017 - accuracy: 0.9506\n",
      "Epoch 35/100\n",
      "1800/1800 [==============================] - 0s 35us/step - loss: 0.1950 - accuracy: 0.9483\n",
      "Epoch 36/100\n",
      "1800/1800 [==============================] - 0s 56us/step - loss: 0.1876 - accuracy: 0.9517\n",
      "Epoch 37/100\n",
      "1800/1800 [==============================] - 0s 36us/step - loss: 0.1815 - accuracy: 0.9533\n",
      "Epoch 38/100\n",
      "1800/1800 [==============================] - 0s 36us/step - loss: 0.1754 - accuracy: 0.9539\n",
      "Epoch 39/100\n",
      "1800/1800 [==============================] - 0s 33us/step - loss: 0.1702 - accuracy: 0.9550\n",
      "Epoch 40/100\n",
      "1800/1800 [==============================] - 0s 35us/step - loss: 0.1657 - accuracy: 0.9567\n",
      "Epoch 41/100\n",
      "1800/1800 [==============================] - 0s 38us/step - loss: 0.1613 - accuracy: 0.9583\n",
      "Epoch 42/100\n",
      "1800/1800 [==============================] - 0s 38us/step - loss: 0.1560 - accuracy: 0.9572\n",
      "Epoch 43/100\n",
      "1800/1800 [==============================] - 0s 32us/step - loss: 0.1513 - accuracy: 0.9572\n",
      "Epoch 44/100\n",
      "1800/1800 [==============================] - 0s 39us/step - loss: 0.1480 - accuracy: 0.9583\n",
      "Epoch 45/100\n",
      "1800/1800 [==============================] - 0s 28us/step - loss: 0.1440 - accuracy: 0.9606\n",
      "Epoch 46/100\n",
      "1800/1800 [==============================] - 0s 46us/step - loss: 0.1420 - accuracy: 0.9589\n",
      "Epoch 47/100\n",
      "1800/1800 [==============================] - 0s 35us/step - loss: 0.1391 - accuracy: 0.9633\n",
      "Epoch 48/100\n",
      "1800/1800 [==============================] - 0s 29us/step - loss: 0.1347 - accuracy: 0.9622\n",
      "Epoch 49/100\n",
      "1800/1800 [==============================] - 0s 31us/step - loss: 0.1315 - accuracy: 0.9639\n",
      "Epoch 50/100\n",
      "1800/1800 [==============================] - 0s 28us/step - loss: 0.1283 - accuracy: 0.9639\n",
      "Epoch 51/100\n",
      "1800/1800 [==============================] - 0s 35us/step - loss: 0.1251 - accuracy: 0.9644\n",
      "Epoch 52/100\n",
      "1800/1800 [==============================] - 0s 30us/step - loss: 0.1221 - accuracy: 0.9661\n",
      "Epoch 53/100\n",
      "1800/1800 [==============================] - 0s 30us/step - loss: 0.1200 - accuracy: 0.9656\n",
      "Epoch 54/100\n",
      "1800/1800 [==============================] - 0s 26us/step - loss: 0.1176 - accuracy: 0.9694\n",
      "Epoch 55/100\n",
      "1800/1800 [==============================] - 0s 26us/step - loss: 0.1149 - accuracy: 0.9683\n",
      "Epoch 56/100\n",
      "1800/1800 [==============================] - 0s 25us/step - loss: 0.1121 - accuracy: 0.9694\n",
      "Epoch 57/100\n",
      "1800/1800 [==============================] - 0s 41us/step - loss: 0.1105 - accuracy: 0.9700\n",
      "Epoch 58/100\n",
      "1800/1800 [==============================] - 0s 35us/step - loss: 0.1070 - accuracy: 0.9717\n",
      "Epoch 59/100\n",
      "1800/1800 [==============================] - 0s 37us/step - loss: 0.1059 - accuracy: 0.9706\n",
      "Epoch 60/100\n",
      "1800/1800 [==============================] - 0s 30us/step - loss: 0.1034 - accuracy: 0.9756\n",
      "Epoch 61/100\n",
      "1800/1800 [==============================] - 0s 36us/step - loss: 0.1016 - accuracy: 0.9722\n",
      "Epoch 62/100\n",
      "1800/1800 [==============================] - 0s 40us/step - loss: 0.0999 - accuracy: 0.9728\n",
      "Epoch 63/100\n",
      "1800/1800 [==============================] - 0s 49us/step - loss: 0.0973 - accuracy: 0.9733\n",
      "Epoch 64/100\n",
      "1800/1800 [==============================] - 0s 43us/step - loss: 0.0959 - accuracy: 0.9744\n",
      "Epoch 65/100\n",
      "1800/1800 [==============================] - 0s 35us/step - loss: 0.0940 - accuracy: 0.9772\n",
      "Epoch 66/100\n",
      "1800/1800 [==============================] - 0s 27us/step - loss: 0.0915 - accuracy: 0.9794\n",
      "Epoch 67/100\n",
      "1800/1800 [==============================] - 0s 28us/step - loss: 0.0908 - accuracy: 0.9767\n",
      "Epoch 68/100\n",
      "1800/1800 [==============================] - 0s 30us/step - loss: 0.0889 - accuracy: 0.9783\n",
      "Epoch 69/100\n",
      "1800/1800 [==============================] - 0s 32us/step - loss: 0.0878 - accuracy: 0.9789\n",
      "Epoch 70/100\n",
      "1800/1800 [==============================] - 0s 30us/step - loss: 0.0848 - accuracy: 0.9789\n",
      "Epoch 71/100\n",
      "1800/1800 [==============================] - 0s 32us/step - loss: 0.0836 - accuracy: 0.9833\n",
      "Epoch 72/100\n",
      "1800/1800 [==============================] - 0s 30us/step - loss: 0.0819 - accuracy: 0.9794\n",
      "Epoch 73/100\n",
      "1800/1800 [==============================] - 0s 33us/step - loss: 0.0816 - accuracy: 0.9844\n",
      "Epoch 74/100\n",
      "1800/1800 [==============================] - 0s 29us/step - loss: 0.0786 - accuracy: 0.9828\n",
      "Epoch 75/100\n",
      "1800/1800 [==============================] - 0s 30us/step - loss: 0.0769 - accuracy: 0.9867\n",
      "Epoch 76/100\n",
      "1800/1800 [==============================] - 0s 41us/step - loss: 0.0753 - accuracy: 0.9822\n",
      "Epoch 77/100\n",
      "1800/1800 [==============================] - 0s 34us/step - loss: 0.0745 - accuracy: 0.9856\n",
      "Epoch 78/100\n",
      "1800/1800 [==============================] - 0s 37us/step - loss: 0.0733 - accuracy: 0.9828\n",
      "Epoch 79/100\n"
     ]
    },
    {
     "name": "stdout",
     "output_type": "stream",
     "text": [
      "1800/1800 [==============================] - 0s 27us/step - loss: 0.0724 - accuracy: 0.9850\n",
      "Epoch 80/100\n",
      "1800/1800 [==============================] - 0s 38us/step - loss: 0.0718 - accuracy: 0.9850\n",
      "Epoch 81/100\n",
      "1800/1800 [==============================] - 0s 36us/step - loss: 0.0705 - accuracy: 0.9839\n",
      "Epoch 82/100\n",
      "1800/1800 [==============================] - 0s 37us/step - loss: 0.0693 - accuracy: 0.9872\n",
      "Epoch 83/100\n",
      "1800/1800 [==============================] - 0s 43us/step - loss: 0.0670 - accuracy: 0.9867\n",
      "Epoch 84/100\n",
      "1800/1800 [==============================] - 0s 28us/step - loss: 0.0662 - accuracy: 0.9872\n",
      "Epoch 85/100\n",
      "1800/1800 [==============================] - 0s 129us/step - loss: 0.0643 - accuracy: 0.9894\n",
      "Epoch 86/100\n",
      "1800/1800 [==============================] - 0s 64us/step - loss: 0.0640 - accuracy: 0.9878\n",
      "Epoch 87/100\n",
      "1800/1800 [==============================] - 0s 44us/step - loss: 0.0625 - accuracy: 0.9894\n",
      "Epoch 88/100\n",
      "1800/1800 [==============================] - 0s 47us/step - loss: 0.0625 - accuracy: 0.9878\n",
      "Epoch 89/100\n",
      "1800/1800 [==============================] - 0s 53us/step - loss: 0.0606 - accuracy: 0.9889\n",
      "Epoch 90/100\n",
      "1800/1800 [==============================] - 0s 66us/step - loss: 0.0622 - accuracy: 0.9878\n",
      "Epoch 91/100\n",
      "1800/1800 [==============================] - 0s 66us/step - loss: 0.0589 - accuracy: 0.9894\n",
      "Epoch 92/100\n",
      "1800/1800 [==============================] - 0s 115us/step - loss: 0.0584 - accuracy: 0.9911\n",
      "Epoch 93/100\n",
      "1800/1800 [==============================] - 0s 75us/step - loss: 0.0568 - accuracy: 0.9917\n",
      "Epoch 94/100\n",
      "1800/1800 [==============================] - 0s 87us/step - loss: 0.0556 - accuracy: 0.9900\n",
      "Epoch 95/100\n",
      "1800/1800 [==============================] - 0s 109us/step - loss: 0.0546 - accuracy: 0.9917\n",
      "Epoch 96/100\n",
      "1800/1800 [==============================] - 0s 64us/step - loss: 0.0537 - accuracy: 0.9928 0s - loss: 0.0572 - accuracy: 0.\n",
      "Epoch 97/100\n",
      "1800/1800 [==============================] - 0s 55us/step - loss: 0.0528 - accuracy: 0.9928\n",
      "Epoch 98/100\n",
      "1800/1800 [==============================] - 0s 49us/step - loss: 0.0551 - accuracy: 0.9906\n",
      "Epoch 99/100\n",
      "1800/1800 [==============================] - 0s 48us/step - loss: 0.0512 - accuracy: 0.9933\n",
      "Epoch 100/100\n",
      "1800/1800 [==============================] - 0s 66us/step - loss: 0.0509 - accuracy: 0.9922\n"
     ]
    }
   ],
   "source": [
    "history = model.fit(X_train, y_train, epochs=100, batch_size=64)"
   ]
  },
  {
   "cell_type": "code",
   "execution_count": 39,
   "metadata": {},
   "outputs": [],
   "source": [
    "y_pred = model.predict(X_test)\n",
    "#Converting predictions to label\n",
    "pred = list()\n",
    "for i in range(len(y_pred)):\n",
    "    pred.append(np.argmax(y_pred[i]))"
   ]
  },
  {
   "cell_type": "code",
   "execution_count": 40,
   "metadata": {},
   "outputs": [],
   "source": [
    "#Converting one hot encoded test label to label\n",
    "test = list()\n",
    "for i in range(len(y_test)):\n",
    "    test.append(np.argmax(y_test[i]))"
   ]
  },
  {
   "cell_type": "code",
   "execution_count": 41,
   "metadata": {},
   "outputs": [
    {
     "name": "stdout",
     "output_type": "stream",
     "text": [
      "Accuracy is: 88.0\n"
     ]
    }
   ],
   "source": [
    "from sklearn.metrics import accuracy_score\n",
    "a = accuracy_score(pred,test)\n",
    "print('Accuracy is:', a*100)"
   ]
  },
  {
   "cell_type": "code",
   "execution_count": 42,
   "metadata": {},
   "outputs": [
    {
     "name": "stdout",
     "output_type": "stream",
     "text": [
      "Train on 1800 samples, validate on 200 samples\n",
      "Epoch 1/100\n",
      "1800/1800 [==============================] - 0s 98us/step - loss: 0.0497 - accuracy: 0.9944 - val_loss: 0.2634 - val_accuracy: 0.8750\n",
      "Epoch 2/100\n",
      "1800/1800 [==============================] - 0s 63us/step - loss: 0.0500 - accuracy: 0.9928 - val_loss: 0.2753 - val_accuracy: 0.8750\n",
      "Epoch 3/100\n",
      "1800/1800 [==============================] - 0s 62us/step - loss: 0.0483 - accuracy: 0.9950 - val_loss: 0.2744 - val_accuracy: 0.8750\n",
      "Epoch 4/100\n",
      "1800/1800 [==============================] - 0s 50us/step - loss: 0.0485 - accuracy: 0.9944 - val_loss: 0.2625 - val_accuracy: 0.8850\n",
      "Epoch 5/100\n",
      "1800/1800 [==============================] - 0s 51us/step - loss: 0.0473 - accuracy: 0.9939 - val_loss: 0.2676 - val_accuracy: 0.8800\n",
      "Epoch 6/100\n",
      "1800/1800 [==============================] - 0s 57us/step - loss: 0.0459 - accuracy: 0.9961 - val_loss: 0.2655 - val_accuracy: 0.8800\n",
      "Epoch 7/100\n",
      "1800/1800 [==============================] - 0s 83us/step - loss: 0.0448 - accuracy: 0.9944 - val_loss: 0.2752 - val_accuracy: 0.8800\n",
      "Epoch 8/100\n",
      "1800/1800 [==============================] - 0s 88us/step - loss: 0.0449 - accuracy: 0.9956 - val_loss: 0.2701 - val_accuracy: 0.8800\n",
      "Epoch 9/100\n",
      "1800/1800 [==============================] - 0s 185us/step - loss: 0.0439 - accuracy: 0.9956 - val_loss: 0.2745 - val_accuracy: 0.8750\n",
      "Epoch 10/100\n",
      "1800/1800 [==============================] - 0s 92us/step - loss: 0.0432 - accuracy: 0.9961 - val_loss: 0.2750 - val_accuracy: 0.8900\n",
      "Epoch 11/100\n",
      "1800/1800 [==============================] - 0s 85us/step - loss: 0.0428 - accuracy: 0.9944 - val_loss: 0.2678 - val_accuracy: 0.8800\n",
      "Epoch 12/100\n",
      "1800/1800 [==============================] - 0s 99us/step - loss: 0.0426 - accuracy: 0.9933 - val_loss: 0.2898 - val_accuracy: 0.8800\n",
      "Epoch 13/100\n",
      "1800/1800 [==============================] - 0s 88us/step - loss: 0.0439 - accuracy: 0.9956 - val_loss: 0.2686 - val_accuracy: 0.8900\n",
      "Epoch 14/100\n",
      "1800/1800 [==============================] - 0s 74us/step - loss: 0.0430 - accuracy: 0.9956 - val_loss: 0.2808 - val_accuracy: 0.8800\n",
      "Epoch 15/100\n",
      "1800/1800 [==============================] - 0s 71us/step - loss: 0.0398 - accuracy: 0.9961 - val_loss: 0.2877 - val_accuracy: 0.8850\n",
      "Epoch 16/100\n",
      "1800/1800 [==============================] - 0s 110us/step - loss: 0.0417 - accuracy: 0.9961 - val_loss: 0.2784 - val_accuracy: 0.8850\n",
      "Epoch 17/100\n",
      "1800/1800 [==============================] - 0s 102us/step - loss: 0.0382 - accuracy: 0.9983 - val_loss: 0.2852 - val_accuracy: 0.8900\n",
      "Epoch 18/100\n",
      "1800/1800 [==============================] - 0s 126us/step - loss: 0.0373 - accuracy: 0.9978 - val_loss: 0.2889 - val_accuracy: 0.8900\n",
      "Epoch 19/100\n",
      "1800/1800 [==============================] - 0s 84us/step - loss: 0.0375 - accuracy: 0.9967 - val_loss: 0.2951 - val_accuracy: 0.8850\n",
      "Epoch 20/100\n",
      "1800/1800 [==============================] - 0s 93us/step - loss: 0.0361 - accuracy: 0.9978 - val_loss: 0.2947 - val_accuracy: 0.8900\n",
      "Epoch 21/100\n",
      "1800/1800 [==============================] - 0s 116us/step - loss: 0.0358 - accuracy: 0.9978 - val_loss: 0.2911 - val_accuracy: 0.8950\n",
      "Epoch 22/100\n",
      "1800/1800 [==============================] - 0s 83us/step - loss: 0.0349 - accuracy: 0.9978 - val_loss: 0.2923 - val_accuracy: 0.8900\n",
      "Epoch 23/100\n",
      "1800/1800 [==============================] - 0s 88us/step - loss: 0.0355 - accuracy: 0.9967 - val_loss: 0.3008 - val_accuracy: 0.8850\n",
      "Epoch 24/100\n",
      "1800/1800 [==============================] - 0s 73us/step - loss: 0.0343 - accuracy: 0.9983 - val_loss: 0.3022 - val_accuracy: 0.8850\n",
      "Epoch 25/100\n",
      "1800/1800 [==============================] - 0s 61us/step - loss: 0.0336 - accuracy: 0.9989 - val_loss: 0.2937 - val_accuracy: 0.8850\n",
      "Epoch 26/100\n",
      "1800/1800 [==============================] - 0s 71us/step - loss: 0.0334 - accuracy: 0.9967 - val_loss: 0.3050 - val_accuracy: 0.8900\n",
      "Epoch 27/100\n",
      "1800/1800 [==============================] - 0s 38us/step - loss: 0.0324 - accuracy: 0.9983 - val_loss: 0.2968 - val_accuracy: 0.8850\n",
      "Epoch 28/100\n",
      "1800/1800 [==============================] - 0s 36us/step - loss: 0.0328 - accuracy: 0.9972 - val_loss: 0.3000 - val_accuracy: 0.8850\n",
      "Epoch 29/100\n",
      "1800/1800 [==============================] - 0s 54us/step - loss: 0.0324 - accuracy: 0.9978 - val_loss: 0.3086 - val_accuracy: 0.8900\n",
      "Epoch 30/100\n",
      "1800/1800 [==============================] - 0s 58us/step - loss: 0.0309 - accuracy: 0.9989 - val_loss: 0.3060 - val_accuracy: 0.8900\n",
      "Epoch 31/100\n",
      "1800/1800 [==============================] - 0s 62us/step - loss: 0.0304 - accuracy: 0.9983 - val_loss: 0.3057 - val_accuracy: 0.8950\n",
      "Epoch 32/100\n",
      "1800/1800 [==============================] - 0s 64us/step - loss: 0.0303 - accuracy: 0.9989 - val_loss: 0.2992 - val_accuracy: 0.8900\n",
      "Epoch 33/100\n",
      "1800/1800 [==============================] - 0s 90us/step - loss: 0.0304 - accuracy: 0.9978 - val_loss: 0.3103 - val_accuracy: 0.8900\n",
      "Epoch 34/100\n",
      "1800/1800 [==============================] - 0s 66us/step - loss: 0.0298 - accuracy: 0.9983 - val_loss: 0.3111 - val_accuracy: 0.8900\n",
      "Epoch 35/100\n",
      "1800/1800 [==============================] - 0s 62us/step - loss: 0.0295 - accuracy: 0.9989 - val_loss: 0.3083 - val_accuracy: 0.8950\n",
      "Epoch 36/100\n",
      "1800/1800 [==============================] - 0s 62us/step - loss: 0.0281 - accuracy: 0.9989 - val_loss: 0.3121 - val_accuracy: 0.8900\n",
      "Epoch 37/100\n",
      "1800/1800 [==============================] - 0s 48us/step - loss: 0.0283 - accuracy: 0.9989 - val_loss: 0.3152 - val_accuracy: 0.8950\n",
      "Epoch 38/100\n",
      "1800/1800 [==============================] - 0s 40us/step - loss: 0.0274 - accuracy: 0.9989 - val_loss: 0.3200 - val_accuracy: 0.9000\n",
      "Epoch 39/100\n",
      "1800/1800 [==============================] - 0s 34us/step - loss: 0.0269 - accuracy: 0.9994 - val_loss: 0.3231 - val_accuracy: 0.8950\n",
      "Epoch 40/100\n",
      "1800/1800 [==============================] - 0s 29us/step - loss: 0.0265 - accuracy: 0.9994 - val_loss: 0.3224 - val_accuracy: 0.8950\n",
      "Epoch 41/100\n",
      "1800/1800 [==============================] - 0s 26us/step - loss: 0.0260 - accuracy: 0.9994 - val_loss: 0.3226 - val_accuracy: 0.9000\n",
      "Epoch 42/100\n",
      "1800/1800 [==============================] - 0s 31us/step - loss: 0.0262 - accuracy: 0.9989 - val_loss: 0.3357 - val_accuracy: 0.9000\n",
      "Epoch 43/100\n",
      "1800/1800 [==============================] - 0s 34us/step - loss: 0.0254 - accuracy: 0.9989 - val_loss: 0.3296 - val_accuracy: 0.8950\n",
      "Epoch 44/100\n",
      "1800/1800 [==============================] - 0s 37us/step - loss: 0.0245 - accuracy: 0.9989 - val_loss: 0.3362 - val_accuracy: 0.8950\n",
      "Epoch 45/100\n",
      "1800/1800 [==============================] - 0s 56us/step - loss: 0.0258 - accuracy: 0.9983 - val_loss: 0.3368 - val_accuracy: 0.8900\n",
      "Epoch 46/100\n",
      "1800/1800 [==============================] - 0s 29us/step - loss: 0.0247 - accuracy: 0.9989 - val_loss: 0.3363 - val_accuracy: 0.9000\n",
      "Epoch 47/100\n",
      "1800/1800 [==============================] - 0s 32us/step - loss: 0.0237 - accuracy: 0.9989 - val_loss: 0.3428 - val_accuracy: 0.8950\n",
      "Epoch 48/100\n",
      "1800/1800 [==============================] - 0s 43us/step - loss: 0.0234 - accuracy: 0.9994 - val_loss: 0.3489 - val_accuracy: 0.9000\n",
      "Epoch 49/100\n",
      "1800/1800 [==============================] - 0s 102us/step - loss: 0.0226 - accuracy: 0.9994 - val_loss: 0.3498 - val_accuracy: 0.9000\n",
      "Epoch 50/100\n",
      "1800/1800 [==============================] - 0s 59us/step - loss: 0.0239 - accuracy: 0.9994 - val_loss: 0.3465 - val_accuracy: 0.9000\n",
      "Epoch 51/100\n",
      "1800/1800 [==============================] - 0s 92us/step - loss: 0.0235 - accuracy: 0.9983 - val_loss: 0.3510 - val_accuracy: 0.9000\n",
      "Epoch 52/100\n",
      "1800/1800 [==============================] - 0s 74us/step - loss: 0.0219 - accuracy: 0.9994 - val_loss: 0.3554 - val_accuracy: 0.9000\n",
      "Epoch 53/100\n",
      "1800/1800 [==============================] - 0s 49us/step - loss: 0.0217 - accuracy: 1.0000 - val_loss: 0.3490 - val_accuracy: 0.8950\n",
      "Epoch 54/100\n",
      "1800/1800 [==============================] - 0s 83us/step - loss: 0.0215 - accuracy: 0.9994 - val_loss: 0.3508 - val_accuracy: 0.9000\n",
      "Epoch 55/100\n",
      "1800/1800 [==============================] - 0s 81us/step - loss: 0.0210 - accuracy: 0.9989 - val_loss: 0.3449 - val_accuracy: 0.9000\n",
      "Epoch 56/100\n"
     ]
    },
    {
     "name": "stdout",
     "output_type": "stream",
     "text": [
      "1800/1800 [==============================] - 0s 61us/step - loss: 0.0204 - accuracy: 0.9994 - val_loss: 0.3510 - val_accuracy: 0.9000\n",
      "Epoch 57/100\n",
      "1800/1800 [==============================] - 0s 58us/step - loss: 0.0198 - accuracy: 0.9994 - val_loss: 0.3547 - val_accuracy: 0.9000\n",
      "Epoch 58/100\n",
      "1800/1800 [==============================] - 0s 89us/step - loss: 0.0198 - accuracy: 0.9989 - val_loss: 0.3641 - val_accuracy: 0.9000\n",
      "Epoch 59/100\n",
      "1800/1800 [==============================] - 0s 45us/step - loss: 0.0191 - accuracy: 0.9994 - val_loss: 0.3596 - val_accuracy: 0.9000\n",
      "Epoch 60/100\n",
      "1800/1800 [==============================] - 0s 58us/step - loss: 0.0190 - accuracy: 0.9994 - val_loss: 0.3497 - val_accuracy: 0.9000\n",
      "Epoch 61/100\n",
      "1800/1800 [==============================] - 0s 66us/step - loss: 0.0186 - accuracy: 0.9994 - val_loss: 0.3630 - val_accuracy: 0.9000\n",
      "Epoch 62/100\n",
      "1800/1800 [==============================] - 0s 41us/step - loss: 0.0179 - accuracy: 0.9994 - val_loss: 0.3634 - val_accuracy: 0.8950\n",
      "Epoch 63/100\n",
      "1800/1800 [==============================] - 0s 59us/step - loss: 0.0178 - accuracy: 0.9994 - val_loss: 0.3699 - val_accuracy: 0.9000\n",
      "Epoch 64/100\n",
      "1800/1800 [==============================] - 0s 64us/step - loss: 0.0181 - accuracy: 1.0000 - val_loss: 0.3670 - val_accuracy: 0.9000\n",
      "Epoch 65/100\n",
      "1800/1800 [==============================] - 0s 57us/step - loss: 0.0177 - accuracy: 0.9994 - val_loss: 0.3716 - val_accuracy: 0.9000\n",
      "Epoch 66/100\n",
      "1800/1800 [==============================] - 0s 49us/step - loss: 0.0174 - accuracy: 1.0000 - val_loss: 0.3761 - val_accuracy: 0.9050\n",
      "Epoch 67/100\n",
      "1800/1800 [==============================] - 0s 49us/step - loss: 0.0172 - accuracy: 1.0000 - val_loss: 0.3689 - val_accuracy: 0.9000\n",
      "Epoch 68/100\n",
      "1800/1800 [==============================] - 0s 72us/step - loss: 0.0165 - accuracy: 1.0000 - val_loss: 0.3701 - val_accuracy: 0.9000\n",
      "Epoch 69/100\n",
      "1800/1800 [==============================] - 0s 50us/step - loss: 0.0160 - accuracy: 1.0000 - val_loss: 0.3757 - val_accuracy: 0.9000\n",
      "Epoch 70/100\n",
      "1800/1800 [==============================] - 0s 72us/step - loss: 0.0160 - accuracy: 0.9994 - val_loss: 0.3714 - val_accuracy: 0.9000\n",
      "Epoch 71/100\n",
      "1800/1800 [==============================] - 0s 61us/step - loss: 0.0158 - accuracy: 1.0000 - val_loss: 0.3781 - val_accuracy: 0.9000\n",
      "Epoch 72/100\n",
      "1800/1800 [==============================] - 0s 48us/step - loss: 0.0158 - accuracy: 1.0000 - val_loss: 0.3804 - val_accuracy: 0.9000\n",
      "Epoch 73/100\n",
      "1800/1800 [==============================] - 0s 69us/step - loss: 0.0154 - accuracy: 0.9994 - val_loss: 0.3892 - val_accuracy: 0.9000\n",
      "Epoch 74/100\n",
      "1800/1800 [==============================] - 0s 91us/step - loss: 0.0168 - accuracy: 0.9994 - val_loss: 0.3841 - val_accuracy: 0.9000\n",
      "Epoch 75/100\n",
      "1800/1800 [==============================] - 0s 59us/step - loss: 0.0149 - accuracy: 1.0000 - val_loss: 0.3847 - val_accuracy: 0.9000\n",
      "Epoch 76/100\n",
      "1800/1800 [==============================] - 0s 44us/step - loss: 0.0155 - accuracy: 1.0000 - val_loss: 0.3740 - val_accuracy: 0.9100\n",
      "Epoch 77/100\n",
      "1800/1800 [==============================] - 0s 57us/step - loss: 0.0147 - accuracy: 1.0000 - val_loss: 0.3830 - val_accuracy: 0.9050\n",
      "Epoch 78/100\n",
      "1800/1800 [==============================] - 0s 51us/step - loss: 0.0142 - accuracy: 1.0000 - val_loss: 0.3926 - val_accuracy: 0.9000\n",
      "Epoch 79/100\n",
      "1800/1800 [==============================] - 0s 50us/step - loss: 0.0138 - accuracy: 1.0000 - val_loss: 0.3827 - val_accuracy: 0.9050\n",
      "Epoch 80/100\n",
      "1800/1800 [==============================] - 0s 49us/step - loss: 0.0137 - accuracy: 1.0000 - val_loss: 0.3914 - val_accuracy: 0.9000\n",
      "Epoch 81/100\n",
      "1800/1800 [==============================] - 0s 54us/step - loss: 0.0132 - accuracy: 1.0000 - val_loss: 0.3910 - val_accuracy: 0.9000\n",
      "Epoch 82/100\n",
      "1800/1800 [==============================] - 0s 46us/step - loss: 0.0132 - accuracy: 1.0000 - val_loss: 0.3920 - val_accuracy: 0.9000\n",
      "Epoch 83/100\n",
      "1800/1800 [==============================] - 0s 41us/step - loss: 0.0149 - accuracy: 1.0000 - val_loss: 0.4025 - val_accuracy: 0.9050\n",
      "Epoch 84/100\n",
      "1800/1800 [==============================] - 0s 37us/step - loss: 0.0131 - accuracy: 1.0000 - val_loss: 0.3987 - val_accuracy: 0.9000\n",
      "Epoch 85/100\n",
      "1800/1800 [==============================] - 0s 50us/step - loss: 0.0128 - accuracy: 1.0000 - val_loss: 0.3945 - val_accuracy: 0.9000\n",
      "Epoch 86/100\n",
      "1800/1800 [==============================] - 0s 33us/step - loss: 0.0126 - accuracy: 1.0000 - val_loss: 0.3943 - val_accuracy: 0.9000\n",
      "Epoch 87/100\n",
      "1800/1800 [==============================] - 0s 45us/step - loss: 0.0121 - accuracy: 1.0000 - val_loss: 0.3980 - val_accuracy: 0.9000\n",
      "Epoch 88/100\n",
      "1800/1800 [==============================] - 0s 93us/step - loss: 0.0123 - accuracy: 1.0000 - val_loss: 0.3968 - val_accuracy: 0.9050\n",
      "Epoch 89/100\n",
      "1800/1800 [==============================] - 0s 41us/step - loss: 0.0119 - accuracy: 1.0000 - val_loss: 0.4038 - val_accuracy: 0.9050\n",
      "Epoch 90/100\n",
      "1800/1800 [==============================] - 0s 44us/step - loss: 0.0116 - accuracy: 1.0000 - val_loss: 0.4061 - val_accuracy: 0.9000\n",
      "Epoch 91/100\n",
      "1800/1800 [==============================] - 0s 32us/step - loss: 0.0116 - accuracy: 1.0000 - val_loss: 0.3932 - val_accuracy: 0.9100\n",
      "Epoch 92/100\n",
      "1800/1800 [==============================] - 0s 33us/step - loss: 0.0113 - accuracy: 1.0000 - val_loss: 0.4096 - val_accuracy: 0.9050\n",
      "Epoch 93/100\n",
      "1800/1800 [==============================] - 0s 38us/step - loss: 0.0108 - accuracy: 1.0000 - val_loss: 0.4036 - val_accuracy: 0.9100\n",
      "Epoch 94/100\n",
      "1800/1800 [==============================] - 0s 47us/step - loss: 0.0107 - accuracy: 1.0000 - val_loss: 0.4119 - val_accuracy: 0.9050\n",
      "Epoch 95/100\n",
      "1800/1800 [==============================] - 0s 37us/step - loss: 0.0109 - accuracy: 1.0000 - val_loss: 0.4065 - val_accuracy: 0.9050\n",
      "Epoch 96/100\n",
      "1800/1800 [==============================] - 0s 127us/step - loss: 0.0105 - accuracy: 1.0000 - val_loss: 0.3982 - val_accuracy: 0.9100\n",
      "Epoch 97/100\n",
      "1800/1800 [==============================] - 0s 40us/step - loss: 0.0102 - accuracy: 1.0000 - val_loss: 0.4118 - val_accuracy: 0.9050\n",
      "Epoch 98/100\n",
      "1800/1800 [==============================] - 0s 42us/step - loss: 0.0100 - accuracy: 1.0000 - val_loss: 0.4046 - val_accuracy: 0.9100\n",
      "Epoch 99/100\n",
      "1800/1800 [==============================] - 0s 38us/step - loss: 0.0098 - accuracy: 1.0000 - val_loss: 0.4127 - val_accuracy: 0.9050\n",
      "Epoch 100/100\n",
      "1800/1800 [==============================] - 0s 45us/step - loss: 0.0103 - accuracy: 1.0000 - val_loss: 0.4088 - val_accuracy: 0.9050\n"
     ]
    }
   ],
   "source": [
    "#Using test data as validation data.\n",
    "history1 = model.fit(X_train, y_train,validation_data = (X_test,y_test), epochs=100, batch_size=64)"
   ]
  },
  {
   "cell_type": "code",
   "execution_count": 43,
   "metadata": {},
   "outputs": [
    {
     "data": {
      "image/png": "[encoded data removed]",
      "text/plain": [
       "<Figure size 432x288 with 1 Axes>"
      ]
     },
     "metadata": {
      "needs_background": "light"
     },
     "output_type": "display_data"
    }
   ],
   "source": [
    "plt.plot(history.history['accuracy'])\n",
    "plt.plot(history1.history['val_accuracy'])\n",
    "plt.title('Model accuracy')\n",
    "plt.ylabel('Accuracy')\n",
    "plt.xlabel('Epoch')\n",
    "plt.legend(['Train', 'Test'], loc='upper left')\n",
    "plt.show()"
   ]
  },
  {
   "cell_type": "code",
   "execution_count": 44,
   "metadata": {},
   "outputs": [
    {
     "data": {
      "image/png": "[encoded data removed]",
      "text/plain": [
       "<Figure size 432x288 with 1 Axes>"
      ]
     },
     "metadata": {
      "needs_background": "light"
     },
     "output_type": "display_data"
    }
   ],
   "source": [
    "plt.plot(history.history['loss'])\n",
    "plt.plot(history1.history['val_loss'])\n",
    "plt.title('Model loss')\n",
    "plt.ylabel('Loss')\n",
    "plt.xlabel('Epoch')\n",
    "plt.legend(['Train', 'Test'], loc='upper left')\n",
    "plt.show()"
   ]
  },
  {
   "cell_type": "code",
   "execution_count": null,
   "metadata": {},
   "outputs": [],
   "source": []
  }
 ],
 "metadata": {
  "kernelspec": {
   "display_name": "Python 3",
   "language": "python",
   "name": "python3"
  },
  "language_info": {
   "codemirror_mode": {
    "name": "ipython",
    "version": 3
   },
   "file_extension": ".py",
   "mimetype": "text/x-python",
   "name": "python",
   "nbconvert_exporter": "python",
   "pygments_lexer": "ipython3",
   "version": "3.7.6-final"
  }
 },
 "nbformat": 4,
 "nbformat_minor": 2
}