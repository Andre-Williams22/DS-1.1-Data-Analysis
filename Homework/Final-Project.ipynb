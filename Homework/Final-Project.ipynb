{
 "cells": [
  {
   "cell_type": "markdown",
   "metadata": {
    "slideshow": {
     "slide_type": "slide"
    }
   },
   "source": [
    "# Goals For Project\n",
    "- Determine whether a visitor will generate revenue for a company of not \n",
    "- Provide Data Visualizations \n",
    "- Provide Statistical Analysis\n",
    "- Build an Artificial Neural Network to predict the likelihood of a visitor generating revenue for the company"
   ]
  },
  {
   "cell_type": "code",
   "execution_count": 9,
   "metadata": {
    "slideshow": {
     "slide_type": "skip"
    }
   },
   "outputs": [
    {
     "name": "stdout",
     "output_type": "stream",
     "text": [
      "Collecting tensorflow==1.13.2\n",
      "  Downloading tensorflow-1.13.2-cp37-cp37m-macosx_10_11_x86_64.whl (73.6 MB)\n",
      "\u001b[K     |████████████████████████████████| 73.6 MB 115 kB/s eta 0:00:01    |███                             | 7.0 MB 6.0 MB/s eta 0:00:12     |█████▌                          | 12.6 MB 6.0 MB/s eta 0:00:11     |████████████████████████▏       | 55.6 MB 5.9 MB/s eta 0:00:04     |██████████████████████████▋     | 61.2 MB 1.8 MB/s eta 0:00:08     |████████████████████████████▋   | 65.8 MB 5.1 MB/s eta 0:00:02     |█████████████████████████████▋  | 68.0 MB 5.1 MB/s eta 0:00:02\n",
      "\u001b[?25hCollecting tensorflow-estimator<1.14.0rc0,>=1.13.0\n",
      "  Using cached tensorflow_estimator-1.13.0-py2.py3-none-any.whl (367 kB)\n",
      "Requirement already satisfied: protobuf>=3.6.1 in /Library/Frameworks/Python.framework/Versions/3.7/lib/python3.7/site-packages (from tensorflow==1.13.2) (3.8.0)\n",
      "Requirement already satisfied: wheel>=0.26 in /Library/Frameworks/Python.framework/Versions/3.7/lib/python3.7/site-packages (from tensorflow==1.13.2) (0.33.4)\n",
      "Requirement already satisfied: grpcio>=1.8.6 in /Library/Frameworks/Python.framework/Versions/3.7/lib/python3.7/site-packages (from tensorflow==1.13.2) (1.21.1)\n",
      "Requirement already satisfied: gast>=0.2.0 in /Library/Frameworks/Python.framework/Versions/3.7/lib/python3.7/site-packages (from tensorflow==1.13.2) (0.2.2)\n",
      "Requirement already satisfied: keras-preprocessing>=1.0.5 in /Library/Frameworks/Python.framework/Versions/3.7/lib/python3.7/site-packages (from tensorflow==1.13.2) (1.1.0)\n",
      "Requirement already satisfied: keras-applications>=1.0.6 in /Library/Frameworks/Python.framework/Versions/3.7/lib/python3.7/site-packages (from tensorflow==1.13.2) (1.0.8)\n",
      "Requirement already satisfied: termcolor>=1.1.0 in /Library/Frameworks/Python.framework/Versions/3.7/lib/python3.7/site-packages (from tensorflow==1.13.2) (1.1.0)\n",
      "Requirement already satisfied: numpy<2.0,>=1.16.0 in /Library/Frameworks/Python.framework/Versions/3.7/lib/python3.7/site-packages (from tensorflow==1.13.2) (1.18.1)\n",
      "Requirement already satisfied: astor>=0.6.0 in /Library/Frameworks/Python.framework/Versions/3.7/lib/python3.7/site-packages (from tensorflow==1.13.2) (0.8.0)\n",
      "Collecting tensorboard<1.14.0,>=1.13.0\n",
      "  Using cached tensorboard-1.13.1-py3-none-any.whl (3.2 MB)\n",
      "Requirement already satisfied: six>=1.10.0 in /Library/Frameworks/Python.framework/Versions/3.7/lib/python3.7/site-packages (from tensorflow==1.13.2) (1.12.0)\n",
      "Requirement already satisfied: absl-py>=0.1.6 in /Library/Frameworks/Python.framework/Versions/3.7/lib/python3.7/site-packages (from tensorflow==1.13.2) (0.7.1)\n",
      "Requirement already satisfied: mock>=2.0.0 in /Library/Frameworks/Python.framework/Versions/3.7/lib/python3.7/site-packages (from tensorflow-estimator<1.14.0rc0,>=1.13.0->tensorflow==1.13.2) (3.0.5)\n",
      "Requirement already satisfied: setuptools in /Library/Frameworks/Python.framework/Versions/3.7/lib/python3.7/site-packages (from protobuf>=3.6.1->tensorflow==1.13.2) (41.2.0)\n",
      "Requirement already satisfied: h5py in /Library/Frameworks/Python.framework/Versions/3.7/lib/python3.7/site-packages (from keras-applications>=1.0.6->tensorflow==1.13.2) (2.9.0)\n",
      "Requirement already satisfied: markdown>=2.6.8 in /Library/Frameworks/Python.framework/Versions/3.7/lib/python3.7/site-packages (from tensorboard<1.14.0,>=1.13.0->tensorflow==1.13.2) (3.1.1)\n",
      "Requirement already satisfied: werkzeug>=0.11.15 in /Library/Frameworks/Python.framework/Versions/3.7/lib/python3.7/site-packages (from tensorboard<1.14.0,>=1.13.0->tensorflow==1.13.2) (0.15.4)\n",
      "Installing collected packages: tensorflow-estimator, tensorboard, tensorflow\n",
      "  Attempting uninstall: tensorflow-estimator\n",
      "    Found existing installation: tensorflow-estimator 2.1.0\n",
      "    Uninstalling tensorflow-estimator-2.1.0:\n",
      "      Successfully uninstalled tensorflow-estimator-2.1.0\n",
      "  Attempting uninstall: tensorboard\n",
      "    Found existing installation: tensorboard 2.1.0\n",
      "    Uninstalling tensorboard-2.1.0:\n",
      "      Successfully uninstalled tensorboard-2.1.0\n",
      "  Attempting uninstall: tensorflow\n",
      "    Found existing installation: tensorflow 2.1.0\n",
      "    Uninstalling tensorflow-2.1.0:\n",
      "      Successfully uninstalled tensorflow-2.1.0\n",
      "Successfully installed tensorboard-1.13.1 tensorflow-1.13.2 tensorflow-estimator-1.13.0\n"
     ]
    }
   ],
   "source": [
    "import sys\n",
    "!{sys.executable} -m pip install tensorflow==1.13.2\n",
    "#!pip3 install tensorflow"
   ]
  },
  {
   "cell_type": "code",
   "execution_count": 1,
   "metadata": {
    "slideshow": {
     "slide_type": "slide"
    }
   },
   "outputs": [
    {
     "name": "stderr",
     "output_type": "stream",
     "text": [
      "/Library/Frameworks/Python.framework/Versions/3.7/lib/python3.7/site-packages/tensorflow/python/framework/dtypes.py:526: FutureWarning: Passing (type, 1) or '1type' as a synonym of type is deprecated; in a future version of numpy, it will be understood as (type, (1,)) / '(1,)type'.\n",
      "  _np_qint8 = np.dtype([(\"qint8\", np.int8, 1)])\n",
      "/Library/Frameworks/Python.framework/Versions/3.7/lib/python3.7/site-packages/tensorflow/python/framework/dtypes.py:527: FutureWarning: Passing (type, 1) or '1type' as a synonym of type is deprecated; in a future version of numpy, it will be understood as (type, (1,)) / '(1,)type'.\n",
      "  _np_quint8 = np.dtype([(\"quint8\", np.uint8, 1)])\n",
      "/Library/Frameworks/Python.framework/Versions/3.7/lib/python3.7/site-packages/tensorflow/python/framework/dtypes.py:528: FutureWarning: Passing (type, 1) or '1type' as a synonym of type is deprecated; in a future version of numpy, it will be understood as (type, (1,)) / '(1,)type'.\n",
      "  _np_qint16 = np.dtype([(\"qint16\", np.int16, 1)])\n",
      "/Library/Frameworks/Python.framework/Versions/3.7/lib/python3.7/site-packages/tensorflow/python/framework/dtypes.py:529: FutureWarning: Passing (type, 1) or '1type' as a synonym of type is deprecated; in a future version of numpy, it will be understood as (type, (1,)) / '(1,)type'.\n",
      "  _np_quint16 = np.dtype([(\"quint16\", np.uint16, 1)])\n",
      "/Library/Frameworks/Python.framework/Versions/3.7/lib/python3.7/site-packages/tensorflow/python/framework/dtypes.py:530: FutureWarning: Passing (type, 1) or '1type' as a synonym of type is deprecated; in a future version of numpy, it will be understood as (type, (1,)) / '(1,)type'.\n",
      "  _np_qint32 = np.dtype([(\"qint32\", np.int32, 1)])\n",
      "/Library/Frameworks/Python.framework/Versions/3.7/lib/python3.7/site-packages/tensorflow/python/framework/dtypes.py:535: FutureWarning: Passing (type, 1) or '1type' as a synonym of type is deprecated; in a future version of numpy, it will be understood as (type, (1,)) / '(1,)type'.\n",
      "  np_resource = np.dtype([(\"resource\", np.ubyte, 1)])\n",
      "Using TensorFlow backend.\n"
     ]
    },
    {
     "data": {
      "text/html": [
       "<div>\n",
       "<style scoped>\n",
       "    .dataframe tbody tr th:only-of-type {\n",
       "        vertical-align: middle;\n",
       "    }\n",
       "\n",
       "    .dataframe tbody tr th {\n",
       "        vertical-align: top;\n",
       "    }\n",
       "\n",
       "    .dataframe thead th {\n",
       "        text-align: right;\n",
       "    }\n",
       "</style>\n",
       "<table border=\"1\" class=\"dataframe\">\n",
       "  <thead>\n",
       "    <tr style=\"text-align: right;\">\n",
       "      <th></th>\n",
       "      <th>Administrative</th>\n",
       "      <th>Administrative_Duration</th>\n",
       "      <th>Informational</th>\n",
       "      <th>Informational_Duration</th>\n",
       "      <th>ProductRelated</th>\n",
       "      <th>ProductRelated_Duration</th>\n",
       "      <th>BounceRates</th>\n",
       "      <th>ExitRates</th>\n",
       "      <th>PageValues</th>\n",
       "      <th>SpecialDay</th>\n",
       "      <th>Month</th>\n",
       "      <th>OperatingSystems</th>\n",
       "      <th>Browser</th>\n",
       "      <th>Region</th>\n",
       "      <th>TrafficType</th>\n",
       "      <th>VisitorType</th>\n",
       "      <th>Weekend</th>\n",
       "      <th>Revenue</th>\n",
       "    </tr>\n",
       "  </thead>\n",
       "  <tbody>\n",
       "    <tr>\n",
       "      <th>5818</th>\n",
       "      <td>7</td>\n",
       "      <td>123.2</td>\n",
       "      <td>0</td>\n",
       "      <td>0.0</td>\n",
       "      <td>16</td>\n",
       "      <td>283.721429</td>\n",
       "      <td>0.014474</td>\n",
       "      <td>0.022222</td>\n",
       "      <td>0.000000</td>\n",
       "      <td>0.0</td>\n",
       "      <td>Jul</td>\n",
       "      <td>3</td>\n",
       "      <td>2</td>\n",
       "      <td>3</td>\n",
       "      <td>13</td>\n",
       "      <td>Returning_Visitor</td>\n",
       "      <td>False</td>\n",
       "      <td>False</td>\n",
       "    </tr>\n",
       "    <tr>\n",
       "      <th>8381</th>\n",
       "      <td>4</td>\n",
       "      <td>112.5</td>\n",
       "      <td>0</td>\n",
       "      <td>0.0</td>\n",
       "      <td>26</td>\n",
       "      <td>1657.000000</td>\n",
       "      <td>0.007407</td>\n",
       "      <td>0.020988</td>\n",
       "      <td>5.237225</td>\n",
       "      <td>0.0</td>\n",
       "      <td>Nov</td>\n",
       "      <td>2</td>\n",
       "      <td>2</td>\n",
       "      <td>1</td>\n",
       "      <td>13</td>\n",
       "      <td>Returning_Visitor</td>\n",
       "      <td>False</td>\n",
       "      <td>False</td>\n",
       "    </tr>\n",
       "    <tr>\n",
       "      <th>11672</th>\n",
       "      <td>0</td>\n",
       "      <td>0.0</td>\n",
       "      <td>0</td>\n",
       "      <td>0.0</td>\n",
       "      <td>2</td>\n",
       "      <td>66.500000</td>\n",
       "      <td>0.066667</td>\n",
       "      <td>0.166667</td>\n",
       "      <td>0.000000</td>\n",
       "      <td>0.0</td>\n",
       "      <td>Nov</td>\n",
       "      <td>3</td>\n",
       "      <td>2</td>\n",
       "      <td>3</td>\n",
       "      <td>13</td>\n",
       "      <td>Returning_Visitor</td>\n",
       "      <td>False</td>\n",
       "      <td>False</td>\n",
       "    </tr>\n",
       "    <tr>\n",
       "      <th>11710</th>\n",
       "      <td>0</td>\n",
       "      <td>0.0</td>\n",
       "      <td>0</td>\n",
       "      <td>0.0</td>\n",
       "      <td>14</td>\n",
       "      <td>1947.500000</td>\n",
       "      <td>0.000000</td>\n",
       "      <td>0.021429</td>\n",
       "      <td>0.000000</td>\n",
       "      <td>0.0</td>\n",
       "      <td>Nov</td>\n",
       "      <td>1</td>\n",
       "      <td>1</td>\n",
       "      <td>1</td>\n",
       "      <td>3</td>\n",
       "      <td>Returning_Visitor</td>\n",
       "      <td>False</td>\n",
       "      <td>False</td>\n",
       "    </tr>\n",
       "    <tr>\n",
       "      <th>11040</th>\n",
       "      <td>0</td>\n",
       "      <td>0.0</td>\n",
       "      <td>1</td>\n",
       "      <td>0.0</td>\n",
       "      <td>10</td>\n",
       "      <td>210.250000</td>\n",
       "      <td>0.000000</td>\n",
       "      <td>0.018182</td>\n",
       "      <td>0.000000</td>\n",
       "      <td>0.0</td>\n",
       "      <td>Nov</td>\n",
       "      <td>1</td>\n",
       "      <td>1</td>\n",
       "      <td>1</td>\n",
       "      <td>2</td>\n",
       "      <td>New_Visitor</td>\n",
       "      <td>False</td>\n",
       "      <td>False</td>\n",
       "    </tr>\n",
       "  </tbody>\n",
       "</table>\n",
       "</div>"
      ],
      "text/plain": [
       "       Administrative  Administrative_Duration  Informational  \\\n",
       "5818                7                    123.2              0   \n",
       "8381                4                    112.5              0   \n",
       "11672               0                      0.0              0   \n",
       "11710               0                      0.0              0   \n",
       "11040               0                      0.0              1   \n",
       "\n",
       "       Informational_Duration  ProductRelated  ProductRelated_Duration  \\\n",
       "5818                      0.0              16               283.721429   \n",
       "8381                      0.0              26              1657.000000   \n",
       "11672                     0.0               2                66.500000   \n",
       "11710                     0.0              14              1947.500000   \n",
       "11040                     0.0              10               210.250000   \n",
       "\n",
       "       BounceRates  ExitRates  PageValues  SpecialDay Month  OperatingSystems  \\\n",
       "5818      0.014474   0.022222    0.000000         0.0   Jul                 3   \n",
       "8381      0.007407   0.020988    5.237225         0.0   Nov                 2   \n",
       "11672     0.066667   0.166667    0.000000         0.0   Nov                 3   \n",
       "11710     0.000000   0.021429    0.000000         0.0   Nov                 1   \n",
       "11040     0.000000   0.018182    0.000000         0.0   Nov                 1   \n",
       "\n",
       "       Browser  Region  TrafficType        VisitorType  Weekend  Revenue  \n",
       "5818         2       3           13  Returning_Visitor    False    False  \n",
       "8381         2       1           13  Returning_Visitor    False    False  \n",
       "11672        2       3           13  Returning_Visitor    False    False  \n",
       "11710        1       1            3  Returning_Visitor    False    False  \n",
       "11040        1       1            2        New_Visitor    False    False  "
      ]
     },
     "execution_count": 1,
     "metadata": {},
     "output_type": "execute_result"
    }
   ],
   "source": [
    "import pandas as pd\n",
    "import numpy as np\n",
    "import matplotlib.pyplot as plt\n",
    "\n",
    "import tensorflow\n",
    "import keras\n",
    "from keras import Sequential\n",
    "from keras.layers import Dense, Dropout\n",
    "from keras import metrics\n",
    "\n",
    "from sklearn.model_selection import train_test_split\n",
    "from sklearn.preprocessing import LabelEncoder, OneHotEncoder\n",
    "from sklearn.preprocessing import StandardScaler\n",
    "from sklearn.metrics import confusion_matrix, accuracy_score\n",
    "\n",
    "df = pd.read_csv('online_shoppers_intention.csv')\n",
    "df.sample(5)"
   ]
  },
  {
   "cell_type": "code",
   "execution_count": 2,
   "metadata": {
    "slideshow": {
     "slide_type": "slide"
    }
   },
   "outputs": [
    {
     "name": "stdout",
     "output_type": "stream",
     "text": [
      "<class 'pandas.core.frame.DataFrame'>\n",
      "RangeIndex: 12330 entries, 0 to 12329\n",
      "Data columns (total 18 columns):\n",
      " #   Column                   Non-Null Count  Dtype  \n",
      "---  ------                   --------------  -----  \n",
      " 0   Administrative           12330 non-null  int64  \n",
      " 1   Administrative_Duration  12330 non-null  float64\n",
      " 2   Informational            12330 non-null  int64  \n",
      " 3   Informational_Duration   12330 non-null  float64\n",
      " 4   ProductRelated           12330 non-null  int64  \n",
      " 5   ProductRelated_Duration  12330 non-null  float64\n",
      " 6   BounceRates              12330 non-null  float64\n",
      " 7   ExitRates                12330 non-null  float64\n",
      " 8   PageValues               12330 non-null  float64\n",
      " 9   SpecialDay               12330 non-null  float64\n",
      " 10  Month                    12330 non-null  object \n",
      " 11  OperatingSystems         12330 non-null  int64  \n",
      " 12  Browser                  12330 non-null  int64  \n",
      " 13  Region                   12330 non-null  int64  \n",
      " 14  TrafficType              12330 non-null  int64  \n",
      " 15  VisitorType              12330 non-null  object \n",
      " 16  Weekend                  12330 non-null  bool   \n",
      " 17  Revenue                  12330 non-null  bool   \n",
      "dtypes: bool(2), float64(7), int64(7), object(2)\n",
      "memory usage: 1.5+ MB\n"
     ]
    }
   ],
   "source": [
    "df.info()"
   ]
  },
  {
   "cell_type": "code",
   "execution_count": 3,
   "metadata": {
    "slideshow": {
     "slide_type": "slide"
    }
   },
   "outputs": [
    {
     "data": {
      "text/html": [
       "<div>\n",
       "<style scoped>\n",
       "    .dataframe tbody tr th:only-of-type {\n",
       "        vertical-align: middle;\n",
       "    }\n",
       "\n",
       "    .dataframe tbody tr th {\n",
       "        vertical-align: top;\n",
       "    }\n",
       "\n",
       "    .dataframe thead th {\n",
       "        text-align: right;\n",
       "    }\n",
       "</style>\n",
       "<table border=\"1\" class=\"dataframe\">\n",
       "  <thead>\n",
       "    <tr style=\"text-align: right;\">\n",
       "      <th></th>\n",
       "      <th>Administrative</th>\n",
       "      <th>Administrative_Duration</th>\n",
       "      <th>Informational</th>\n",
       "      <th>Informational_Duration</th>\n",
       "      <th>ProductRelated</th>\n",
       "      <th>ProductRelated_Duration</th>\n",
       "      <th>BounceRates</th>\n",
       "      <th>ExitRates</th>\n",
       "      <th>PageValues</th>\n",
       "      <th>SpecialDay</th>\n",
       "      <th>OperatingSystems</th>\n",
       "      <th>Browser</th>\n",
       "      <th>Region</th>\n",
       "      <th>TrafficType</th>\n",
       "    </tr>\n",
       "  </thead>\n",
       "  <tbody>\n",
       "    <tr>\n",
       "      <th>count</th>\n",
       "      <td>12330.000000</td>\n",
       "      <td>12330.000000</td>\n",
       "      <td>12330.000000</td>\n",
       "      <td>12330.000000</td>\n",
       "      <td>12330.000000</td>\n",
       "      <td>12330.000000</td>\n",
       "      <td>12330.000000</td>\n",
       "      <td>12330.000000</td>\n",
       "      <td>12330.000000</td>\n",
       "      <td>12330.000000</td>\n",
       "      <td>12330.000000</td>\n",
       "      <td>12330.000000</td>\n",
       "      <td>12330.000000</td>\n",
       "      <td>12330.000000</td>\n",
       "    </tr>\n",
       "    <tr>\n",
       "      <th>mean</th>\n",
       "      <td>2.315166</td>\n",
       "      <td>80.818611</td>\n",
       "      <td>0.503569</td>\n",
       "      <td>34.472398</td>\n",
       "      <td>31.731468</td>\n",
       "      <td>1194.746220</td>\n",
       "      <td>0.022191</td>\n",
       "      <td>0.043073</td>\n",
       "      <td>5.889258</td>\n",
       "      <td>0.061427</td>\n",
       "      <td>2.124006</td>\n",
       "      <td>2.357097</td>\n",
       "      <td>3.147364</td>\n",
       "      <td>4.069586</td>\n",
       "    </tr>\n",
       "    <tr>\n",
       "      <th>std</th>\n",
       "      <td>3.321784</td>\n",
       "      <td>176.779107</td>\n",
       "      <td>1.270156</td>\n",
       "      <td>140.749294</td>\n",
       "      <td>44.475503</td>\n",
       "      <td>1913.669288</td>\n",
       "      <td>0.048488</td>\n",
       "      <td>0.048597</td>\n",
       "      <td>18.568437</td>\n",
       "      <td>0.198917</td>\n",
       "      <td>0.911325</td>\n",
       "      <td>1.717277</td>\n",
       "      <td>2.401591</td>\n",
       "      <td>4.025169</td>\n",
       "    </tr>\n",
       "    <tr>\n",
       "      <th>min</th>\n",
       "      <td>0.000000</td>\n",
       "      <td>0.000000</td>\n",
       "      <td>0.000000</td>\n",
       "      <td>0.000000</td>\n",
       "      <td>0.000000</td>\n",
       "      <td>0.000000</td>\n",
       "      <td>0.000000</td>\n",
       "      <td>0.000000</td>\n",
       "      <td>0.000000</td>\n",
       "      <td>0.000000</td>\n",
       "      <td>1.000000</td>\n",
       "      <td>1.000000</td>\n",
       "      <td>1.000000</td>\n",
       "      <td>1.000000</td>\n",
       "    </tr>\n",
       "    <tr>\n",
       "      <th>25%</th>\n",
       "      <td>0.000000</td>\n",
       "      <td>0.000000</td>\n",
       "      <td>0.000000</td>\n",
       "      <td>0.000000</td>\n",
       "      <td>7.000000</td>\n",
       "      <td>184.137500</td>\n",
       "      <td>0.000000</td>\n",
       "      <td>0.014286</td>\n",
       "      <td>0.000000</td>\n",
       "      <td>0.000000</td>\n",
       "      <td>2.000000</td>\n",
       "      <td>2.000000</td>\n",
       "      <td>1.000000</td>\n",
       "      <td>2.000000</td>\n",
       "    </tr>\n",
       "    <tr>\n",
       "      <th>50%</th>\n",
       "      <td>1.000000</td>\n",
       "      <td>7.500000</td>\n",
       "      <td>0.000000</td>\n",
       "      <td>0.000000</td>\n",
       "      <td>18.000000</td>\n",
       "      <td>598.936905</td>\n",
       "      <td>0.003112</td>\n",
       "      <td>0.025156</td>\n",
       "      <td>0.000000</td>\n",
       "      <td>0.000000</td>\n",
       "      <td>2.000000</td>\n",
       "      <td>2.000000</td>\n",
       "      <td>3.000000</td>\n",
       "      <td>2.000000</td>\n",
       "    </tr>\n",
       "    <tr>\n",
       "      <th>75%</th>\n",
       "      <td>4.000000</td>\n",
       "      <td>93.256250</td>\n",
       "      <td>0.000000</td>\n",
       "      <td>0.000000</td>\n",
       "      <td>38.000000</td>\n",
       "      <td>1464.157213</td>\n",
       "      <td>0.016813</td>\n",
       "      <td>0.050000</td>\n",
       "      <td>0.000000</td>\n",
       "      <td>0.000000</td>\n",
       "      <td>3.000000</td>\n",
       "      <td>2.000000</td>\n",
       "      <td>4.000000</td>\n",
       "      <td>4.000000</td>\n",
       "    </tr>\n",
       "    <tr>\n",
       "      <th>max</th>\n",
       "      <td>27.000000</td>\n",
       "      <td>3398.750000</td>\n",
       "      <td>24.000000</td>\n",
       "      <td>2549.375000</td>\n",
       "      <td>705.000000</td>\n",
       "      <td>63973.522230</td>\n",
       "      <td>0.200000</td>\n",
       "      <td>0.200000</td>\n",
       "      <td>361.763742</td>\n",
       "      <td>1.000000</td>\n",
       "      <td>8.000000</td>\n",
       "      <td>13.000000</td>\n",
       "      <td>9.000000</td>\n",
       "      <td>20.000000</td>\n",
       "    </tr>\n",
       "  </tbody>\n",
       "</table>\n",
       "</div>"
      ],
      "text/plain": [
       "       Administrative  Administrative_Duration  Informational  \\\n",
       "count    12330.000000             12330.000000   12330.000000   \n",
       "mean         2.315166                80.818611       0.503569   \n",
       "std          3.321784               176.779107       1.270156   \n",
       "min          0.000000                 0.000000       0.000000   \n",
       "25%          0.000000                 0.000000       0.000000   \n",
       "50%          1.000000                 7.500000       0.000000   \n",
       "75%          4.000000                93.256250       0.000000   \n",
       "max         27.000000              3398.750000      24.000000   \n",
       "\n",
       "       Informational_Duration  ProductRelated  ProductRelated_Duration  \\\n",
       "count            12330.000000    12330.000000             12330.000000   \n",
       "mean                34.472398       31.731468              1194.746220   \n",
       "std                140.749294       44.475503              1913.669288   \n",
       "min                  0.000000        0.000000                 0.000000   \n",
       "25%                  0.000000        7.000000               184.137500   \n",
       "50%                  0.000000       18.000000               598.936905   \n",
       "75%                  0.000000       38.000000              1464.157213   \n",
       "max               2549.375000      705.000000             63973.522230   \n",
       "\n",
       "        BounceRates     ExitRates    PageValues    SpecialDay  \\\n",
       "count  12330.000000  12330.000000  12330.000000  12330.000000   \n",
       "mean       0.022191      0.043073      5.889258      0.061427   \n",
       "std        0.048488      0.048597     18.568437      0.198917   \n",
       "min        0.000000      0.000000      0.000000      0.000000   \n",
       "25%        0.000000      0.014286      0.000000      0.000000   \n",
       "50%        0.003112      0.025156      0.000000      0.000000   \n",
       "75%        0.016813      0.050000      0.000000      0.000000   \n",
       "max        0.200000      0.200000    361.763742      1.000000   \n",
       "\n",
       "       OperatingSystems       Browser        Region   TrafficType  \n",
       "count      12330.000000  12330.000000  12330.000000  12330.000000  \n",
       "mean           2.124006      2.357097      3.147364      4.069586  \n",
       "std            0.911325      1.717277      2.401591      4.025169  \n",
       "min            1.000000      1.000000      1.000000      1.000000  \n",
       "25%            2.000000      2.000000      1.000000      2.000000  \n",
       "50%            2.000000      2.000000      3.000000      2.000000  \n",
       "75%            3.000000      2.000000      4.000000      4.000000  \n",
       "max            8.000000     13.000000      9.000000     20.000000  "
      ]
     },
     "execution_count": 3,
     "metadata": {},
     "output_type": "execute_result"
    }
   ],
   "source": [
    "df.describe()"
   ]
  },
  {
   "cell_type": "markdown",
   "metadata": {
    "slideshow": {
     "slide_type": "fragment"
    }
   },
   "source": [
    "- The mean of each column is very varied from one another and hence scaling should help with it. Considering that Revenue is the target column, I'll split the dataset into test and train sets"
   ]
  },
  {
   "cell_type": "code",
   "execution_count": 4,
   "metadata": {
    "slideshow": {
     "slide_type": "slide"
    }
   },
   "outputs": [
    {
     "data": {
      "text/plain": [
       "(12330, 18)"
      ]
     },
     "execution_count": 4,
     "metadata": {},
     "output_type": "execute_result"
    }
   ],
   "source": [
    "df.shape"
   ]
  },
  {
   "cell_type": "markdown",
   "metadata": {
    "slideshow": {
     "slide_type": "fragment"
    }
   },
   "source": [
    "- There are 18 columns, 17 features and 1 target variable (Revenue)\n",
    "- Considering that Revenue as the target column, I'll split the dataset into test and train sets. I split the dataset into 80% training data and 20% testing data."
   ]
  },
  {
   "cell_type": "markdown",
   "metadata": {
    "slideshow": {
     "slide_type": "slide"
    }
   },
   "source": [
    "# Data Analysis & Visualization "
   ]
  },
  {
   "cell_type": "markdown",
   "metadata": {
    "slideshow": {
     "slide_type": "subslide"
    }
   },
   "source": [
    "## Normal / Gaussian"
   ]
  },
  {
   "cell_type": "code",
   "execution_count": 5,
   "metadata": {
    "slideshow": {
     "slide_type": "fragment"
    }
   },
   "outputs": [
    {
     "data": {
      "image/png": "[encoded data removed]",
      "text/plain": [
       "<Figure size 432x288 with 1 Axes>"
      ]
     },
     "metadata": {
      "needs_background": "light"
     },
     "output_type": "display_data"
    }
   ],
   "source": [
    "import numpy as np\n",
    "import matplotlib.pyplot as plt\n",
    "\n",
    "# mu = 0.503569\n",
    "# sigma = 1.270156\n",
    "# values = np.random.normal(mu, sigma, 12330)\n",
    "values = df['Informational']\n",
    "plt.hist(values, 10)\n",
    "plt.show()"
   ]
  },
  {
   "cell_type": "code",
   "execution_count": 6,
   "metadata": {
    "slideshow": {
     "slide_type": "subslide"
    }
   },
   "outputs": [
    {
     "data": {
      "image/png": "[encoded data removed]",
      "text/plain": [
       "<Figure size 432x288 with 1 Axes>"
      ]
     },
     "metadata": {
      "needs_background": "light"
     },
     "output_type": "display_data"
    }
   ],
   "source": [
    "import numpy as np\n",
    "import matplotlib.pyplot as plt\n",
    "\n",
    "# mu = 0.503569\n",
    "# sigma = 1.270156\n",
    "# values = np.random.normal(mu, sigma, 12330)\n",
    "values = df['ProductRelated']\n",
    "plt.hist(values, 100)\n",
    "plt.show()"
   ]
  },
  {
   "cell_type": "code",
   "execution_count": 7,
   "metadata": {
    "slideshow": {
     "slide_type": "subslide"
    }
   },
   "outputs": [
    {
     "data": {
      "text/plain": [
       "[<matplotlib.lines.Line2D at 0x11b77dc90>]"
      ]
     },
     "execution_count": 7,
     "metadata": {},
     "output_type": "execute_result"
    },
    {
     "data": {
      "image/png": "[encoded data removed]",
      "text/plain": [
       "<Figure size 432x288 with 1 Axes>"
      ]
     },
     "metadata": {
      "needs_background": "light"
     },
     "output_type": "display_data"
    }
   ],
   "source": [
    "from scipy.stats import norm\n",
    "import matplotlib.pyplot as plt\n",
    "\n",
    "x = df['Informational']\n",
    "plt.plot(x, norm.pdf(x))\n"
   ]
  },
  {
   "cell_type": "code",
   "execution_count": 17,
   "metadata": {
    "slideshow": {
     "slide_type": "subslide"
    }
   },
   "outputs": [
    {
     "data": {
      "text/plain": [
       "[<matplotlib.lines.Line2D at 0x137b17f10>]"
      ]
     },
     "execution_count": 17,
     "metadata": {},
     "output_type": "execute_result"
    },
    {
     "data": {
      "image/png": "[encoded data removed]",
      "text/plain": [
       "<Figure size 432x288 with 1 Axes>"
      ]
     },
     "metadata": {
      "needs_background": "light"
     },
     "output_type": "display_data"
    }
   ],
   "source": [
    "from scipy.stats import norm\n",
    "import matplotlib.pyplot as plt\n",
    "\n",
    "x = df['ProductRelated']\n",
    "plt.plot(x, norm.pdf(x))\n"
   ]
  },
  {
   "cell_type": "code",
   "execution_count": 18,
   "metadata": {
    "slideshow": {
     "slide_type": "subslide"
    }
   },
   "outputs": [
    {
     "data": {
      "text/plain": [
       "[<matplotlib.lines.Line2D at 0x137a8a9d0>]"
      ]
     },
     "execution_count": 18,
     "metadata": {},
     "output_type": "execute_result"
    },
    {
     "data": {
      "image/png": "[encoded data removed]",
      "text/plain": [
       "<Figure size 432x288 with 1 Axes>"
      ]
     },
     "metadata": {
      "needs_background": "light"
     },
     "output_type": "display_data"
    }
   ],
   "source": [
    "from scipy.stats import norm\n",
    "import matplotlib.pyplot as plt\n",
    "\n",
    "x = np.arange(-3, 3, 0.001)\n",
    "plt.plot(x, norm.pdf(x))"
   ]
  },
  {
   "cell_type": "code",
   "execution_count": 19,
   "metadata": {
    "slideshow": {
     "slide_type": "subslide"
    }
   },
   "outputs": [
    {
     "data": {
      "text/plain": [
       "<matplotlib.axes._subplots.AxesSubplot at 0x137aa1b10>"
      ]
     },
     "execution_count": 19,
     "metadata": {},
     "output_type": "execute_result"
    },
    {
     "data": {
      "image/png": "[encoded data removed]",
      "text/plain": [
       "<Figure size 432x288 with 1 Axes>"
      ]
     },
     "metadata": {
      "needs_background": "light"
     },
     "output_type": "display_data"
    }
   ],
   "source": [
    "df['ExitRates'].plot.hist()"
   ]
  },
  {
   "cell_type": "code",
   "execution_count": 20,
   "metadata": {
    "slideshow": {
     "slide_type": "slide"
    }
   },
   "outputs": [
    {
     "name": "stdout",
     "output_type": "stream",
     "text": [
      "[]\n"
     ]
    }
   ],
   "source": [
    "e = df['ExitRates'].tolist()\n",
    "def find_outliers(dataset):\n",
    "    data_mean, data_std = np.mean(dataset), np.std(dataset)\n",
    "    \n",
    "    IQR = data_std * 3\n",
    "    lower, upper = data_mean - IQR, data_mean + IQR\n",
    "    outliers = []\n",
    "    non_outliers = []\n",
    "    for x in dataset:\n",
    "        if x < lower and x > upper:\n",
    "            outliers.append(x)\n",
    "    for x in dataset:\n",
    "        if x > lower and x < upper:\n",
    "            non_outliers.append(x)\n",
    "    return outliers#, non_outliers\n",
    "print(find_outliers(e))  "
   ]
  },
  {
   "cell_type": "code",
   "execution_count": 54,
   "metadata": {
    "slideshow": {
     "slide_type": "subslide"
    }
   },
   "outputs": [
    {
     "data": {
      "image/png": "[encoded data removed]",
      "text/plain": [
       "<Figure size 432x288 with 1 Axes>"
      ]
     },
     "metadata": {
      "needs_background": "light"
     },
     "output_type": "display_data"
    }
   ],
   "source": [
    "import matplotlib.pyplot as plt\n",
    "\n",
    "plt.boxplot(e)\n",
    "\n",
    "plt.show()"
   ]
  },
  {
   "cell_type": "code",
   "execution_count": 52,
   "metadata": {
    "slideshow": {
     "slide_type": "subslide"
    }
   },
   "outputs": [
    {
     "name": "stdout",
     "output_type": "stream",
     "text": [
      "[]\n"
     ]
    }
   ],
   "source": [
    "i = df['ProductRelated_Duration'].tolist()\n",
    "def find_outliers(dataset):\n",
    "    data_mean, data_std = np.mean(dataset), np.std(dataset)\n",
    "    \n",
    "    IQR = data_std * 3\n",
    "    lower, upper = data_mean - IQR, data_mean + IQR\n",
    "    outliers = []\n",
    "    non_outliers = []\n",
    "    for x in dataset:\n",
    "        if x < lower and x > upper:\n",
    "            outliers.append(x)\n",
    "    for x in dataset:\n",
    "        if x > lower and x < upper:\n",
    "            non_outliers.append(x)\n",
    "    return outliers#, non_outliers\n",
    "print(find_outliers(i))"
   ]
  },
  {
   "cell_type": "code",
   "execution_count": 27,
   "metadata": {
    "slideshow": {
     "slide_type": "subslide"
    }
   },
   "outputs": [
    {
     "data": {
      "image/png": "[encoded data removed]",
      "text/plain": [
       "<Figure size 432x288 with 1 Axes>"
      ]
     },
     "metadata": {
      "needs_background": "light"
     },
     "output_type": "display_data"
    }
   ],
   "source": [
    "import matplotlib.pyplot as plt\n",
    "\n",
    "plt.boxplot(i)\n",
    "\n",
    "plt.show()"
   ]
  },
  {
   "cell_type": "markdown",
   "metadata": {
    "slideshow": {
     "slide_type": "slide"
    }
   },
   "source": [
    "## Train/Test Split Data"
   ]
  },
  {
   "cell_type": "code",
   "execution_count": 28,
   "metadata": {
    "slideshow": {
     "slide_type": "fragment"
    }
   },
   "outputs": [],
   "source": [
    "X = df.iloc[:, :-1] # everything except revenue column bc it's categorical data\n",
    "y = df.iloc[:, -1] # only revenue column\n",
    "\n",
    "X_train, X_test, y_train, y_test = train_test_split(X, y, test_size = 0.2, random_state = 42)\n",
    "X_train.reset_index(inplace = True)\n",
    "X_test.reset_index(inplace = True)"
   ]
  },
  {
   "cell_type": "markdown",
   "metadata": {
    "slideshow": {
     "slide_type": "slide"
    }
   },
   "source": [
    "### Target Column (Revenue)"
   ]
  },
  {
   "cell_type": "code",
   "execution_count": 29,
   "metadata": {
    "slideshow": {
     "slide_type": "subslide"
    }
   },
   "outputs": [
    {
     "data": {
      "text/plain": [
       "Text(0.5, 1.0, 'Count of visitors based on revenue generated')"
      ]
     },
     "execution_count": 29,
     "metadata": {},
     "output_type": "execute_result"
    },
    {
     "data": {
      "image/png": "[encoded data removed]",
      "text/plain": [
       "<Figure size 1440x576 with 1 Axes>"
      ]
     },
     "metadata": {
      "needs_background": "light"
     },
     "output_type": "display_data"
    }
   ],
   "source": [
    "target_distribution = y.value_counts()\n",
    "plt.figure(figsize = (20, 8))\n",
    "plt.bar(target_distribution.keys().tolist(), target_distribution.tolist(), color = ['red', 'green'])\n",
    "plt.xlabel('Revenue generated', fontsize = 16)\n",
    "plt.ylabel('Count', fontsize = 16)\n",
    "plt.xticks([0.0, 1.0], ['No', 'Yes'], fontsize = 16)\n",
    "plt.yticks(fontsize = 16)\n",
    "plt.title('Count of visitors based on revenue generated', fontsize = 16)"
   ]
  },
  {
   "cell_type": "markdown",
   "metadata": {
    "slideshow": {
     "slide_type": "subslide"
    }
   },
   "source": [
    "The majority of the dataset has features that generated no revenue. The dataset is unbalanced so hopefully we can train a model that can easily classify b/w the two  "
   ]
  },
  {
   "cell_type": "code",
   "execution_count": 30,
   "metadata": {
    "scrolled": true,
    "slideshow": {
     "slide_type": "slide"
    }
   },
   "outputs": [
    {
     "data": {
      "text/html": [
       "<style  type=\"text/css\" >\n",
       "    #T_aa44b388_598a_11ea_a069_48bf6beebc3crow0_col0 {\n",
       "            background-color:  #b40426;\n",
       "            color:  #f1f1f1;\n",
       "        }    #T_aa44b388_598a_11ea_a069_48bf6beebc3crow0_col1 {\n",
       "            background-color:  #f7b79b;\n",
       "            color:  #000000;\n",
       "        }    #T_aa44b388_598a_11ea_a069_48bf6beebc3crow0_col2 {\n",
       "            background-color:  #d3dbe7;\n",
       "            color:  #000000;\n",
       "        }    #T_aa44b388_598a_11ea_a069_48bf6beebc3crow0_col3 {\n",
       "            background-color:  #a7c5fe;\n",
       "            color:  #000000;\n",
       "        }    #T_aa44b388_598a_11ea_a069_48bf6beebc3crow0_col4 {\n",
       "            background-color:  #ebd3c6;\n",
       "            color:  #000000;\n",
       "        }    #T_aa44b388_598a_11ea_a069_48bf6beebc3crow0_col5 {\n",
       "            background-color:  #dcdddd;\n",
       "            color:  #000000;\n",
       "        }    #T_aa44b388_598a_11ea_a069_48bf6beebc3crow0_col6 {\n",
       "            background-color:  #3b4cc0;\n",
       "            color:  #f1f1f1;\n",
       "        }    #T_aa44b388_598a_11ea_a069_48bf6beebc3crow0_col7 {\n",
       "            background-color:  #3b4cc0;\n",
       "            color:  #f1f1f1;\n",
       "        }    #T_aa44b388_598a_11ea_a069_48bf6beebc3crow0_col8 {\n",
       "            background-color:  #86a9fc;\n",
       "            color:  #000000;\n",
       "        }    #T_aa44b388_598a_11ea_a069_48bf6beebc3crow0_col9 {\n",
       "            background-color:  #3b4cc0;\n",
       "            color:  #f1f1f1;\n",
       "        }    #T_aa44b388_598a_11ea_a069_48bf6beebc3crow0_col10 {\n",
       "            background-color:  #3d50c3;\n",
       "            color:  #f1f1f1;\n",
       "        }    #T_aa44b388_598a_11ea_a069_48bf6beebc3crow0_col11 {\n",
       "            background-color:  #3e51c5;\n",
       "            color:  #f1f1f1;\n",
       "        }    #T_aa44b388_598a_11ea_a069_48bf6beebc3crow0_col12 {\n",
       "            background-color:  #445acc;\n",
       "            color:  #f1f1f1;\n",
       "        }    #T_aa44b388_598a_11ea_a069_48bf6beebc3crow0_col13 {\n",
       "            background-color:  #3d50c3;\n",
       "            color:  #f1f1f1;\n",
       "        }    #T_aa44b388_598a_11ea_a069_48bf6beebc3crow0_col14 {\n",
       "            background-color:  #5470de;\n",
       "            color:  #000000;\n",
       "        }    #T_aa44b388_598a_11ea_a069_48bf6beebc3crow0_col15 {\n",
       "            background-color:  #9abbff;\n",
       "            color:  #000000;\n",
       "        }    #T_aa44b388_598a_11ea_a069_48bf6beebc3crow1_col0 {\n",
       "            background-color:  #f7ad90;\n",
       "            color:  #000000;\n",
       "        }    #T_aa44b388_598a_11ea_a069_48bf6beebc3crow1_col1 {\n",
       "            background-color:  #b40426;\n",
       "            color:  #f1f1f1;\n",
       "        }    #T_aa44b388_598a_11ea_a069_48bf6beebc3crow1_col2 {\n",
       "            background-color:  #c0d4f5;\n",
       "            color:  #000000;\n",
       "        }    #T_aa44b388_598a_11ea_a069_48bf6beebc3crow1_col3 {\n",
       "            background-color:  #a2c1ff;\n",
       "            color:  #000000;\n",
       "        }    #T_aa44b388_598a_11ea_a069_48bf6beebc3crow1_col4 {\n",
       "            background-color:  #cfdaea;\n",
       "            color:  #000000;\n",
       "        }    #T_aa44b388_598a_11ea_a069_48bf6beebc3crow1_col5 {\n",
       "            background-color:  #d9dce1;\n",
       "            color:  #000000;\n",
       "        }    #T_aa44b388_598a_11ea_a069_48bf6beebc3crow1_col6 {\n",
       "            background-color:  #4e68d8;\n",
       "            color:  #000000;\n",
       "        }    #T_aa44b388_598a_11ea_a069_48bf6beebc3crow1_col7 {\n",
       "            background-color:  #5470de;\n",
       "            color:  #000000;\n",
       "        }    #T_aa44b388_598a_11ea_a069_48bf6beebc3crow1_col8 {\n",
       "            background-color:  #7da0f9;\n",
       "            color:  #000000;\n",
       "        }    #T_aa44b388_598a_11ea_a069_48bf6beebc3crow1_col9 {\n",
       "            background-color:  #4055c8;\n",
       "            color:  #f1f1f1;\n",
       "        }    #T_aa44b388_598a_11ea_a069_48bf6beebc3crow1_col10 {\n",
       "            background-color:  #3c4ec2;\n",
       "            color:  #f1f1f1;\n",
       "        }    #T_aa44b388_598a_11ea_a069_48bf6beebc3crow1_col11 {\n",
       "            background-color:  #4257c9;\n",
       "            color:  #f1f1f1;\n",
       "        }    #T_aa44b388_598a_11ea_a069_48bf6beebc3crow1_col12 {\n",
       "            background-color:  #445acc;\n",
       "            color:  #f1f1f1;\n",
       "        }    #T_aa44b388_598a_11ea_a069_48bf6beebc3crow1_col13 {\n",
       "            background-color:  #4358cb;\n",
       "            color:  #f1f1f1;\n",
       "        }    #T_aa44b388_598a_11ea_a069_48bf6beebc3crow1_col14 {\n",
       "            background-color:  #506bda;\n",
       "            color:  #000000;\n",
       "        }    #T_aa44b388_598a_11ea_a069_48bf6beebc3crow1_col15 {\n",
       "            background-color:  #8caffe;\n",
       "            color:  #000000;\n",
       "        }    #T_aa44b388_598a_11ea_a069_48bf6beebc3crow2_col0 {\n",
       "            background-color:  #e3d9d3;\n",
       "            color:  #000000;\n",
       "        }    #T_aa44b388_598a_11ea_a069_48bf6beebc3crow2_col1 {\n",
       "            background-color:  #c6d6f1;\n",
       "            color:  #000000;\n",
       "        }    #T_aa44b388_598a_11ea_a069_48bf6beebc3crow2_col2 {\n",
       "            background-color:  #b40426;\n",
       "            color:  #f1f1f1;\n",
       "        }    #T_aa44b388_598a_11ea_a069_48bf6beebc3crow2_col3 {\n",
       "            background-color:  #f7bca1;\n",
       "            color:  #000000;\n",
       "        }    #T_aa44b388_598a_11ea_a069_48bf6beebc3crow2_col4 {\n",
       "            background-color:  #e1dad6;\n",
       "            color:  #000000;\n",
       "        }    #T_aa44b388_598a_11ea_a069_48bf6beebc3crow2_col5 {\n",
       "            background-color:  #dfdbd9;\n",
       "            color:  #000000;\n",
       "        }    #T_aa44b388_598a_11ea_a069_48bf6beebc3crow2_col6 {\n",
       "            background-color:  #5572df;\n",
       "            color:  #000000;\n",
       "        }    #T_aa44b388_598a_11ea_a069_48bf6beebc3crow2_col7 {\n",
       "            background-color:  #5e7de7;\n",
       "            color:  #000000;\n",
       "        }    #T_aa44b388_598a_11ea_a069_48bf6beebc3crow2_col8 {\n",
       "            background-color:  #779af7;\n",
       "            color:  #000000;\n",
       "        }    #T_aa44b388_598a_11ea_a069_48bf6beebc3crow2_col9 {\n",
       "            background-color:  #465ecf;\n",
       "            color:  #f1f1f1;\n",
       "        }    #T_aa44b388_598a_11ea_a069_48bf6beebc3crow2_col10 {\n",
       "            background-color:  #3c4ec2;\n",
       "            color:  #f1f1f1;\n",
       "        }    #T_aa44b388_598a_11ea_a069_48bf6beebc3crow2_col11 {\n",
       "            background-color:  #3b4cc0;\n",
       "            color:  #f1f1f1;\n",
       "        }    #T_aa44b388_598a_11ea_a069_48bf6beebc3crow2_col12 {\n",
       "            background-color:  #3d50c3;\n",
       "            color:  #f1f1f1;\n",
       "        }    #T_aa44b388_598a_11ea_a069_48bf6beebc3crow2_col13 {\n",
       "            background-color:  #3d50c3;\n",
       "            color:  #f1f1f1;\n",
       "        }    #T_aa44b388_598a_11ea_a069_48bf6beebc3crow2_col14 {\n",
       "            background-color:  #5673e0;\n",
       "            color:  #000000;\n",
       "        }    #T_aa44b388_598a_11ea_a069_48bf6beebc3crow2_col15 {\n",
       "            background-color:  #8db0fe;\n",
       "            color:  #000000;\n",
       "        }    #T_aa44b388_598a_11ea_a069_48bf6beebc3crow3_col0 {\n",
       "            background-color:  #cbd8ee;\n",
       "            color:  #000000;\n",
       "        }    #T_aa44b388_598a_11ea_a069_48bf6beebc3crow3_col1 {\n",
       "            background-color:  #b6cefa;\n",
       "            color:  #000000;\n",
       "        }    #T_aa44b388_598a_11ea_a069_48bf6beebc3crow3_col2 {\n",
       "            background-color:  #f7b599;\n",
       "            color:  #000000;\n",
       "        }    #T_aa44b388_598a_11ea_a069_48bf6beebc3crow3_col3 {\n",
       "            background-color:  #b40426;\n",
       "            color:  #f1f1f1;\n",
       "        }    #T_aa44b388_598a_11ea_a069_48bf6beebc3crow3_col4 {\n",
       "            background-color:  #cdd9ec;\n",
       "            color:  #000000;\n",
       "        }    #T_aa44b388_598a_11ea_a069_48bf6beebc3crow3_col5 {\n",
       "            background-color:  #d7dce3;\n",
       "            color:  #000000;\n",
       "        }    #T_aa44b388_598a_11ea_a069_48bf6beebc3crow3_col6 {\n",
       "            background-color:  #6180e9;\n",
       "            color:  #000000;\n",
       "        }    #T_aa44b388_598a_11ea_a069_48bf6beebc3crow3_col7 {\n",
       "            background-color:  #6e90f2;\n",
       "            color:  #000000;\n",
       "        }    #T_aa44b388_598a_11ea_a069_48bf6beebc3crow3_col8 {\n",
       "            background-color:  #7295f4;\n",
       "            color:  #000000;\n",
       "        }    #T_aa44b388_598a_11ea_a069_48bf6beebc3crow3_col9 {\n",
       "            background-color:  #4c66d6;\n",
       "            color:  #000000;\n",
       "        }    #T_aa44b388_598a_11ea_a069_48bf6beebc3crow3_col10 {\n",
       "            background-color:  #3c4ec2;\n",
       "            color:  #f1f1f1;\n",
       "        }    #T_aa44b388_598a_11ea_a069_48bf6beebc3crow3_col11 {\n",
       "            background-color:  #4055c8;\n",
       "            color:  #f1f1f1;\n",
       "        }    #T_aa44b388_598a_11ea_a069_48bf6beebc3crow3_col12 {\n",
       "            background-color:  #3d50c3;\n",
       "            color:  #f1f1f1;\n",
       "        }    #T_aa44b388_598a_11ea_a069_48bf6beebc3crow3_col13 {\n",
       "            background-color:  #3f53c6;\n",
       "            color:  #f1f1f1;\n",
       "        }    #T_aa44b388_598a_11ea_a069_48bf6beebc3crow3_col14 {\n",
       "            background-color:  #536edd;\n",
       "            color:  #000000;\n",
       "        }    #T_aa44b388_598a_11ea_a069_48bf6beebc3crow3_col15 {\n",
       "            background-color:  #85a8fc;\n",
       "            color:  #000000;\n",
       "        }    #T_aa44b388_598a_11ea_a069_48bf6beebc3crow4_col0 {\n",
       "            background-color:  #edd2c3;\n",
       "            color:  #000000;\n",
       "        }    #T_aa44b388_598a_11ea_a069_48bf6beebc3crow4_col1 {\n",
       "            background-color:  #c4d5f3;\n",
       "            color:  #000000;\n",
       "        }    #T_aa44b388_598a_11ea_a069_48bf6beebc3crow4_col2 {\n",
       "            background-color:  #d3dbe7;\n",
       "            color:  #000000;\n",
       "        }    #T_aa44b388_598a_11ea_a069_48bf6beebc3crow4_col3 {\n",
       "            background-color:  #afcafc;\n",
       "            color:  #000000;\n",
       "        }    #T_aa44b388_598a_11ea_a069_48bf6beebc3crow4_col4 {\n",
       "            background-color:  #b40426;\n",
       "            color:  #f1f1f1;\n",
       "        }    #T_aa44b388_598a_11ea_a069_48bf6beebc3crow4_col5 {\n",
       "            background-color:  #d95847;\n",
       "            color:  #000000;\n",
       "        }    #T_aa44b388_598a_11ea_a069_48bf6beebc3crow4_col6 {\n",
       "            background-color:  #3e51c5;\n",
       "            color:  #f1f1f1;\n",
       "        }    #T_aa44b388_598a_11ea_a069_48bf6beebc3crow4_col7 {\n",
       "            background-color:  #3f53c6;\n",
       "            color:  #f1f1f1;\n",
       "        }    #T_aa44b388_598a_11ea_a069_48bf6beebc3crow4_col8 {\n",
       "            background-color:  #7a9df8;\n",
       "            color:  #000000;\n",
       "        }    #T_aa44b388_598a_11ea_a069_48bf6beebc3crow4_col9 {\n",
       "            background-color:  #4e68d8;\n",
       "            color:  #000000;\n",
       "        }    #T_aa44b388_598a_11ea_a069_48bf6beebc3crow4_col10 {\n",
       "            background-color:  #3f53c6;\n",
       "            color:  #f1f1f1;\n",
       "        }    #T_aa44b388_598a_11ea_a069_48bf6beebc3crow4_col11 {\n",
       "            background-color:  #4257c9;\n",
       "            color:  #f1f1f1;\n",
       "        }    #T_aa44b388_598a_11ea_a069_48bf6beebc3crow4_col12 {\n",
       "            background-color:  #3b4cc0;\n",
       "            color:  #f1f1f1;\n",
       "        }    #T_aa44b388_598a_11ea_a069_48bf6beebc3crow4_col13 {\n",
       "            background-color:  #3b4cc0;\n",
       "            color:  #f1f1f1;\n",
       "        }    #T_aa44b388_598a_11ea_a069_48bf6beebc3crow4_col14 {\n",
       "            background-color:  #506bda;\n",
       "            color:  #000000;\n",
       "        }    #T_aa44b388_598a_11ea_a069_48bf6beebc3crow4_col15 {\n",
       "            background-color:  #9fbfff;\n",
       "            color:  #000000;\n",
       "        }    #T_aa44b388_598a_11ea_a069_48bf6beebc3crow5_col0 {\n",
       "            background-color:  #e3d9d3;\n",
       "            color:  #000000;\n",
       "        }    #T_aa44b388_598a_11ea_a069_48bf6beebc3crow5_col1 {\n",
       "            background-color:  #d4dbe6;\n",
       "            color:  #000000;\n",
       "        }    #T_aa44b388_598a_11ea_a069_48bf6beebc3crow5_col2 {\n",
       "            background-color:  #d6dce4;\n",
       "            color:  #000000;\n",
       "        }    #T_aa44b388_598a_11ea_a069_48bf6beebc3crow5_col3 {\n",
       "            background-color:  #c3d5f4;\n",
       "            color:  #000000;\n",
       "        }    #T_aa44b388_598a_11ea_a069_48bf6beebc3crow5_col4 {\n",
       "            background-color:  #d85646;\n",
       "            color:  #000000;\n",
       "        }    #T_aa44b388_598a_11ea_a069_48bf6beebc3crow5_col5 {\n",
       "            background-color:  #b40426;\n",
       "            color:  #f1f1f1;\n",
       "        }    #T_aa44b388_598a_11ea_a069_48bf6beebc3crow5_col6 {\n",
       "            background-color:  #445acc;\n",
       "            color:  #f1f1f1;\n",
       "        }    #T_aa44b388_598a_11ea_a069_48bf6beebc3crow5_col7 {\n",
       "            background-color:  #4961d2;\n",
       "            color:  #f1f1f1;\n",
       "        }    #T_aa44b388_598a_11ea_a069_48bf6beebc3crow5_col8 {\n",
       "            background-color:  #799cf8;\n",
       "            color:  #000000;\n",
       "        }    #T_aa44b388_598a_11ea_a069_48bf6beebc3crow5_col9 {\n",
       "            background-color:  #4a63d3;\n",
       "            color:  #f1f1f1;\n",
       "        }    #T_aa44b388_598a_11ea_a069_48bf6beebc3crow5_col10 {\n",
       "            background-color:  #3f53c6;\n",
       "            color:  #f1f1f1;\n",
       "        }    #T_aa44b388_598a_11ea_a069_48bf6beebc3crow5_col11 {\n",
       "            background-color:  #445acc;\n",
       "            color:  #f1f1f1;\n",
       "        }    #T_aa44b388_598a_11ea_a069_48bf6beebc3crow5_col12 {\n",
       "            background-color:  #3c4ec2;\n",
       "            color:  #f1f1f1;\n",
       "        }    #T_aa44b388_598a_11ea_a069_48bf6beebc3crow5_col13 {\n",
       "            background-color:  #3c4ec2;\n",
       "            color:  #f1f1f1;\n",
       "        }    #T_aa44b388_598a_11ea_a069_48bf6beebc3crow5_col14 {\n",
       "            background-color:  #4e68d8;\n",
       "            color:  #000000;\n",
       "        }    #T_aa44b388_598a_11ea_a069_48bf6beebc3crow5_col15 {\n",
       "            background-color:  #9ebeff;\n",
       "            color:  #000000;\n",
       "        }    #T_aa44b388_598a_11ea_a069_48bf6beebc3crow6_col0 {\n",
       "            background-color:  #506bda;\n",
       "            color:  #000000;\n",
       "        }    #T_aa44b388_598a_11ea_a069_48bf6beebc3crow6_col1 {\n",
       "            background-color:  #4a63d3;\n",
       "            color:  #f1f1f1;\n",
       "        }    #T_aa44b388_598a_11ea_a069_48bf6beebc3crow6_col2 {\n",
       "            background-color:  #465ecf;\n",
       "            color:  #f1f1f1;\n",
       "        }    #T_aa44b388_598a_11ea_a069_48bf6beebc3crow6_col3 {\n",
       "            background-color:  #4358cb;\n",
       "            color:  #f1f1f1;\n",
       "        }    #T_aa44b388_598a_11ea_a069_48bf6beebc3crow6_col4 {\n",
       "            background-color:  #4f69d9;\n",
       "            color:  #000000;\n",
       "        }    #T_aa44b388_598a_11ea_a069_48bf6beebc3crow6_col5 {\n",
       "            background-color:  #4a63d3;\n",
       "            color:  #f1f1f1;\n",
       "        }    #T_aa44b388_598a_11ea_a069_48bf6beebc3crow6_col6 {\n",
       "            background-color:  #b40426;\n",
       "            color:  #f1f1f1;\n",
       "        }    #T_aa44b388_598a_11ea_a069_48bf6beebc3crow6_col7 {\n",
       "            background-color:  #cb3e38;\n",
       "            color:  #f1f1f1;\n",
       "        }    #T_aa44b388_598a_11ea_a069_48bf6beebc3crow6_col8 {\n",
       "            background-color:  #4961d2;\n",
       "            color:  #f1f1f1;\n",
       "        }    #T_aa44b388_598a_11ea_a069_48bf6beebc3crow6_col9 {\n",
       "            background-color:  #6b8df0;\n",
       "            color:  #000000;\n",
       "        }    #T_aa44b388_598a_11ea_a069_48bf6beebc3crow6_col10 {\n",
       "            background-color:  #455cce;\n",
       "            color:  #f1f1f1;\n",
       "        }    #T_aa44b388_598a_11ea_a069_48bf6beebc3crow6_col11 {\n",
       "            background-color:  #4257c9;\n",
       "            color:  #f1f1f1;\n",
       "        }    #T_aa44b388_598a_11ea_a069_48bf6beebc3crow6_col12 {\n",
       "            background-color:  #4358cb;\n",
       "            color:  #f1f1f1;\n",
       "        }    #T_aa44b388_598a_11ea_a069_48bf6beebc3crow6_col13 {\n",
       "            background-color:  #5e7de7;\n",
       "            color:  #000000;\n",
       "        }    #T_aa44b388_598a_11ea_a069_48bf6beebc3crow6_col14 {\n",
       "            background-color:  #3e51c5;\n",
       "            color:  #f1f1f1;\n",
       "        }    #T_aa44b388_598a_11ea_a069_48bf6beebc3crow6_col15 {\n",
       "            background-color:  #485fd1;\n",
       "            color:  #f1f1f1;\n",
       "        }    #T_aa44b388_598a_11ea_a069_48bf6beebc3crow7_col0 {\n",
       "            background-color:  #3b4cc0;\n",
       "            color:  #f1f1f1;\n",
       "        }    #T_aa44b388_598a_11ea_a069_48bf6beebc3crow7_col1 {\n",
       "            background-color:  #3b4cc0;\n",
       "            color:  #f1f1f1;\n",
       "        }    #T_aa44b388_598a_11ea_a069_48bf6beebc3crow7_col2 {\n",
       "            background-color:  #3b4cc0;\n",
       "            color:  #f1f1f1;\n",
       "        }    #T_aa44b388_598a_11ea_a069_48bf6beebc3crow7_col3 {\n",
       "            background-color:  #3b4cc0;\n",
       "            color:  #f1f1f1;\n",
       "        }    #T_aa44b388_598a_11ea_a069_48bf6beebc3crow7_col4 {\n",
       "            background-color:  #3b4cc0;\n",
       "            color:  #f1f1f1;\n",
       "        }    #T_aa44b388_598a_11ea_a069_48bf6beebc3crow7_col5 {\n",
       "            background-color:  #3b4cc0;\n",
       "            color:  #f1f1f1;\n",
       "        }    #T_aa44b388_598a_11ea_a069_48bf6beebc3crow7_col6 {\n",
       "            background-color:  #cd423b;\n",
       "            color:  #f1f1f1;\n",
       "        }    #T_aa44b388_598a_11ea_a069_48bf6beebc3crow7_col7 {\n",
       "            background-color:  #b40426;\n",
       "            color:  #f1f1f1;\n",
       "        }    #T_aa44b388_598a_11ea_a069_48bf6beebc3crow7_col8 {\n",
       "            background-color:  #3b4cc0;\n",
       "            color:  #f1f1f1;\n",
       "        }    #T_aa44b388_598a_11ea_a069_48bf6beebc3crow7_col9 {\n",
       "            background-color:  #7597f6;\n",
       "            color:  #000000;\n",
       "        }    #T_aa44b388_598a_11ea_a069_48bf6beebc3crow7_col10 {\n",
       "            background-color:  #4358cb;\n",
       "            color:  #f1f1f1;\n",
       "        }    #T_aa44b388_598a_11ea_a069_48bf6beebc3crow7_col11 {\n",
       "            background-color:  #445acc;\n",
       "            color:  #f1f1f1;\n",
       "        }    #T_aa44b388_598a_11ea_a069_48bf6beebc3crow7_col12 {\n",
       "            background-color:  #4358cb;\n",
       "            color:  #f1f1f1;\n",
       "        }    #T_aa44b388_598a_11ea_a069_48bf6beebc3crow7_col13 {\n",
       "            background-color:  #5e7de7;\n",
       "            color:  #000000;\n",
       "        }    #T_aa44b388_598a_11ea_a069_48bf6beebc3crow7_col14 {\n",
       "            background-color:  #3b4cc0;\n",
       "            color:  #f1f1f1;\n",
       "        }    #T_aa44b388_598a_11ea_a069_48bf6beebc3crow7_col15 {\n",
       "            background-color:  #3b4cc0;\n",
       "            color:  #f1f1f1;\n",
       "        }    #T_aa44b388_598a_11ea_a069_48bf6beebc3crow8_col0 {\n",
       "            background-color:  #a3c2fe;\n",
       "            color:  #000000;\n",
       "        }    #T_aa44b388_598a_11ea_a069_48bf6beebc3crow8_col1 {\n",
       "            background-color:  #85a8fc;\n",
       "            color:  #000000;\n",
       "        }    #T_aa44b388_598a_11ea_a069_48bf6beebc3crow8_col2 {\n",
       "            background-color:  #7597f6;\n",
       "            color:  #000000;\n",
       "        }    #T_aa44b388_598a_11ea_a069_48bf6beebc3crow8_col3 {\n",
       "            background-color:  #6180e9;\n",
       "            color:  #000000;\n",
       "        }    #T_aa44b388_598a_11ea_a069_48bf6beebc3crow8_col4 {\n",
       "            background-color:  #94b6ff;\n",
       "            color:  #000000;\n",
       "        }    #T_aa44b388_598a_11ea_a069_48bf6beebc3crow8_col5 {\n",
       "            background-color:  #8badfd;\n",
       "            color:  #000000;\n",
       "        }    #T_aa44b388_598a_11ea_a069_48bf6beebc3crow8_col6 {\n",
       "            background-color:  #5470de;\n",
       "            color:  #000000;\n",
       "        }    #T_aa44b388_598a_11ea_a069_48bf6beebc3crow8_col7 {\n",
       "            background-color:  #5b7ae5;\n",
       "            color:  #000000;\n",
       "        }    #T_aa44b388_598a_11ea_a069_48bf6beebc3crow8_col8 {\n",
       "            background-color:  #b40426;\n",
       "            color:  #f1f1f1;\n",
       "        }    #T_aa44b388_598a_11ea_a069_48bf6beebc3crow8_col9 {\n",
       "            background-color:  #4358cb;\n",
       "            color:  #f1f1f1;\n",
       "        }    #T_aa44b388_598a_11ea_a069_48bf6beebc3crow8_col10 {\n",
       "            background-color:  #445acc;\n",
       "            color:  #f1f1f1;\n",
       "        }    #T_aa44b388_598a_11ea_a069_48bf6beebc3crow8_col11 {\n",
       "            background-color:  #5470de;\n",
       "            color:  #000000;\n",
       "        }    #T_aa44b388_598a_11ea_a069_48bf6beebc3crow8_col12 {\n",
       "            background-color:  #4961d2;\n",
       "            color:  #f1f1f1;\n",
       "        }    #T_aa44b388_598a_11ea_a069_48bf6beebc3crow8_col13 {\n",
       "            background-color:  #4a63d3;\n",
       "            color:  #f1f1f1;\n",
       "        }    #T_aa44b388_598a_11ea_a069_48bf6beebc3crow8_col14 {\n",
       "            background-color:  #4f69d9;\n",
       "            color:  #000000;\n",
       "        }    #T_aa44b388_598a_11ea_a069_48bf6beebc3crow8_col15 {\n",
       "            background-color:  #efcfbf;\n",
       "            color:  #000000;\n",
       "        }    #T_aa44b388_598a_11ea_a069_48bf6beebc3crow9_col0 {\n",
       "            background-color:  #7093f3;\n",
       "            color:  #000000;\n",
       "        }    #T_aa44b388_598a_11ea_a069_48bf6beebc3crow9_col1 {\n",
       "            background-color:  #5d7ce6;\n",
       "            color:  #000000;\n",
       "        }    #T_aa44b388_598a_11ea_a069_48bf6beebc3crow9_col2 {\n",
       "            background-color:  #5977e3;\n",
       "            color:  #000000;\n",
       "        }    #T_aa44b388_598a_11ea_a069_48bf6beebc3crow9_col3 {\n",
       "            background-color:  #4f69d9;\n",
       "            color:  #000000;\n",
       "        }    #T_aa44b388_598a_11ea_a069_48bf6beebc3crow9_col4 {\n",
       "            background-color:  #7ea1fa;\n",
       "            color:  #000000;\n",
       "        }    #T_aa44b388_598a_11ea_a069_48bf6beebc3crow9_col5 {\n",
       "            background-color:  #7295f4;\n",
       "            color:  #000000;\n",
       "        }    #T_aa44b388_598a_11ea_a069_48bf6beebc3crow9_col6 {\n",
       "            background-color:  #89acfd;\n",
       "            color:  #000000;\n",
       "        }    #T_aa44b388_598a_11ea_a069_48bf6beebc3crow9_col7 {\n",
       "            background-color:  #a5c3fe;\n",
       "            color:  #000000;\n",
       "        }    #T_aa44b388_598a_11ea_a069_48bf6beebc3crow9_col8 {\n",
       "            background-color:  #5875e1;\n",
       "            color:  #000000;\n",
       "        }    #T_aa44b388_598a_11ea_a069_48bf6beebc3crow9_col9 {\n",
       "            background-color:  #b40426;\n",
       "            color:  #f1f1f1;\n",
       "        }    #T_aa44b388_598a_11ea_a069_48bf6beebc3crow9_col10 {\n",
       "            background-color:  #4257c9;\n",
       "            color:  #f1f1f1;\n",
       "        }    #T_aa44b388_598a_11ea_a069_48bf6beebc3crow9_col11 {\n",
       "            background-color:  #465ecf;\n",
       "            color:  #f1f1f1;\n",
       "        }    #T_aa44b388_598a_11ea_a069_48bf6beebc3crow9_col12 {\n",
       "            background-color:  #4055c8;\n",
       "            color:  #f1f1f1;\n",
       "        }    #T_aa44b388_598a_11ea_a069_48bf6beebc3crow9_col13 {\n",
       "            background-color:  #5673e0;\n",
       "            color:  #000000;\n",
       "        }    #T_aa44b388_598a_11ea_a069_48bf6beebc3crow9_col14 {\n",
       "            background-color:  #485fd1;\n",
       "            color:  #f1f1f1;\n",
       "        }    #T_aa44b388_598a_11ea_a069_48bf6beebc3crow9_col15 {\n",
       "            background-color:  #5a78e4;\n",
       "            color:  #000000;\n",
       "        }    #T_aa44b388_598a_11ea_a069_48bf6beebc3crow10_col0 {\n",
       "            background-color:  #88abfd;\n",
       "            color:  #000000;\n",
       "        }    #T_aa44b388_598a_11ea_a069_48bf6beebc3crow10_col1 {\n",
       "            background-color:  #6f92f3;\n",
       "            color:  #000000;\n",
       "        }    #T_aa44b388_598a_11ea_a069_48bf6beebc3crow10_col2 {\n",
       "            background-color:  #6384eb;\n",
       "            color:  #000000;\n",
       "        }    #T_aa44b388_598a_11ea_a069_48bf6beebc3crow10_col3 {\n",
       "            background-color:  #5572df;\n",
       "            color:  #000000;\n",
       "        }    #T_aa44b388_598a_11ea_a069_48bf6beebc3crow10_col4 {\n",
       "            background-color:  #85a8fc;\n",
       "            color:  #000000;\n",
       "        }    #T_aa44b388_598a_11ea_a069_48bf6beebc3crow10_col5 {\n",
       "            background-color:  #7da0f9;\n",
       "            color:  #000000;\n",
       "        }    #T_aa44b388_598a_11ea_a069_48bf6beebc3crow10_col6 {\n",
       "            background-color:  #7b9ff9;\n",
       "            color:  #000000;\n",
       "        }    #T_aa44b388_598a_11ea_a069_48bf6beebc3crow10_col7 {\n",
       "            background-color:  #8db0fe;\n",
       "            color:  #000000;\n",
       "        }    #T_aa44b388_598a_11ea_a069_48bf6beebc3crow10_col8 {\n",
       "            background-color:  #6f92f3;\n",
       "            color:  #000000;\n",
       "        }    #T_aa44b388_598a_11ea_a069_48bf6beebc3crow10_col9 {\n",
       "            background-color:  #5977e3;\n",
       "            color:  #000000;\n",
       "        }    #T_aa44b388_598a_11ea_a069_48bf6beebc3crow10_col10 {\n",
       "            background-color:  #b40426;\n",
       "            color:  #f1f1f1;\n",
       "        }    #T_aa44b388_598a_11ea_a069_48bf6beebc3crow10_col11 {\n",
       "            background-color:  #8db0fe;\n",
       "            color:  #000000;\n",
       "        }    #T_aa44b388_598a_11ea_a069_48bf6beebc3crow10_col12 {\n",
       "            background-color:  #5d7ce6;\n",
       "            color:  #000000;\n",
       "        }    #T_aa44b388_598a_11ea_a069_48bf6beebc3crow10_col13 {\n",
       "            background-color:  #82a6fb;\n",
       "            color:  #000000;\n",
       "        }    #T_aa44b388_598a_11ea_a069_48bf6beebc3crow10_col14 {\n",
       "            background-color:  #4c66d6;\n",
       "            color:  #000000;\n",
       "        }    #T_aa44b388_598a_11ea_a069_48bf6beebc3crow10_col15 {\n",
       "            background-color:  #6c8ff1;\n",
       "            color:  #000000;\n",
       "        }    #T_aa44b388_598a_11ea_a069_48bf6beebc3crow11_col0 {\n",
       "            background-color:  #82a6fb;\n",
       "            color:  #000000;\n",
       "        }    #T_aa44b388_598a_11ea_a069_48bf6beebc3crow11_col1 {\n",
       "            background-color:  #6c8ff1;\n",
       "            color:  #000000;\n",
       "        }    #T_aa44b388_598a_11ea_a069_48bf6beebc3crow11_col2 {\n",
       "            background-color:  #5b7ae5;\n",
       "            color:  #000000;\n",
       "        }    #T_aa44b388_598a_11ea_a069_48bf6beebc3crow11_col3 {\n",
       "            background-color:  #516ddb;\n",
       "            color:  #000000;\n",
       "        }    #T_aa44b388_598a_11ea_a069_48bf6beebc3crow11_col4 {\n",
       "            background-color:  #81a4fb;\n",
       "            color:  #000000;\n",
       "        }    #T_aa44b388_598a_11ea_a069_48bf6beebc3crow11_col5 {\n",
       "            background-color:  #7a9df8;\n",
       "            color:  #000000;\n",
       "        }    #T_aa44b388_598a_11ea_a069_48bf6beebc3crow11_col6 {\n",
       "            background-color:  #7093f3;\n",
       "            color:  #000000;\n",
       "        }    #T_aa44b388_598a_11ea_a069_48bf6beebc3crow11_col7 {\n",
       "            background-color:  #88abfd;\n",
       "            color:  #000000;\n",
       "        }    #T_aa44b388_598a_11ea_a069_48bf6beebc3crow11_col8 {\n",
       "            background-color:  #7699f6;\n",
       "            color:  #000000;\n",
       "        }    #T_aa44b388_598a_11ea_a069_48bf6beebc3crow11_col9 {\n",
       "            background-color:  #5572df;\n",
       "            color:  #000000;\n",
       "        }    #T_aa44b388_598a_11ea_a069_48bf6beebc3crow11_col10 {\n",
       "            background-color:  #86a9fc;\n",
       "            color:  #000000;\n",
       "        }    #T_aa44b388_598a_11ea_a069_48bf6beebc3crow11_col11 {\n",
       "            background-color:  #b40426;\n",
       "            color:  #f1f1f1;\n",
       "        }    #T_aa44b388_598a_11ea_a069_48bf6beebc3crow11_col12 {\n",
       "            background-color:  #6384eb;\n",
       "            color:  #000000;\n",
       "        }    #T_aa44b388_598a_11ea_a069_48bf6beebc3crow11_col13 {\n",
       "            background-color:  #6a8bef;\n",
       "            color:  #000000;\n",
       "        }    #T_aa44b388_598a_11ea_a069_48bf6beebc3crow11_col14 {\n",
       "            background-color:  #4055c8;\n",
       "            color:  #f1f1f1;\n",
       "        }    #T_aa44b388_598a_11ea_a069_48bf6beebc3crow11_col15 {\n",
       "            background-color:  #799cf8;\n",
       "            color:  #000000;\n",
       "        }    #T_aa44b388_598a_11ea_a069_48bf6beebc3crow12_col0 {\n",
       "            background-color:  #88abfd;\n",
       "            color:  #000000;\n",
       "        }    #T_aa44b388_598a_11ea_a069_48bf6beebc3crow12_col1 {\n",
       "            background-color:  #6f92f3;\n",
       "            color:  #000000;\n",
       "        }    #T_aa44b388_598a_11ea_a069_48bf6beebc3crow12_col2 {\n",
       "            background-color:  #5e7de7;\n",
       "            color:  #000000;\n",
       "        }    #T_aa44b388_598a_11ea_a069_48bf6beebc3crow12_col3 {\n",
       "            background-color:  #506bda;\n",
       "            color:  #000000;\n",
       "        }    #T_aa44b388_598a_11ea_a069_48bf6beebc3crow12_col4 {\n",
       "            background-color:  #7a9df8;\n",
       "            color:  #000000;\n",
       "        }    #T_aa44b388_598a_11ea_a069_48bf6beebc3crow12_col5 {\n",
       "            background-color:  #7295f4;\n",
       "            color:  #000000;\n",
       "        }    #T_aa44b388_598a_11ea_a069_48bf6beebc3crow12_col6 {\n",
       "            background-color:  #7396f5;\n",
       "            color:  #000000;\n",
       "        }    #T_aa44b388_598a_11ea_a069_48bf6beebc3crow12_col7 {\n",
       "            background-color:  #86a9fc;\n",
       "            color:  #000000;\n",
       "        }    #T_aa44b388_598a_11ea_a069_48bf6beebc3crow12_col8 {\n",
       "            background-color:  #6c8ff1;\n",
       "            color:  #000000;\n",
       "        }    #T_aa44b388_598a_11ea_a069_48bf6beebc3crow12_col9 {\n",
       "            background-color:  #506bda;\n",
       "            color:  #000000;\n",
       "        }    #T_aa44b388_598a_11ea_a069_48bf6beebc3crow12_col10 {\n",
       "            background-color:  #5673e0;\n",
       "            color:  #000000;\n",
       "        }    #T_aa44b388_598a_11ea_a069_48bf6beebc3crow12_col11 {\n",
       "            background-color:  #6384eb;\n",
       "            color:  #000000;\n",
       "        }    #T_aa44b388_598a_11ea_a069_48bf6beebc3crow12_col12 {\n",
       "            background-color:  #b40426;\n",
       "            color:  #f1f1f1;\n",
       "        }    #T_aa44b388_598a_11ea_a069_48bf6beebc3crow12_col13 {\n",
       "            background-color:  #5572df;\n",
       "            color:  #000000;\n",
       "        }    #T_aa44b388_598a_11ea_a069_48bf6beebc3crow12_col14 {\n",
       "            background-color:  #4b64d5;\n",
       "            color:  #f1f1f1;\n",
       "        }    #T_aa44b388_598a_11ea_a069_48bf6beebc3crow12_col15 {\n",
       "            background-color:  #6e90f2;\n",
       "            color:  #000000;\n",
       "        }    #T_aa44b388_598a_11ea_a069_48bf6beebc3crow13_col0 {\n",
       "            background-color:  #81a4fb;\n",
       "            color:  #000000;\n",
       "        }    #T_aa44b388_598a_11ea_a069_48bf6beebc3crow13_col1 {\n",
       "            background-color:  #6c8ff1;\n",
       "            color:  #000000;\n",
       "        }    #T_aa44b388_598a_11ea_a069_48bf6beebc3crow13_col2 {\n",
       "            background-color:  #5d7ce6;\n",
       "            color:  #000000;\n",
       "        }    #T_aa44b388_598a_11ea_a069_48bf6beebc3crow13_col3 {\n",
       "            background-color:  #506bda;\n",
       "            color:  #000000;\n",
       "        }    #T_aa44b388_598a_11ea_a069_48bf6beebc3crow13_col4 {\n",
       "            background-color:  #799cf8;\n",
       "            color:  #000000;\n",
       "        }    #T_aa44b388_598a_11ea_a069_48bf6beebc3crow13_col5 {\n",
       "            background-color:  #7295f4;\n",
       "            color:  #000000;\n",
       "        }    #T_aa44b388_598a_11ea_a069_48bf6beebc3crow13_col6 {\n",
       "            background-color:  #8caffe;\n",
       "            color:  #000000;\n",
       "        }    #T_aa44b388_598a_11ea_a069_48bf6beebc3crow13_col7 {\n",
       "            background-color:  #9ebeff;\n",
       "            color:  #000000;\n",
       "        }    #T_aa44b388_598a_11ea_a069_48bf6beebc3crow13_col8 {\n",
       "            background-color:  #6c8ff1;\n",
       "            color:  #000000;\n",
       "        }    #T_aa44b388_598a_11ea_a069_48bf6beebc3crow13_col9 {\n",
       "            background-color:  #6485ec;\n",
       "            color:  #000000;\n",
       "        }    #T_aa44b388_598a_11ea_a069_48bf6beebc3crow13_col10 {\n",
       "            background-color:  #7b9ff9;\n",
       "            color:  #000000;\n",
       "        }    #T_aa44b388_598a_11ea_a069_48bf6beebc3crow13_col11 {\n",
       "            background-color:  #688aef;\n",
       "            color:  #000000;\n",
       "        }    #T_aa44b388_598a_11ea_a069_48bf6beebc3crow13_col12 {\n",
       "            background-color:  #5470de;\n",
       "            color:  #000000;\n",
       "        }    #T_aa44b388_598a_11ea_a069_48bf6beebc3crow13_col13 {\n",
       "            background-color:  #b40426;\n",
       "            color:  #f1f1f1;\n",
       "        }    #T_aa44b388_598a_11ea_a069_48bf6beebc3crow13_col14 {\n",
       "            background-color:  #4b64d5;\n",
       "            color:  #f1f1f1;\n",
       "        }    #T_aa44b388_598a_11ea_a069_48bf6beebc3crow13_col15 {\n",
       "            background-color:  #6f92f3;\n",
       "            color:  #000000;\n",
       "        }    #T_aa44b388_598a_11ea_a069_48bf6beebc3crow14_col0 {\n",
       "            background-color:  #90b2fe;\n",
       "            color:  #000000;\n",
       "        }    #T_aa44b388_598a_11ea_a069_48bf6beebc3crow14_col1 {\n",
       "            background-color:  #7597f6;\n",
       "            color:  #000000;\n",
       "        }    #T_aa44b388_598a_11ea_a069_48bf6beebc3crow14_col2 {\n",
       "            background-color:  #7093f3;\n",
       "            color:  #000000;\n",
       "        }    #T_aa44b388_598a_11ea_a069_48bf6beebc3crow14_col3 {\n",
       "            background-color:  #5e7de7;\n",
       "            color:  #000000;\n",
       "        }    #T_aa44b388_598a_11ea_a069_48bf6beebc3crow14_col4 {\n",
       "            background-color:  #89acfd;\n",
       "            color:  #000000;\n",
       "        }    #T_aa44b388_598a_11ea_a069_48bf6beebc3crow14_col5 {\n",
       "            background-color:  #7ea1fa;\n",
       "            color:  #000000;\n",
       "        }    #T_aa44b388_598a_11ea_a069_48bf6beebc3crow14_col6 {\n",
       "            background-color:  #688aef;\n",
       "            color:  #000000;\n",
       "        }    #T_aa44b388_598a_11ea_a069_48bf6beebc3crow14_col7 {\n",
       "            background-color:  #799cf8;\n",
       "            color:  #000000;\n",
       "        }    #T_aa44b388_598a_11ea_a069_48bf6beebc3crow14_col8 {\n",
       "            background-color:  #6c8ff1;\n",
       "            color:  #000000;\n",
       "        }    #T_aa44b388_598a_11ea_a069_48bf6beebc3crow14_col9 {\n",
       "            background-color:  #506bda;\n",
       "            color:  #000000;\n",
       "        }    #T_aa44b388_598a_11ea_a069_48bf6beebc3crow14_col10 {\n",
       "            background-color:  #3e51c5;\n",
       "            color:  #f1f1f1;\n",
       "        }    #T_aa44b388_598a_11ea_a069_48bf6beebc3crow14_col11 {\n",
       "            background-color:  #3b4cc0;\n",
       "            color:  #f1f1f1;\n",
       "        }    #T_aa44b388_598a_11ea_a069_48bf6beebc3crow14_col12 {\n",
       "            background-color:  #455cce;\n",
       "            color:  #f1f1f1;\n",
       "        }    #T_aa44b388_598a_11ea_a069_48bf6beebc3crow14_col13 {\n",
       "            background-color:  #465ecf;\n",
       "            color:  #f1f1f1;\n",
       "        }    #T_aa44b388_598a_11ea_a069_48bf6beebc3crow14_col14 {\n",
       "            background-color:  #b40426;\n",
       "            color:  #f1f1f1;\n",
       "        }    #T_aa44b388_598a_11ea_a069_48bf6beebc3crow14_col15 {\n",
       "            background-color:  #7a9df8;\n",
       "            color:  #000000;\n",
       "        }    #T_aa44b388_598a_11ea_a069_48bf6beebc3crow15_col0 {\n",
       "            background-color:  #aec9fc;\n",
       "            color:  #000000;\n",
       "        }    #T_aa44b388_598a_11ea_a069_48bf6beebc3crow15_col1 {\n",
       "            background-color:  #8caffe;\n",
       "            color:  #000000;\n",
       "        }    #T_aa44b388_598a_11ea_a069_48bf6beebc3crow15_col2 {\n",
       "            background-color:  #82a6fb;\n",
       "            color:  #000000;\n",
       "        }    #T_aa44b388_598a_11ea_a069_48bf6beebc3crow15_col3 {\n",
       "            background-color:  #6c8ff1;\n",
       "            color:  #000000;\n",
       "        }    #T_aa44b388_598a_11ea_a069_48bf6beebc3crow15_col4 {\n",
       "            background-color:  #afcafc;\n",
       "            color:  #000000;\n",
       "        }    #T_aa44b388_598a_11ea_a069_48bf6beebc3crow15_col5 {\n",
       "            background-color:  #a6c4fe;\n",
       "            color:  #000000;\n",
       "        }    #T_aa44b388_598a_11ea_a069_48bf6beebc3crow15_col6 {\n",
       "            background-color:  #4c66d6;\n",
       "            color:  #000000;\n",
       "        }    #T_aa44b388_598a_11ea_a069_48bf6beebc3crow15_col7 {\n",
       "            background-color:  #5470de;\n",
       "            color:  #000000;\n",
       "        }    #T_aa44b388_598a_11ea_a069_48bf6beebc3crow15_col8 {\n",
       "            background-color:  #edd2c3;\n",
       "            color:  #000000;\n",
       "        }    #T_aa44b388_598a_11ea_a069_48bf6beebc3crow15_col9 {\n",
       "            background-color:  #3d50c3;\n",
       "            color:  #f1f1f1;\n",
       "        }    #T_aa44b388_598a_11ea_a069_48bf6beebc3crow15_col10 {\n",
       "            background-color:  #3b4cc0;\n",
       "            color:  #f1f1f1;\n",
       "        }    #T_aa44b388_598a_11ea_a069_48bf6beebc3crow15_col11 {\n",
       "            background-color:  #4c66d6;\n",
       "            color:  #000000;\n",
       "        }    #T_aa44b388_598a_11ea_a069_48bf6beebc3crow15_col12 {\n",
       "            background-color:  #4257c9;\n",
       "            color:  #f1f1f1;\n",
       "        }    #T_aa44b388_598a_11ea_a069_48bf6beebc3crow15_col13 {\n",
       "            background-color:  #455cce;\n",
       "            color:  #f1f1f1;\n",
       "        }    #T_aa44b388_598a_11ea_a069_48bf6beebc3crow15_col14 {\n",
       "            background-color:  #5572df;\n",
       "            color:  #000000;\n",
       "        }    #T_aa44b388_598a_11ea_a069_48bf6beebc3crow15_col15 {\n",
       "            background-color:  #b40426;\n",
       "            color:  #f1f1f1;\n",
       "        }</style><table id=\"T_aa44b388_598a_11ea_a069_48bf6beebc3c\" ><thead>    <tr>        <th class=\"blank level0\" ></th>        <th class=\"col_heading level0 col0\" >Administrative</th>        <th class=\"col_heading level0 col1\" >Administrative_Duration</th>        <th class=\"col_heading level0 col2\" >Informational</th>        <th class=\"col_heading level0 col3\" >Informational_Duration</th>        <th class=\"col_heading level0 col4\" >ProductRelated</th>        <th class=\"col_heading level0 col5\" >ProductRelated_Duration</th>        <th class=\"col_heading level0 col6\" >BounceRates</th>        <th class=\"col_heading level0 col7\" >ExitRates</th>        <th class=\"col_heading level0 col8\" >PageValues</th>        <th class=\"col_heading level0 col9\" >SpecialDay</th>        <th class=\"col_heading level0 col10\" >OperatingSystems</th>        <th class=\"col_heading level0 col11\" >Browser</th>        <th class=\"col_heading level0 col12\" >Region</th>        <th class=\"col_heading level0 col13\" >TrafficType</th>        <th class=\"col_heading level0 col14\" >Weekend</th>        <th class=\"col_heading level0 col15\" >Revenue</th>    </tr></thead><tbody>\n",
       "                <tr>\n",
       "                        <th id=\"T_aa44b388_598a_11ea_a069_48bf6beebc3clevel0_row0\" class=\"row_heading level0 row0\" >Administrative</th>\n",
       "                        <td id=\"T_aa44b388_598a_11ea_a069_48bf6beebc3crow0_col0\" class=\"data row0 col0\" >1.000000</td>\n",
       "                        <td id=\"T_aa44b388_598a_11ea_a069_48bf6beebc3crow0_col1\" class=\"data row0 col1\" >0.601583</td>\n",
       "                        <td id=\"T_aa44b388_598a_11ea_a069_48bf6beebc3crow0_col2\" class=\"data row0 col2\" >0.376850</td>\n",
       "                        <td id=\"T_aa44b388_598a_11ea_a069_48bf6beebc3crow0_col3\" class=\"data row0 col3\" >0.255848</td>\n",
       "                        <td id=\"T_aa44b388_598a_11ea_a069_48bf6beebc3crow0_col4\" class=\"data row0 col4\" >0.431119</td>\n",
       "                        <td id=\"T_aa44b388_598a_11ea_a069_48bf6beebc3crow0_col5\" class=\"data row0 col5\" >0.373939</td>\n",
       "                        <td id=\"T_aa44b388_598a_11ea_a069_48bf6beebc3crow0_col6\" class=\"data row0 col6\" >-0.223563</td>\n",
       "                        <td id=\"T_aa44b388_598a_11ea_a069_48bf6beebc3crow0_col7\" class=\"data row0 col7\" >-0.316483</td>\n",
       "                        <td id=\"T_aa44b388_598a_11ea_a069_48bf6beebc3crow0_col8\" class=\"data row0 col8\" >0.098990</td>\n",
       "                        <td id=\"T_aa44b388_598a_11ea_a069_48bf6beebc3crow0_col9\" class=\"data row0 col9\" >-0.094778</td>\n",
       "                        <td id=\"T_aa44b388_598a_11ea_a069_48bf6beebc3crow0_col10\" class=\"data row0 col10\" >-0.006347</td>\n",
       "                        <td id=\"T_aa44b388_598a_11ea_a069_48bf6beebc3crow0_col11\" class=\"data row0 col11\" >-0.025035</td>\n",
       "                        <td id=\"T_aa44b388_598a_11ea_a069_48bf6beebc3crow0_col12\" class=\"data row0 col12\" >-0.005487</td>\n",
       "                        <td id=\"T_aa44b388_598a_11ea_a069_48bf6beebc3crow0_col13\" class=\"data row0 col13\" >-0.033561</td>\n",
       "                        <td id=\"T_aa44b388_598a_11ea_a069_48bf6beebc3crow0_col14\" class=\"data row0 col14\" >0.026417</td>\n",
       "                        <td id=\"T_aa44b388_598a_11ea_a069_48bf6beebc3crow0_col15\" class=\"data row0 col15\" >0.138917</td>\n",
       "            </tr>\n",
       "            <tr>\n",
       "                        <th id=\"T_aa44b388_598a_11ea_a069_48bf6beebc3clevel0_row1\" class=\"row_heading level0 row1\" >Administrative_Duration</th>\n",
       "                        <td id=\"T_aa44b388_598a_11ea_a069_48bf6beebc3crow1_col0\" class=\"data row1 col0\" >0.601583</td>\n",
       "                        <td id=\"T_aa44b388_598a_11ea_a069_48bf6beebc3crow1_col1\" class=\"data row1 col1\" >1.000000</td>\n",
       "                        <td id=\"T_aa44b388_598a_11ea_a069_48bf6beebc3crow1_col2\" class=\"data row1 col2\" >0.302710</td>\n",
       "                        <td id=\"T_aa44b388_598a_11ea_a069_48bf6beebc3crow1_col3\" class=\"data row1 col3\" >0.238031</td>\n",
       "                        <td id=\"T_aa44b388_598a_11ea_a069_48bf6beebc3crow1_col4\" class=\"data row1 col4\" >0.289087</td>\n",
       "                        <td id=\"T_aa44b388_598a_11ea_a069_48bf6beebc3crow1_col5\" class=\"data row1 col5\" >0.355422</td>\n",
       "                        <td id=\"T_aa44b388_598a_11ea_a069_48bf6beebc3crow1_col6\" class=\"data row1 col6\" >-0.144170</td>\n",
       "                        <td id=\"T_aa44b388_598a_11ea_a069_48bf6beebc3crow1_col7\" class=\"data row1 col7\" >-0.205798</td>\n",
       "                        <td id=\"T_aa44b388_598a_11ea_a069_48bf6beebc3crow1_col8\" class=\"data row1 col8\" >0.067608</td>\n",
       "                        <td id=\"T_aa44b388_598a_11ea_a069_48bf6beebc3crow1_col9\" class=\"data row1 col9\" >-0.073304</td>\n",
       "                        <td id=\"T_aa44b388_598a_11ea_a069_48bf6beebc3crow1_col10\" class=\"data row1 col10\" >-0.007343</td>\n",
       "                        <td id=\"T_aa44b388_598a_11ea_a069_48bf6beebc3crow1_col11\" class=\"data row1 col11\" >-0.015392</td>\n",
       "                        <td id=\"T_aa44b388_598a_11ea_a069_48bf6beebc3crow1_col12\" class=\"data row1 col12\" >-0.005561</td>\n",
       "                        <td id=\"T_aa44b388_598a_11ea_a069_48bf6beebc3crow1_col13\" class=\"data row1 col13\" >-0.014376</td>\n",
       "                        <td id=\"T_aa44b388_598a_11ea_a069_48bf6beebc3crow1_col14\" class=\"data row1 col14\" >0.014990</td>\n",
       "                        <td id=\"T_aa44b388_598a_11ea_a069_48bf6beebc3crow1_col15\" class=\"data row1 col15\" >0.093587</td>\n",
       "            </tr>\n",
       "            <tr>\n",
       "                        <th id=\"T_aa44b388_598a_11ea_a069_48bf6beebc3clevel0_row2\" class=\"row_heading level0 row2\" >Informational</th>\n",
       "                        <td id=\"T_aa44b388_598a_11ea_a069_48bf6beebc3crow2_col0\" class=\"data row2 col0\" >0.376850</td>\n",
       "                        <td id=\"T_aa44b388_598a_11ea_a069_48bf6beebc3crow2_col1\" class=\"data row2 col1\" >0.302710</td>\n",
       "                        <td id=\"T_aa44b388_598a_11ea_a069_48bf6beebc3crow2_col2\" class=\"data row2 col2\" >1.000000</td>\n",
       "                        <td id=\"T_aa44b388_598a_11ea_a069_48bf6beebc3crow2_col3\" class=\"data row2 col3\" >0.618955</td>\n",
       "                        <td id=\"T_aa44b388_598a_11ea_a069_48bf6beebc3crow2_col4\" class=\"data row2 col4\" >0.374164</td>\n",
       "                        <td id=\"T_aa44b388_598a_11ea_a069_48bf6beebc3crow2_col5\" class=\"data row2 col5\" >0.387505</td>\n",
       "                        <td id=\"T_aa44b388_598a_11ea_a069_48bf6beebc3crow2_col6\" class=\"data row2 col6\" >-0.116114</td>\n",
       "                        <td id=\"T_aa44b388_598a_11ea_a069_48bf6beebc3crow2_col7\" class=\"data row2 col7\" >-0.163666</td>\n",
       "                        <td id=\"T_aa44b388_598a_11ea_a069_48bf6beebc3crow2_col8\" class=\"data row2 col8\" >0.048632</td>\n",
       "                        <td id=\"T_aa44b388_598a_11ea_a069_48bf6beebc3crow2_col9\" class=\"data row2 col9\" >-0.048219</td>\n",
       "                        <td id=\"T_aa44b388_598a_11ea_a069_48bf6beebc3crow2_col10\" class=\"data row2 col10\" >-0.009527</td>\n",
       "                        <td id=\"T_aa44b388_598a_11ea_a069_48bf6beebc3crow2_col11\" class=\"data row2 col11\" >-0.038235</td>\n",
       "                        <td id=\"T_aa44b388_598a_11ea_a069_48bf6beebc3crow2_col12\" class=\"data row2 col12\" >-0.029169</td>\n",
       "                        <td id=\"T_aa44b388_598a_11ea_a069_48bf6beebc3crow2_col13\" class=\"data row2 col13\" >-0.034491</td>\n",
       "                        <td id=\"T_aa44b388_598a_11ea_a069_48bf6beebc3crow2_col14\" class=\"data row2 col14\" >0.035785</td>\n",
       "                        <td id=\"T_aa44b388_598a_11ea_a069_48bf6beebc3crow2_col15\" class=\"data row2 col15\" >0.095200</td>\n",
       "            </tr>\n",
       "            <tr>\n",
       "                        <th id=\"T_aa44b388_598a_11ea_a069_48bf6beebc3clevel0_row3\" class=\"row_heading level0 row3\" >Informational_Duration</th>\n",
       "                        <td id=\"T_aa44b388_598a_11ea_a069_48bf6beebc3crow3_col0\" class=\"data row3 col0\" >0.255848</td>\n",
       "                        <td id=\"T_aa44b388_598a_11ea_a069_48bf6beebc3crow3_col1\" class=\"data row3 col1\" >0.238031</td>\n",
       "                        <td id=\"T_aa44b388_598a_11ea_a069_48bf6beebc3crow3_col2\" class=\"data row3 col2\" >0.618955</td>\n",
       "                        <td id=\"T_aa44b388_598a_11ea_a069_48bf6beebc3crow3_col3\" class=\"data row3 col3\" >1.000000</td>\n",
       "                        <td id=\"T_aa44b388_598a_11ea_a069_48bf6beebc3crow3_col4\" class=\"data row3 col4\" >0.280046</td>\n",
       "                        <td id=\"T_aa44b388_598a_11ea_a069_48bf6beebc3crow3_col5\" class=\"data row3 col5\" >0.347364</td>\n",
       "                        <td id=\"T_aa44b388_598a_11ea_a069_48bf6beebc3crow3_col6\" class=\"data row3 col6\" >-0.074067</td>\n",
       "                        <td id=\"T_aa44b388_598a_11ea_a069_48bf6beebc3crow3_col7\" class=\"data row3 col7\" >-0.105276</td>\n",
       "                        <td id=\"T_aa44b388_598a_11ea_a069_48bf6beebc3crow3_col8\" class=\"data row3 col8\" >0.030861</td>\n",
       "                        <td id=\"T_aa44b388_598a_11ea_a069_48bf6beebc3crow3_col9\" class=\"data row3 col9\" >-0.030577</td>\n",
       "                        <td id=\"T_aa44b388_598a_11ea_a069_48bf6beebc3crow3_col10\" class=\"data row3 col10\" >-0.009579</td>\n",
       "                        <td id=\"T_aa44b388_598a_11ea_a069_48bf6beebc3crow3_col11\" class=\"data row3 col11\" >-0.019285</td>\n",
       "                        <td id=\"T_aa44b388_598a_11ea_a069_48bf6beebc3crow3_col12\" class=\"data row3 col12\" >-0.027144</td>\n",
       "                        <td id=\"T_aa44b388_598a_11ea_a069_48bf6beebc3crow3_col13\" class=\"data row3 col13\" >-0.024675</td>\n",
       "                        <td id=\"T_aa44b388_598a_11ea_a069_48bf6beebc3crow3_col14\" class=\"data row3 col14\" >0.024078</td>\n",
       "                        <td id=\"T_aa44b388_598a_11ea_a069_48bf6beebc3crow3_col15\" class=\"data row3 col15\" >0.070345</td>\n",
       "            </tr>\n",
       "            <tr>\n",
       "                        <th id=\"T_aa44b388_598a_11ea_a069_48bf6beebc3clevel0_row4\" class=\"row_heading level0 row4\" >ProductRelated</th>\n",
       "                        <td id=\"T_aa44b388_598a_11ea_a069_48bf6beebc3crow4_col0\" class=\"data row4 col0\" >0.431119</td>\n",
       "                        <td id=\"T_aa44b388_598a_11ea_a069_48bf6beebc3crow4_col1\" class=\"data row4 col1\" >0.289087</td>\n",
       "                        <td id=\"T_aa44b388_598a_11ea_a069_48bf6beebc3crow4_col2\" class=\"data row4 col2\" >0.374164</td>\n",
       "                        <td id=\"T_aa44b388_598a_11ea_a069_48bf6beebc3crow4_col3\" class=\"data row4 col3\" >0.280046</td>\n",
       "                        <td id=\"T_aa44b388_598a_11ea_a069_48bf6beebc3crow4_col4\" class=\"data row4 col4\" >1.000000</td>\n",
       "                        <td id=\"T_aa44b388_598a_11ea_a069_48bf6beebc3crow4_col5\" class=\"data row4 col5\" >0.860927</td>\n",
       "                        <td id=\"T_aa44b388_598a_11ea_a069_48bf6beebc3crow4_col6\" class=\"data row4 col6\" >-0.204578</td>\n",
       "                        <td id=\"T_aa44b388_598a_11ea_a069_48bf6beebc3crow4_col7\" class=\"data row4 col7\" >-0.292526</td>\n",
       "                        <td id=\"T_aa44b388_598a_11ea_a069_48bf6beebc3crow4_col8\" class=\"data row4 col8\" >0.056282</td>\n",
       "                        <td id=\"T_aa44b388_598a_11ea_a069_48bf6beebc3crow4_col9\" class=\"data row4 col9\" >-0.023958</td>\n",
       "                        <td id=\"T_aa44b388_598a_11ea_a069_48bf6beebc3crow4_col10\" class=\"data row4 col10\" >0.004290</td>\n",
       "                        <td id=\"T_aa44b388_598a_11ea_a069_48bf6beebc3crow4_col11\" class=\"data row4 col11\" >-0.013146</td>\n",
       "                        <td id=\"T_aa44b388_598a_11ea_a069_48bf6beebc3crow4_col12\" class=\"data row4 col12\" >-0.038122</td>\n",
       "                        <td id=\"T_aa44b388_598a_11ea_a069_48bf6beebc3crow4_col13\" class=\"data row4 col13\" >-0.043064</td>\n",
       "                        <td id=\"T_aa44b388_598a_11ea_a069_48bf6beebc3crow4_col14\" class=\"data row4 col14\" >0.016092</td>\n",
       "                        <td id=\"T_aa44b388_598a_11ea_a069_48bf6beebc3crow4_col15\" class=\"data row4 col15\" >0.158538</td>\n",
       "            </tr>\n",
       "            <tr>\n",
       "                        <th id=\"T_aa44b388_598a_11ea_a069_48bf6beebc3clevel0_row5\" class=\"row_heading level0 row5\" >ProductRelated_Duration</th>\n",
       "                        <td id=\"T_aa44b388_598a_11ea_a069_48bf6beebc3crow5_col0\" class=\"data row5 col0\" >0.373939</td>\n",
       "                        <td id=\"T_aa44b388_598a_11ea_a069_48bf6beebc3crow5_col1\" class=\"data row5 col1\" >0.355422</td>\n",
       "                        <td id=\"T_aa44b388_598a_11ea_a069_48bf6beebc3crow5_col2\" class=\"data row5 col2\" >0.387505</td>\n",
       "                        <td id=\"T_aa44b388_598a_11ea_a069_48bf6beebc3crow5_col3\" class=\"data row5 col3\" >0.347364</td>\n",
       "                        <td id=\"T_aa44b388_598a_11ea_a069_48bf6beebc3crow5_col4\" class=\"data row5 col4\" >0.860927</td>\n",
       "                        <td id=\"T_aa44b388_598a_11ea_a069_48bf6beebc3crow5_col5\" class=\"data row5 col5\" >1.000000</td>\n",
       "                        <td id=\"T_aa44b388_598a_11ea_a069_48bf6beebc3crow5_col6\" class=\"data row5 col6\" >-0.184541</td>\n",
       "                        <td id=\"T_aa44b388_598a_11ea_a069_48bf6beebc3crow5_col7\" class=\"data row5 col7\" >-0.251984</td>\n",
       "                        <td id=\"T_aa44b388_598a_11ea_a069_48bf6beebc3crow5_col8\" class=\"data row5 col8\" >0.052823</td>\n",
       "                        <td id=\"T_aa44b388_598a_11ea_a069_48bf6beebc3crow5_col9\" class=\"data row5 col9\" >-0.036380</td>\n",
       "                        <td id=\"T_aa44b388_598a_11ea_a069_48bf6beebc3crow5_col10\" class=\"data row5 col10\" >0.002976</td>\n",
       "                        <td id=\"T_aa44b388_598a_11ea_a069_48bf6beebc3crow5_col11\" class=\"data row5 col11\" >-0.007380</td>\n",
       "                        <td id=\"T_aa44b388_598a_11ea_a069_48bf6beebc3crow5_col12\" class=\"data row5 col12\" >-0.033091</td>\n",
       "                        <td id=\"T_aa44b388_598a_11ea_a069_48bf6beebc3crow5_col13\" class=\"data row5 col13\" >-0.036377</td>\n",
       "                        <td id=\"T_aa44b388_598a_11ea_a069_48bf6beebc3crow5_col14\" class=\"data row5 col14\" >0.007311</td>\n",
       "                        <td id=\"T_aa44b388_598a_11ea_a069_48bf6beebc3crow5_col15\" class=\"data row5 col15\" >0.152373</td>\n",
       "            </tr>\n",
       "            <tr>\n",
       "                        <th id=\"T_aa44b388_598a_11ea_a069_48bf6beebc3clevel0_row6\" class=\"row_heading level0 row6\" >BounceRates</th>\n",
       "                        <td id=\"T_aa44b388_598a_11ea_a069_48bf6beebc3crow6_col0\" class=\"data row6 col0\" >-0.223563</td>\n",
       "                        <td id=\"T_aa44b388_598a_11ea_a069_48bf6beebc3crow6_col1\" class=\"data row6 col1\" >-0.144170</td>\n",
       "                        <td id=\"T_aa44b388_598a_11ea_a069_48bf6beebc3crow6_col2\" class=\"data row6 col2\" >-0.116114</td>\n",
       "                        <td id=\"T_aa44b388_598a_11ea_a069_48bf6beebc3crow6_col3\" class=\"data row6 col3\" >-0.074067</td>\n",
       "                        <td id=\"T_aa44b388_598a_11ea_a069_48bf6beebc3crow6_col4\" class=\"data row6 col4\" >-0.204578</td>\n",
       "                        <td id=\"T_aa44b388_598a_11ea_a069_48bf6beebc3crow6_col5\" class=\"data row6 col5\" >-0.184541</td>\n",
       "                        <td id=\"T_aa44b388_598a_11ea_a069_48bf6beebc3crow6_col6\" class=\"data row6 col6\" >1.000000</td>\n",
       "                        <td id=\"T_aa44b388_598a_11ea_a069_48bf6beebc3crow6_col7\" class=\"data row6 col7\" >0.913004</td>\n",
       "                        <td id=\"T_aa44b388_598a_11ea_a069_48bf6beebc3crow6_col8\" class=\"data row6 col8\" >-0.119386</td>\n",
       "                        <td id=\"T_aa44b388_598a_11ea_a069_48bf6beebc3crow6_col9\" class=\"data row6 col9\" >0.072702</td>\n",
       "                        <td id=\"T_aa44b388_598a_11ea_a069_48bf6beebc3crow6_col10\" class=\"data row6 col10\" >0.023823</td>\n",
       "                        <td id=\"T_aa44b388_598a_11ea_a069_48bf6beebc3crow6_col11\" class=\"data row6 col11\" >-0.015772</td>\n",
       "                        <td id=\"T_aa44b388_598a_11ea_a069_48bf6beebc3crow6_col12\" class=\"data row6 col12\" >-0.006485</td>\n",
       "                        <td id=\"T_aa44b388_598a_11ea_a069_48bf6beebc3crow6_col13\" class=\"data row6 col13\" >0.078286</td>\n",
       "                        <td id=\"T_aa44b388_598a_11ea_a069_48bf6beebc3crow6_col14\" class=\"data row6 col14\" >-0.046514</td>\n",
       "                        <td id=\"T_aa44b388_598a_11ea_a069_48bf6beebc3crow6_col15\" class=\"data row6 col15\" >-0.150673</td>\n",
       "            </tr>\n",
       "            <tr>\n",
       "                        <th id=\"T_aa44b388_598a_11ea_a069_48bf6beebc3clevel0_row7\" class=\"row_heading level0 row7\" >ExitRates</th>\n",
       "                        <td id=\"T_aa44b388_598a_11ea_a069_48bf6beebc3crow7_col0\" class=\"data row7 col0\" >-0.316483</td>\n",
       "                        <td id=\"T_aa44b388_598a_11ea_a069_48bf6beebc3crow7_col1\" class=\"data row7 col1\" >-0.205798</td>\n",
       "                        <td id=\"T_aa44b388_598a_11ea_a069_48bf6beebc3crow7_col2\" class=\"data row7 col2\" >-0.163666</td>\n",
       "                        <td id=\"T_aa44b388_598a_11ea_a069_48bf6beebc3crow7_col3\" class=\"data row7 col3\" >-0.105276</td>\n",
       "                        <td id=\"T_aa44b388_598a_11ea_a069_48bf6beebc3crow7_col4\" class=\"data row7 col4\" >-0.292526</td>\n",
       "                        <td id=\"T_aa44b388_598a_11ea_a069_48bf6beebc3crow7_col5\" class=\"data row7 col5\" >-0.251984</td>\n",
       "                        <td id=\"T_aa44b388_598a_11ea_a069_48bf6beebc3crow7_col6\" class=\"data row7 col6\" >0.913004</td>\n",
       "                        <td id=\"T_aa44b388_598a_11ea_a069_48bf6beebc3crow7_col7\" class=\"data row7 col7\" >1.000000</td>\n",
       "                        <td id=\"T_aa44b388_598a_11ea_a069_48bf6beebc3crow7_col8\" class=\"data row7 col8\" >-0.174498</td>\n",
       "                        <td id=\"T_aa44b388_598a_11ea_a069_48bf6beebc3crow7_col9\" class=\"data row7 col9\" >0.102242</td>\n",
       "                        <td id=\"T_aa44b388_598a_11ea_a069_48bf6beebc3crow7_col10\" class=\"data row7 col10\" >0.014567</td>\n",
       "                        <td id=\"T_aa44b388_598a_11ea_a069_48bf6beebc3crow7_col11\" class=\"data row7 col11\" >-0.004442</td>\n",
       "                        <td id=\"T_aa44b388_598a_11ea_a069_48bf6beebc3crow7_col12\" class=\"data row7 col12\" >-0.008907</td>\n",
       "                        <td id=\"T_aa44b388_598a_11ea_a069_48bf6beebc3crow7_col13\" class=\"data row7 col13\" >0.078616</td>\n",
       "                        <td id=\"T_aa44b388_598a_11ea_a069_48bf6beebc3crow7_col14\" class=\"data row7 col14\" >-0.062587</td>\n",
       "                        <td id=\"T_aa44b388_598a_11ea_a069_48bf6beebc3crow7_col15\" class=\"data row7 col15\" >-0.207071</td>\n",
       "            </tr>\n",
       "            <tr>\n",
       "                        <th id=\"T_aa44b388_598a_11ea_a069_48bf6beebc3clevel0_row8\" class=\"row_heading level0 row8\" >PageValues</th>\n",
       "                        <td id=\"T_aa44b388_598a_11ea_a069_48bf6beebc3crow8_col0\" class=\"data row8 col0\" >0.098990</td>\n",
       "                        <td id=\"T_aa44b388_598a_11ea_a069_48bf6beebc3crow8_col1\" class=\"data row8 col1\" >0.067608</td>\n",
       "                        <td id=\"T_aa44b388_598a_11ea_a069_48bf6beebc3crow8_col2\" class=\"data row8 col2\" >0.048632</td>\n",
       "                        <td id=\"T_aa44b388_598a_11ea_a069_48bf6beebc3crow8_col3\" class=\"data row8 col3\" >0.030861</td>\n",
       "                        <td id=\"T_aa44b388_598a_11ea_a069_48bf6beebc3crow8_col4\" class=\"data row8 col4\" >0.056282</td>\n",
       "                        <td id=\"T_aa44b388_598a_11ea_a069_48bf6beebc3crow8_col5\" class=\"data row8 col5\" >0.052823</td>\n",
       "                        <td id=\"T_aa44b388_598a_11ea_a069_48bf6beebc3crow8_col6\" class=\"data row8 col6\" >-0.119386</td>\n",
       "                        <td id=\"T_aa44b388_598a_11ea_a069_48bf6beebc3crow8_col7\" class=\"data row8 col7\" >-0.174498</td>\n",
       "                        <td id=\"T_aa44b388_598a_11ea_a069_48bf6beebc3crow8_col8\" class=\"data row8 col8\" >1.000000</td>\n",
       "                        <td id=\"T_aa44b388_598a_11ea_a069_48bf6beebc3crow8_col9\" class=\"data row8 col9\" >-0.063541</td>\n",
       "                        <td id=\"T_aa44b388_598a_11ea_a069_48bf6beebc3crow8_col10\" class=\"data row8 col10\" >0.018508</td>\n",
       "                        <td id=\"T_aa44b388_598a_11ea_a069_48bf6beebc3crow8_col11\" class=\"data row8 col11\" >0.045592</td>\n",
       "                        <td id=\"T_aa44b388_598a_11ea_a069_48bf6beebc3crow8_col12\" class=\"data row8 col12\" >0.011315</td>\n",
       "                        <td id=\"T_aa44b388_598a_11ea_a069_48bf6beebc3crow8_col13\" class=\"data row8 col13\" >0.012532</td>\n",
       "                        <td id=\"T_aa44b388_598a_11ea_a069_48bf6beebc3crow8_col14\" class=\"data row8 col14\" >0.012002</td>\n",
       "                        <td id=\"T_aa44b388_598a_11ea_a069_48bf6beebc3crow8_col15\" class=\"data row8 col15\" >0.492569</td>\n",
       "            </tr>\n",
       "            <tr>\n",
       "                        <th id=\"T_aa44b388_598a_11ea_a069_48bf6beebc3clevel0_row9\" class=\"row_heading level0 row9\" >SpecialDay</th>\n",
       "                        <td id=\"T_aa44b388_598a_11ea_a069_48bf6beebc3crow9_col0\" class=\"data row9 col0\" >-0.094778</td>\n",
       "                        <td id=\"T_aa44b388_598a_11ea_a069_48bf6beebc3crow9_col1\" class=\"data row9 col1\" >-0.073304</td>\n",
       "                        <td id=\"T_aa44b388_598a_11ea_a069_48bf6beebc3crow9_col2\" class=\"data row9 col2\" >-0.048219</td>\n",
       "                        <td id=\"T_aa44b388_598a_11ea_a069_48bf6beebc3crow9_col3\" class=\"data row9 col3\" >-0.030577</td>\n",
       "                        <td id=\"T_aa44b388_598a_11ea_a069_48bf6beebc3crow9_col4\" class=\"data row9 col4\" >-0.023958</td>\n",
       "                        <td id=\"T_aa44b388_598a_11ea_a069_48bf6beebc3crow9_col5\" class=\"data row9 col5\" >-0.036380</td>\n",
       "                        <td id=\"T_aa44b388_598a_11ea_a069_48bf6beebc3crow9_col6\" class=\"data row9 col6\" >0.072702</td>\n",
       "                        <td id=\"T_aa44b388_598a_11ea_a069_48bf6beebc3crow9_col7\" class=\"data row9 col7\" >0.102242</td>\n",
       "                        <td id=\"T_aa44b388_598a_11ea_a069_48bf6beebc3crow9_col8\" class=\"data row9 col8\" >-0.063541</td>\n",
       "                        <td id=\"T_aa44b388_598a_11ea_a069_48bf6beebc3crow9_col9\" class=\"data row9 col9\" >1.000000</td>\n",
       "                        <td id=\"T_aa44b388_598a_11ea_a069_48bf6beebc3crow9_col10\" class=\"data row9 col10\" >0.012652</td>\n",
       "                        <td id=\"T_aa44b388_598a_11ea_a069_48bf6beebc3crow9_col11\" class=\"data row9 col11\" >0.003499</td>\n",
       "                        <td id=\"T_aa44b388_598a_11ea_a069_48bf6beebc3crow9_col12\" class=\"data row9 col12\" >-0.016098</td>\n",
       "                        <td id=\"T_aa44b388_598a_11ea_a069_48bf6beebc3crow9_col13\" class=\"data row9 col13\" >0.052301</td>\n",
       "                        <td id=\"T_aa44b388_598a_11ea_a069_48bf6beebc3crow9_col14\" class=\"data row9 col14\" >-0.016767</td>\n",
       "                        <td id=\"T_aa44b388_598a_11ea_a069_48bf6beebc3crow9_col15\" class=\"data row9 col15\" >-0.082305</td>\n",
       "            </tr>\n",
       "            <tr>\n",
       "                        <th id=\"T_aa44b388_598a_11ea_a069_48bf6beebc3clevel0_row10\" class=\"row_heading level0 row10\" >OperatingSystems</th>\n",
       "                        <td id=\"T_aa44b388_598a_11ea_a069_48bf6beebc3crow10_col0\" class=\"data row10 col0\" >-0.006347</td>\n",
       "                        <td id=\"T_aa44b388_598a_11ea_a069_48bf6beebc3crow10_col1\" class=\"data row10 col1\" >-0.007343</td>\n",
       "                        <td id=\"T_aa44b388_598a_11ea_a069_48bf6beebc3crow10_col2\" class=\"data row10 col2\" >-0.009527</td>\n",
       "                        <td id=\"T_aa44b388_598a_11ea_a069_48bf6beebc3crow10_col3\" class=\"data row10 col3\" >-0.009579</td>\n",
       "                        <td id=\"T_aa44b388_598a_11ea_a069_48bf6beebc3crow10_col4\" class=\"data row10 col4\" >0.004290</td>\n",
       "                        <td id=\"T_aa44b388_598a_11ea_a069_48bf6beebc3crow10_col5\" class=\"data row10 col5\" >0.002976</td>\n",
       "                        <td id=\"T_aa44b388_598a_11ea_a069_48bf6beebc3crow10_col6\" class=\"data row10 col6\" >0.023823</td>\n",
       "                        <td id=\"T_aa44b388_598a_11ea_a069_48bf6beebc3crow10_col7\" class=\"data row10 col7\" >0.014567</td>\n",
       "                        <td id=\"T_aa44b388_598a_11ea_a069_48bf6beebc3crow10_col8\" class=\"data row10 col8\" >0.018508</td>\n",
       "                        <td id=\"T_aa44b388_598a_11ea_a069_48bf6beebc3crow10_col9\" class=\"data row10 col9\" >0.012652</td>\n",
       "                        <td id=\"T_aa44b388_598a_11ea_a069_48bf6beebc3crow10_col10\" class=\"data row10 col10\" >1.000000</td>\n",
       "                        <td id=\"T_aa44b388_598a_11ea_a069_48bf6beebc3crow10_col11\" class=\"data row10 col11\" >0.223013</td>\n",
       "                        <td id=\"T_aa44b388_598a_11ea_a069_48bf6beebc3crow10_col12\" class=\"data row10 col12\" >0.076775</td>\n",
       "                        <td id=\"T_aa44b388_598a_11ea_a069_48bf6beebc3crow10_col13\" class=\"data row10 col13\" >0.189154</td>\n",
       "                        <td id=\"T_aa44b388_598a_11ea_a069_48bf6beebc3crow10_col14\" class=\"data row10 col14\" >0.000284</td>\n",
       "                        <td id=\"T_aa44b388_598a_11ea_a069_48bf6beebc3crow10_col15\" class=\"data row10 col15\" >-0.014668</td>\n",
       "            </tr>\n",
       "            <tr>\n",
       "                        <th id=\"T_aa44b388_598a_11ea_a069_48bf6beebc3clevel0_row11\" class=\"row_heading level0 row11\" >Browser</th>\n",
       "                        <td id=\"T_aa44b388_598a_11ea_a069_48bf6beebc3crow11_col0\" class=\"data row11 col0\" >-0.025035</td>\n",
       "                        <td id=\"T_aa44b388_598a_11ea_a069_48bf6beebc3crow11_col1\" class=\"data row11 col1\" >-0.015392</td>\n",
       "                        <td id=\"T_aa44b388_598a_11ea_a069_48bf6beebc3crow11_col2\" class=\"data row11 col2\" >-0.038235</td>\n",
       "                        <td id=\"T_aa44b388_598a_11ea_a069_48bf6beebc3crow11_col3\" class=\"data row11 col3\" >-0.019285</td>\n",
       "                        <td id=\"T_aa44b388_598a_11ea_a069_48bf6beebc3crow11_col4\" class=\"data row11 col4\" >-0.013146</td>\n",
       "                        <td id=\"T_aa44b388_598a_11ea_a069_48bf6beebc3crow11_col5\" class=\"data row11 col5\" >-0.007380</td>\n",
       "                        <td id=\"T_aa44b388_598a_11ea_a069_48bf6beebc3crow11_col6\" class=\"data row11 col6\" >-0.015772</td>\n",
       "                        <td id=\"T_aa44b388_598a_11ea_a069_48bf6beebc3crow11_col7\" class=\"data row11 col7\" >-0.004442</td>\n",
       "                        <td id=\"T_aa44b388_598a_11ea_a069_48bf6beebc3crow11_col8\" class=\"data row11 col8\" >0.045592</td>\n",
       "                        <td id=\"T_aa44b388_598a_11ea_a069_48bf6beebc3crow11_col9\" class=\"data row11 col9\" >0.003499</td>\n",
       "                        <td id=\"T_aa44b388_598a_11ea_a069_48bf6beebc3crow11_col10\" class=\"data row11 col10\" >0.223013</td>\n",
       "                        <td id=\"T_aa44b388_598a_11ea_a069_48bf6beebc3crow11_col11\" class=\"data row11 col11\" >1.000000</td>\n",
       "                        <td id=\"T_aa44b388_598a_11ea_a069_48bf6beebc3crow11_col12\" class=\"data row11 col12\" >0.097393</td>\n",
       "                        <td id=\"T_aa44b388_598a_11ea_a069_48bf6beebc3crow11_col13\" class=\"data row11 col13\" >0.111938</td>\n",
       "                        <td id=\"T_aa44b388_598a_11ea_a069_48bf6beebc3crow11_col14\" class=\"data row11 col14\" >-0.040261</td>\n",
       "                        <td id=\"T_aa44b388_598a_11ea_a069_48bf6beebc3crow11_col15\" class=\"data row11 col15\" >0.023984</td>\n",
       "            </tr>\n",
       "            <tr>\n",
       "                        <th id=\"T_aa44b388_598a_11ea_a069_48bf6beebc3clevel0_row12\" class=\"row_heading level0 row12\" >Region</th>\n",
       "                        <td id=\"T_aa44b388_598a_11ea_a069_48bf6beebc3crow12_col0\" class=\"data row12 col0\" >-0.005487</td>\n",
       "                        <td id=\"T_aa44b388_598a_11ea_a069_48bf6beebc3crow12_col1\" class=\"data row12 col1\" >-0.005561</td>\n",
       "                        <td id=\"T_aa44b388_598a_11ea_a069_48bf6beebc3crow12_col2\" class=\"data row12 col2\" >-0.029169</td>\n",
       "                        <td id=\"T_aa44b388_598a_11ea_a069_48bf6beebc3crow12_col3\" class=\"data row12 col3\" >-0.027144</td>\n",
       "                        <td id=\"T_aa44b388_598a_11ea_a069_48bf6beebc3crow12_col4\" class=\"data row12 col4\" >-0.038122</td>\n",
       "                        <td id=\"T_aa44b388_598a_11ea_a069_48bf6beebc3crow12_col5\" class=\"data row12 col5\" >-0.033091</td>\n",
       "                        <td id=\"T_aa44b388_598a_11ea_a069_48bf6beebc3crow12_col6\" class=\"data row12 col6\" >-0.006485</td>\n",
       "                        <td id=\"T_aa44b388_598a_11ea_a069_48bf6beebc3crow12_col7\" class=\"data row12 col7\" >-0.008907</td>\n",
       "                        <td id=\"T_aa44b388_598a_11ea_a069_48bf6beebc3crow12_col8\" class=\"data row12 col8\" >0.011315</td>\n",
       "                        <td id=\"T_aa44b388_598a_11ea_a069_48bf6beebc3crow12_col9\" class=\"data row12 col9\" >-0.016098</td>\n",
       "                        <td id=\"T_aa44b388_598a_11ea_a069_48bf6beebc3crow12_col10\" class=\"data row12 col10\" >0.076775</td>\n",
       "                        <td id=\"T_aa44b388_598a_11ea_a069_48bf6beebc3crow12_col11\" class=\"data row12 col11\" >0.097393</td>\n",
       "                        <td id=\"T_aa44b388_598a_11ea_a069_48bf6beebc3crow12_col12\" class=\"data row12 col12\" >1.000000</td>\n",
       "                        <td id=\"T_aa44b388_598a_11ea_a069_48bf6beebc3crow12_col13\" class=\"data row12 col13\" >0.047520</td>\n",
       "                        <td id=\"T_aa44b388_598a_11ea_a069_48bf6beebc3crow12_col14\" class=\"data row12 col14\" >-0.000691</td>\n",
       "                        <td id=\"T_aa44b388_598a_11ea_a069_48bf6beebc3crow12_col15\" class=\"data row12 col15\" >-0.011595</td>\n",
       "            </tr>\n",
       "            <tr>\n",
       "                        <th id=\"T_aa44b388_598a_11ea_a069_48bf6beebc3clevel0_row13\" class=\"row_heading level0 row13\" >TrafficType</th>\n",
       "                        <td id=\"T_aa44b388_598a_11ea_a069_48bf6beebc3crow13_col0\" class=\"data row13 col0\" >-0.033561</td>\n",
       "                        <td id=\"T_aa44b388_598a_11ea_a069_48bf6beebc3crow13_col1\" class=\"data row13 col1\" >-0.014376</td>\n",
       "                        <td id=\"T_aa44b388_598a_11ea_a069_48bf6beebc3crow13_col2\" class=\"data row13 col2\" >-0.034491</td>\n",
       "                        <td id=\"T_aa44b388_598a_11ea_a069_48bf6beebc3crow13_col3\" class=\"data row13 col3\" >-0.024675</td>\n",
       "                        <td id=\"T_aa44b388_598a_11ea_a069_48bf6beebc3crow13_col4\" class=\"data row13 col4\" >-0.043064</td>\n",
       "                        <td id=\"T_aa44b388_598a_11ea_a069_48bf6beebc3crow13_col5\" class=\"data row13 col5\" >-0.036377</td>\n",
       "                        <td id=\"T_aa44b388_598a_11ea_a069_48bf6beebc3crow13_col6\" class=\"data row13 col6\" >0.078286</td>\n",
       "                        <td id=\"T_aa44b388_598a_11ea_a069_48bf6beebc3crow13_col7\" class=\"data row13 col7\" >0.078616</td>\n",
       "                        <td id=\"T_aa44b388_598a_11ea_a069_48bf6beebc3crow13_col8\" class=\"data row13 col8\" >0.012532</td>\n",
       "                        <td id=\"T_aa44b388_598a_11ea_a069_48bf6beebc3crow13_col9\" class=\"data row13 col9\" >0.052301</td>\n",
       "                        <td id=\"T_aa44b388_598a_11ea_a069_48bf6beebc3crow13_col10\" class=\"data row13 col10\" >0.189154</td>\n",
       "                        <td id=\"T_aa44b388_598a_11ea_a069_48bf6beebc3crow13_col11\" class=\"data row13 col11\" >0.111938</td>\n",
       "                        <td id=\"T_aa44b388_598a_11ea_a069_48bf6beebc3crow13_col12\" class=\"data row13 col12\" >0.047520</td>\n",
       "                        <td id=\"T_aa44b388_598a_11ea_a069_48bf6beebc3crow13_col13\" class=\"data row13 col13\" >1.000000</td>\n",
       "                        <td id=\"T_aa44b388_598a_11ea_a069_48bf6beebc3crow13_col14\" class=\"data row13 col14\" >-0.002221</td>\n",
       "                        <td id=\"T_aa44b388_598a_11ea_a069_48bf6beebc3crow13_col15\" class=\"data row13 col15\" >-0.005113</td>\n",
       "            </tr>\n",
       "            <tr>\n",
       "                        <th id=\"T_aa44b388_598a_11ea_a069_48bf6beebc3clevel0_row14\" class=\"row_heading level0 row14\" >Weekend</th>\n",
       "                        <td id=\"T_aa44b388_598a_11ea_a069_48bf6beebc3crow14_col0\" class=\"data row14 col0\" >0.026417</td>\n",
       "                        <td id=\"T_aa44b388_598a_11ea_a069_48bf6beebc3crow14_col1\" class=\"data row14 col1\" >0.014990</td>\n",
       "                        <td id=\"T_aa44b388_598a_11ea_a069_48bf6beebc3crow14_col2\" class=\"data row14 col2\" >0.035785</td>\n",
       "                        <td id=\"T_aa44b388_598a_11ea_a069_48bf6beebc3crow14_col3\" class=\"data row14 col3\" >0.024078</td>\n",
       "                        <td id=\"T_aa44b388_598a_11ea_a069_48bf6beebc3crow14_col4\" class=\"data row14 col4\" >0.016092</td>\n",
       "                        <td id=\"T_aa44b388_598a_11ea_a069_48bf6beebc3crow14_col5\" class=\"data row14 col5\" >0.007311</td>\n",
       "                        <td id=\"T_aa44b388_598a_11ea_a069_48bf6beebc3crow14_col6\" class=\"data row14 col6\" >-0.046514</td>\n",
       "                        <td id=\"T_aa44b388_598a_11ea_a069_48bf6beebc3crow14_col7\" class=\"data row14 col7\" >-0.062587</td>\n",
       "                        <td id=\"T_aa44b388_598a_11ea_a069_48bf6beebc3crow14_col8\" class=\"data row14 col8\" >0.012002</td>\n",
       "                        <td id=\"T_aa44b388_598a_11ea_a069_48bf6beebc3crow14_col9\" class=\"data row14 col9\" >-0.016767</td>\n",
       "                        <td id=\"T_aa44b388_598a_11ea_a069_48bf6beebc3crow14_col10\" class=\"data row14 col10\" >0.000284</td>\n",
       "                        <td id=\"T_aa44b388_598a_11ea_a069_48bf6beebc3crow14_col11\" class=\"data row14 col11\" >-0.040261</td>\n",
       "                        <td id=\"T_aa44b388_598a_11ea_a069_48bf6beebc3crow14_col12\" class=\"data row14 col12\" >-0.000691</td>\n",
       "                        <td id=\"T_aa44b388_598a_11ea_a069_48bf6beebc3crow14_col13\" class=\"data row14 col13\" >-0.002221</td>\n",
       "                        <td id=\"T_aa44b388_598a_11ea_a069_48bf6beebc3crow14_col14\" class=\"data row14 col14\" >1.000000</td>\n",
       "                        <td id=\"T_aa44b388_598a_11ea_a069_48bf6beebc3crow14_col15\" class=\"data row14 col15\" >0.029295</td>\n",
       "            </tr>\n",
       "            <tr>\n",
       "                        <th id=\"T_aa44b388_598a_11ea_a069_48bf6beebc3clevel0_row15\" class=\"row_heading level0 row15\" >Revenue</th>\n",
       "                        <td id=\"T_aa44b388_598a_11ea_a069_48bf6beebc3crow15_col0\" class=\"data row15 col0\" >0.138917</td>\n",
       "                        <td id=\"T_aa44b388_598a_11ea_a069_48bf6beebc3crow15_col1\" class=\"data row15 col1\" >0.093587</td>\n",
       "                        <td id=\"T_aa44b388_598a_11ea_a069_48bf6beebc3crow15_col2\" class=\"data row15 col2\" >0.095200</td>\n",
       "                        <td id=\"T_aa44b388_598a_11ea_a069_48bf6beebc3crow15_col3\" class=\"data row15 col3\" >0.070345</td>\n",
       "                        <td id=\"T_aa44b388_598a_11ea_a069_48bf6beebc3crow15_col4\" class=\"data row15 col4\" >0.158538</td>\n",
       "                        <td id=\"T_aa44b388_598a_11ea_a069_48bf6beebc3crow15_col5\" class=\"data row15 col5\" >0.152373</td>\n",
       "                        <td id=\"T_aa44b388_598a_11ea_a069_48bf6beebc3crow15_col6\" class=\"data row15 col6\" >-0.150673</td>\n",
       "                        <td id=\"T_aa44b388_598a_11ea_a069_48bf6beebc3crow15_col7\" class=\"data row15 col7\" >-0.207071</td>\n",
       "                        <td id=\"T_aa44b388_598a_11ea_a069_48bf6beebc3crow15_col8\" class=\"data row15 col8\" >0.492569</td>\n",
       "                        <td id=\"T_aa44b388_598a_11ea_a069_48bf6beebc3crow15_col9\" class=\"data row15 col9\" >-0.082305</td>\n",
       "                        <td id=\"T_aa44b388_598a_11ea_a069_48bf6beebc3crow15_col10\" class=\"data row15 col10\" >-0.014668</td>\n",
       "                        <td id=\"T_aa44b388_598a_11ea_a069_48bf6beebc3crow15_col11\" class=\"data row15 col11\" >0.023984</td>\n",
       "                        <td id=\"T_aa44b388_598a_11ea_a069_48bf6beebc3crow15_col12\" class=\"data row15 col12\" >-0.011595</td>\n",
       "                        <td id=\"T_aa44b388_598a_11ea_a069_48bf6beebc3crow15_col13\" class=\"data row15 col13\" >-0.005113</td>\n",
       "                        <td id=\"T_aa44b388_598a_11ea_a069_48bf6beebc3crow15_col14\" class=\"data row15 col14\" >0.029295</td>\n",
       "                        <td id=\"T_aa44b388_598a_11ea_a069_48bf6beebc3crow15_col15\" class=\"data row15 col15\" >1.000000</td>\n",
       "            </tr>\n",
       "    </tbody></table>"
      ],
      "text/plain": [
       "<pandas.io.formats.style.Styler at 0x13497d850>"
      ]
     },
     "execution_count": 30,
     "metadata": {},
     "output_type": "execute_result"
    }
   ],
   "source": [
    "corr = df.corr()\n",
    "corr.style.background_gradient(cmap = 'coolwarm')"
   ]
  },
  {
   "cell_type": "markdown",
   "metadata": {
    "slideshow": {
     "slide_type": "fragment"
    }
   },
   "source": [
    "- It Appears the PageValues is the most heavily correlated with generating revenue. Also, features such as OperatingSystems, Region and TrafficType have correlation less than 0.02, so I'll drop these columns.\n",
    "- The relation between Administrative and Administrative_Duration, Informational and Informational_Duration and ProductRelated and ProductRelated_Duration appear to have a very high correlation. This makes sense due to the more time spent on a page, the more views the page is likely to have. Therefore, we can remove the Traffic Type. "
   ]
  },
  {
   "cell_type": "code",
   "execution_count": 31,
   "metadata": {
    "slideshow": {
     "slide_type": "slide"
    }
   },
   "outputs": [
    {
     "data": {
      "image/png": "[encoded data removed]",
      "text/plain": [
       "<Figure size 432x288 with 1 Axes>"
      ]
     },
     "metadata": {
      "needs_background": "light"
     },
     "output_type": "display_data"
    }
   ],
   "source": [
    "df.plot(kind='scatter',x='Administrative',y='Administrative_Duration',color='yellow')\n",
    "plt.show()"
   ]
  },
  {
   "cell_type": "code",
   "execution_count": 32,
   "metadata": {
    "slideshow": {
     "slide_type": "subslide"
    }
   },
   "outputs": [
    {
     "data": {
      "image/png": "[encoded data removed]",
      "text/plain": [
       "<Figure size 432x288 with 1 Axes>"
      ]
     },
     "metadata": {
      "needs_background": "light"
     },
     "output_type": "display_data"
    }
   ],
   "source": [
    "df.plot(kind='scatter',x='Administrative',y='ProductRelated',color='red')\n",
    "plt.show()"
   ]
  },
  {
   "cell_type": "code",
   "execution_count": 33,
   "metadata": {
    "slideshow": {
     "slide_type": "subslide"
    }
   },
   "outputs": [
    {
     "data": {
      "image/png": "[encoded data removed]",
      "text/plain": [
       "<Figure size 432x288 with 1 Axes>"
      ]
     },
     "metadata": {
      "needs_background": "light"
     },
     "output_type": "display_data"
    }
   ],
   "source": [
    "df.plot(kind='scatter',x='Administrative',y='PageValues',color='green')\n",
    "plt.show()"
   ]
  },
  {
   "cell_type": "code",
   "execution_count": 116,
   "metadata": {
    "slideshow": {
     "slide_type": "subslide"
    }
   },
   "outputs": [
    {
     "data": {
      "image/png": "[encoded data removed]",
      "text/plain": [
       "<Figure size 432x288 with 1 Axes>"
      ]
     },
     "metadata": {
      "needs_background": "light"
     },
     "output_type": "display_data"
    }
   ],
   "source": [
    "df.plot(kind='scatter',x='PageValues',y='ProductRelated',color='blue')\n",
    "plt.show()"
   ]
  },
  {
   "cell_type": "code",
   "execution_count": 118,
   "metadata": {
    "slideshow": {
     "slide_type": "subslide"
    }
   },
   "outputs": [
    {
     "data": {
      "image/png": "[encoded data removed]",
      "text/plain": [
       "<Figure size 432x288 with 1 Axes>"
      ]
     },
     "metadata": {
      "needs_background": "light"
     },
     "output_type": "display_data"
    }
   ],
   "source": [
    "df.plot(kind='scatter',x='Informational',y='ProductRelated',color='green')\n",
    "plt.show()"
   ]
  },
  {
   "cell_type": "code",
   "execution_count": 122,
   "metadata": {
    "slideshow": {
     "slide_type": "slide"
    }
   },
   "outputs": [
    {
     "data": {
      "text/html": [
       "<div>\n",
       "<style scoped>\n",
       "    .dataframe tbody tr th:only-of-type {\n",
       "        vertical-align: middle;\n",
       "    }\n",
       "\n",
       "    .dataframe tbody tr th {\n",
       "        vertical-align: top;\n",
       "    }\n",
       "\n",
       "    .dataframe thead th {\n",
       "        text-align: right;\n",
       "    }\n",
       "</style>\n",
       "<table border=\"1\" class=\"dataframe\">\n",
       "  <thead>\n",
       "    <tr style=\"text-align: right;\">\n",
       "      <th></th>\n",
       "      <th>Administrative</th>\n",
       "      <th>Administrative_Duration</th>\n",
       "      <th>Informational</th>\n",
       "      <th>Informational_Duration</th>\n",
       "      <th>ProductRelated</th>\n",
       "      <th>ProductRelated_Duration</th>\n",
       "      <th>BounceRates</th>\n",
       "      <th>ExitRates</th>\n",
       "      <th>PageValues</th>\n",
       "      <th>SpecialDay</th>\n",
       "      <th>Month</th>\n",
       "      <th>OperatingSystems</th>\n",
       "      <th>Browser</th>\n",
       "      <th>Region</th>\n",
       "      <th>TrafficType</th>\n",
       "      <th>VisitorType</th>\n",
       "      <th>Weekend</th>\n",
       "      <th>Revenue</th>\n",
       "    </tr>\n",
       "  </thead>\n",
       "  <tbody>\n",
       "    <tr>\n",
       "      <th>5855</th>\n",
       "      <td>1</td>\n",
       "      <td>65.400000</td>\n",
       "      <td>0</td>\n",
       "      <td>0.0</td>\n",
       "      <td>37</td>\n",
       "      <td>2097.420000</td>\n",
       "      <td>0.003604</td>\n",
       "      <td>0.010991</td>\n",
       "      <td>0.000000</td>\n",
       "      <td>0.0</td>\n",
       "      <td>Jul</td>\n",
       "      <td>1</td>\n",
       "      <td>1</td>\n",
       "      <td>5</td>\n",
       "      <td>2</td>\n",
       "      <td>Returning_Visitor</td>\n",
       "      <td>False</td>\n",
       "      <td>False</td>\n",
       "    </tr>\n",
       "    <tr>\n",
       "      <th>1876</th>\n",
       "      <td>4</td>\n",
       "      <td>179.607143</td>\n",
       "      <td>2</td>\n",
       "      <td>5.5</td>\n",
       "      <td>34</td>\n",
       "      <td>1045.102381</td>\n",
       "      <td>0.000000</td>\n",
       "      <td>0.007603</td>\n",
       "      <td>0.000000</td>\n",
       "      <td>0.0</td>\n",
       "      <td>Mar</td>\n",
       "      <td>1</td>\n",
       "      <td>1</td>\n",
       "      <td>1</td>\n",
       "      <td>3</td>\n",
       "      <td>Returning_Visitor</td>\n",
       "      <td>False</td>\n",
       "      <td>False</td>\n",
       "    </tr>\n",
       "    <tr>\n",
       "      <th>10245</th>\n",
       "      <td>12</td>\n",
       "      <td>209.375000</td>\n",
       "      <td>0</td>\n",
       "      <td>0.0</td>\n",
       "      <td>43</td>\n",
       "      <td>2754.117424</td>\n",
       "      <td>0.004687</td>\n",
       "      <td>0.033875</td>\n",
       "      <td>13.681089</td>\n",
       "      <td>0.0</td>\n",
       "      <td>Dec</td>\n",
       "      <td>3</td>\n",
       "      <td>2</td>\n",
       "      <td>3</td>\n",
       "      <td>2</td>\n",
       "      <td>Returning_Visitor</td>\n",
       "      <td>False</td>\n",
       "      <td>False</td>\n",
       "    </tr>\n",
       "    <tr>\n",
       "      <th>1494</th>\n",
       "      <td>1</td>\n",
       "      <td>19.000000</td>\n",
       "      <td>0</td>\n",
       "      <td>0.0</td>\n",
       "      <td>22</td>\n",
       "      <td>525.266667</td>\n",
       "      <td>0.000000</td>\n",
       "      <td>0.007710</td>\n",
       "      <td>0.000000</td>\n",
       "      <td>0.0</td>\n",
       "      <td>Mar</td>\n",
       "      <td>3</td>\n",
       "      <td>2</td>\n",
       "      <td>7</td>\n",
       "      <td>1</td>\n",
       "      <td>Returning_Visitor</td>\n",
       "      <td>False</td>\n",
       "      <td>False</td>\n",
       "    </tr>\n",
       "    <tr>\n",
       "      <th>3099</th>\n",
       "      <td>0</td>\n",
       "      <td>0.000000</td>\n",
       "      <td>1</td>\n",
       "      <td>20.0</td>\n",
       "      <td>13</td>\n",
       "      <td>816.954545</td>\n",
       "      <td>0.028571</td>\n",
       "      <td>0.047619</td>\n",
       "      <td>0.000000</td>\n",
       "      <td>0.0</td>\n",
       "      <td>May</td>\n",
       "      <td>3</td>\n",
       "      <td>2</td>\n",
       "      <td>8</td>\n",
       "      <td>1</td>\n",
       "      <td>Returning_Visitor</td>\n",
       "      <td>False</td>\n",
       "      <td>False</td>\n",
       "    </tr>\n",
       "  </tbody>\n",
       "</table>\n",
       "</div>"
      ],
      "text/plain": [
       "       Administrative  Administrative_Duration  Informational  \\\n",
       "5855                1                65.400000              0   \n",
       "1876                4               179.607143              2   \n",
       "10245              12               209.375000              0   \n",
       "1494                1                19.000000              0   \n",
       "3099                0                 0.000000              1   \n",
       "\n",
       "       Informational_Duration  ProductRelated  ProductRelated_Duration  \\\n",
       "5855                      0.0              37              2097.420000   \n",
       "1876                      5.5              34              1045.102381   \n",
       "10245                     0.0              43              2754.117424   \n",
       "1494                      0.0              22               525.266667   \n",
       "3099                     20.0              13               816.954545   \n",
       "\n",
       "       BounceRates  ExitRates  PageValues  SpecialDay Month  OperatingSystems  \\\n",
       "5855      0.003604   0.010991    0.000000         0.0   Jul                 1   \n",
       "1876      0.000000   0.007603    0.000000         0.0   Mar                 1   \n",
       "10245     0.004687   0.033875   13.681089         0.0   Dec                 3   \n",
       "1494      0.000000   0.007710    0.000000         0.0   Mar                 3   \n",
       "3099      0.028571   0.047619    0.000000         0.0   May                 3   \n",
       "\n",
       "       Browser  Region  TrafficType        VisitorType  Weekend  Revenue  \n",
       "5855         1       5            2  Returning_Visitor    False    False  \n",
       "1876         1       1            3  Returning_Visitor    False    False  \n",
       "10245        2       3            2  Returning_Visitor    False    False  \n",
       "1494         2       7            1  Returning_Visitor    False    False  \n",
       "3099         2       8            1  Returning_Visitor    False    False  "
      ]
     },
     "execution_count": 122,
     "metadata": {},
     "output_type": "execute_result"
    }
   ],
   "source": [
    "df.sample(5)"
   ]
  },
  {
   "cell_type": "markdown",
   "metadata": {
    "slideshow": {
     "slide_type": "slide"
    }
   },
   "source": [
    "## Unpaired T-Test"
   ]
  },
  {
   "cell_type": "markdown",
   "metadata": {
    "slideshow": {
     "slide_type": "fragment"
    }
   },
   "source": [
    "- Here we want to see if the time it took for the Informational Duration is different from the relationship of the product.\n",
    "- This requires a two sample ttest because the samples we are looking at come from populations with unequal variances we can set the equal_var parameter in the test to False."
   ]
  },
  {
   "cell_type": "code",
   "execution_count": 135,
   "metadata": {
    "slideshow": {
     "slide_type": "subslide"
    }
   },
   "outputs": [
    {
     "name": "stdout",
     "output_type": "stream",
     "text": [
      "The t-statistic is -2.062 and the p-value is 0.039.\n",
      "If we assume unequal variances than the t-statistic is -2.062 and the p-value is 0.039.\n"
     ]
    }
   ],
   "source": [
    "from scipy import stats\n",
    "product_related = df['ProductRelated']\n",
    "product_duration = df['Informational_Duration']\n",
    "# assuming same population variances\n",
    "two_sample = stats.ttest_ind(product_related, product_duration)\n",
    "\n",
    "print(\"The t-statistic is %.3f and the p-value is %.3f.\" % two_sample)\n",
    "\n",
    "# assuming unequal population variances\n",
    "two_sample_diff_var = stats.ttest_ind(product_related, product_duration, equal_var=False)\n",
    "\n",
    "print(\"If we assume unequal variances than the t-statistic is %.3f and the p-value is %.3f.\" % two_sample_diff_var)"
   ]
  },
  {
   "cell_type": "markdown",
   "metadata": {
    "slideshow": {
     "slide_type": "subslide"
    }
   },
   "source": [
    "## Result\n",
    "- Reject the Null Hypthesis. \n",
    "- The p-values < 0.05.\n",
    "- Here we conclude that informational duration and the relationship to the product are different "
   ]
  },
  {
   "cell_type": "markdown",
   "metadata": {
    "slideshow": {
     "slide_type": "slide"
    }
   },
   "source": [
    "# Data Engineering "
   ]
  },
  {
   "cell_type": "markdown",
   "metadata": {
    "slideshow": {
     "slide_type": "fragment"
    }
   },
   "source": [
    "- Remove redundant columns"
   ]
  },
  {
   "cell_type": "markdown",
   "metadata": {
    "slideshow": {
     "slide_type": "subslide"
    }
   },
   "source": [
    "### Remove Columns"
   ]
  },
  {
   "cell_type": "markdown",
   "metadata": {
    "slideshow": {
     "slide_type": "subslide"
    }
   },
   "source": [
    "I'll remove columns that appear to be redundant and provide no useful information towards the target class. I'll begin by dropping the count of each page visited."
   ]
  },
  {
   "cell_type": "code",
   "execution_count": 119,
   "metadata": {
    "slideshow": {
     "slide_type": "fragment"
    }
   },
   "outputs": [],
   "source": [
    "X_train = X_train.drop(['Administrative', 'Informational', 'ProductRelated'], axis = 1)\n",
    "X_test = X_test.drop(['Administrative', 'Informational', 'ProductRelated'], axis = 1)"
   ]
  },
  {
   "cell_type": "markdown",
   "metadata": {
    "slideshow": {
     "slide_type": "subslide"
    }
   },
   "source": [
    "I'll remove columns that have less than 0.02 and more than -0.02 correlation with target values."
   ]
  },
  {
   "cell_type": "code",
   "execution_count": 120,
   "metadata": {
    "slideshow": {
     "slide_type": "fragment"
    }
   },
   "outputs": [],
   "source": [
    "X_train.drop(['OperatingSystems', 'Region', 'TrafficType'], axis = 1, inplace = True)\n",
    "X_test.drop(['OperatingSystems', 'Region', 'TrafficType'], axis = 1, inplace = True)"
   ]
  },
  {
   "cell_type": "markdown",
   "metadata": {
    "slideshow": {
     "slide_type": "slide"
    }
   },
   "source": [
    "### Encoding Categorical Columns\n",
    "- The LabelEncoder allows us to to assign ordinal levels to categorical data. Note that the LabelEncoder must be used prior to one-hot encoding, as the OneHotEncoder cannot handle categorical data. Therefore, it is frequently used as pre-cursor to one-hot encoding."
   ]
  },
  {
   "cell_type": "markdown",
   "metadata": {
    "slideshow": {
     "slide_type": "subslide"
    }
   },
   "source": [
    "Next, I'll use LabelEncoder and OneHotEncoder on categorical columns."
   ]
  },
  {
   "cell_type": "code",
   "execution_count": 96,
   "metadata": {
    "slideshow": {
     "slide_type": "fragment"
    }
   },
   "outputs": [],
   "source": [
    "labelEncoder = LabelEncoder()\n",
    "X_train.loc[:, 'Month'] = labelEncoder.fit_transform(X_train.loc[:,'Month'])\n",
    "X_test.loc[:, 'Month'] = labelEncoder.transform(X_test.loc[:, 'Month'])\n",
    "X_train.loc[:, 'VisitorType'] = labelEncoder.fit_transform(X_train.loc[:, 'VisitorType'])\n",
    "X_test.loc[:, 'VisitorType'] = labelEncoder.transform(X_test.loc[:, 'VisitorType'])\n",
    "X_train.loc[:, 'Weekend'] = labelEncoder.fit_transform(X_train.loc[:, 'Weekend'])\n",
    "X_test.loc[:, 'Weekend'] = labelEncoder.transform(X_test.loc[:, 'Weekend'])"
   ]
  },
  {
   "cell_type": "markdown",
   "metadata": {
    "slideshow": {
     "slide_type": "subslide"
    }
   },
   "source": [
    "- Once the labels are encoded, I'll use OneHotEncoder to create separate columns for each class in the columns, drop the first column for each class and append the new columns to train and test data, once the original columns are removed."
   ]
  },
  {
   "cell_type": "code",
   "execution_count": 97,
   "metadata": {
    "slideshow": {
     "slide_type": "fragment"
    }
   },
   "outputs": [],
   "source": [
    "onehotencoder = OneHotEncoder(categories = 'auto', drop = 'first')\n",
    "train_cat_features = onehotencoder.fit_transform(X_train.loc[:, ['Month', 'Browser', 'VisitorType']]).toarray()\n",
    "train_cat_features = pd.DataFrame(train_cat_features)\n",
    "test_cat_features = onehotencoder.transform(X_test.loc[:, ['Month', 'Browser', 'VisitorType']]).toarray()\n",
    "test_cat_features = pd.DataFrame(test_cat_features)\n",
    "\n",
    "X_train.drop(['Month', 'Browser', 'VisitorType'], axis = 1, inplace = True)\n",
    "X_train = X_train.join(train_cat_features)\n",
    "X_test.drop(['Month', 'Browser', 'VisitorType'], axis = 1, inplace = True)\n",
    "X_test = X_test.join(test_cat_features)"
   ]
  },
  {
   "cell_type": "markdown",
   "metadata": {
    "slideshow": {
     "slide_type": "slide"
    }
   },
   "source": [
    "### Scaling The Data"
   ]
  },
  {
   "cell_type": "markdown",
   "metadata": {
    "slideshow": {
     "slide_type": "fragment"
    }
   },
   "source": [
    "- After removing columns. Scale the columns to have a mean of 0"
   ]
  },
  {
   "cell_type": "code",
   "execution_count": 98,
   "metadata": {
    "slideshow": {
     "slide_type": "fragment"
    }
   },
   "outputs": [],
   "source": [
    "standardScaler = StandardScaler()\n",
    "X_train = standardScaler.fit_transform(X_train)\n",
    "X_test = standardScaler.transform(X_test)"
   ]
  },
  {
   "cell_type": "markdown",
   "metadata": {
    "slideshow": {
     "slide_type": "slide"
    }
   },
   "source": [
    "## Model Generation"
   ]
  },
  {
   "cell_type": "markdown",
   "metadata": {
    "slideshow": {
     "slide_type": "fragment"
    }
   },
   "source": [
    "I'll create the Artificial Neural Network now. I'll create network with many layers."
   ]
  },
  {
   "cell_type": "code",
   "execution_count": 33,
   "metadata": {
    "slideshow": {
     "slide_type": "subslide"
    }
   },
   "outputs": [
    {
     "name": "stderr",
     "output_type": "stream",
     "text": [
      "WARNING: Logging before flag parsing goes to stderr.\n",
      "W0214 16:15:19.771640 4321082816 nn_ops.py:4283] Large dropout rate: 0.6 (>0.5). In TensorFlow 2.x, dropout() uses dropout rate instead of keep_prob. Please ensure that this is intended.\n",
      "W0214 16:15:19.849551 4321082816 nn_ops.py:4283] Large dropout rate: 0.6 (>0.5). In TensorFlow 2.x, dropout() uses dropout rate instead of keep_prob. Please ensure that this is intended.\n",
      "W0214 16:15:19.891057 4321082816 nn_ops.py:4283] Large dropout rate: 0.6 (>0.5). In TensorFlow 2.x, dropout() uses dropout rate instead of keep_prob. Please ensure that this is intended.\n",
      "W0214 16:15:19.998759 4321082816 deprecation.py:323] From /Library/Frameworks/Python.framework/Versions/3.7/lib/python3.7/site-packages/tensorflow_core/python/ops/nn_impl.py:183: where (from tensorflow.python.ops.array_ops) is deprecated and will be removed in a future version.\n",
      "Instructions for updating:\n",
      "Use tf.where in 2.0, which has the same broadcast rule as np.where\n"
     ]
    },
    {
     "name": "stdout",
     "output_type": "stream",
     "text": [
      "Model: \"sequential_1\"\n",
      "_________________________________________________________________\n",
      "Layer (type)                 Output Shape              Param #   \n",
      "=================================================================\n",
      "dense_1 (Dense)              (None, 128)               4224      \n",
      "_________________________________________________________________\n",
      "dropout_1 (Dropout)          (None, 128)               0         \n",
      "_________________________________________________________________\n",
      "dense_2 (Dense)              (None, 128)               16512     \n",
      "_________________________________________________________________\n",
      "dropout_2 (Dropout)          (None, 128)               0         \n",
      "_________________________________________________________________\n",
      "dense_3 (Dense)              (None, 256)               33024     \n",
      "_________________________________________________________________\n",
      "dropout_3 (Dropout)          (None, 256)               0         \n",
      "_________________________________________________________________\n",
      "dense_4 (Dense)              (None, 128)               32896     \n",
      "_________________________________________________________________\n",
      "dropout_4 (Dropout)          (None, 128)               0         \n",
      "_________________________________________________________________\n",
      "dense_5 (Dense)              (None, 1)                 129       \n",
      "=================================================================\n",
      "Total params: 86,785\n",
      "Trainable params: 86,785\n",
      "Non-trainable params: 0\n",
      "_________________________________________________________________\n"
     ]
    }
   ],
   "source": [
    "classifier = Sequential()\n",
    "classifier.add(Dense(units = 128, activation = 'relu', input_dim=32))\n",
    "classifier.add(Dropout(rate = 0.6))\n",
    "classifier.add(Dense(units = 128, activation = 'relu'))\n",
    "classifier.add(Dropout(rate = 0.6))\n",
    "classifier.add(Dense(units = 256, activation = 'relu'))\n",
    "classifier.add(Dropout(rate = 0.6))\n",
    "classifier.add(Dense(units = 128, activation = 'relu'))\n",
    "classifier.add(Dropout(rate = 0.4))\n",
    "classifier.add(Dense(units = 1, activation = 'sigmoid'))\n",
    "classifier.compile(optimizer = 'adam', loss = 'binary_crossentropy', metrics = ['accuracy'])\n",
    "classifier.summary()"
   ]
  },
  {
   "cell_type": "markdown",
   "metadata": {
    "slideshow": {
     "slide_type": "slide"
    }
   },
   "source": [
    "## Training The Model"
   ]
  },
  {
   "cell_type": "markdown",
   "metadata": {
    "slideshow": {
     "slide_type": "fragment"
    }
   },
   "source": [
    "- I'll now train the model with the train data and the validation data as 10% of the train data."
   ]
  },
  {
   "cell_type": "code",
   "execution_count": 35,
   "metadata": {
    "slideshow": {
     "slide_type": "subslide"
    }
   },
   "outputs": [
    {
     "name": "stdout",
     "output_type": "stream",
     "text": [
      "Train on 8877 samples, validate on 987 samples\n",
      "Epoch 1/50\n",
      "8877/8877 [==============================] - 3s 313us/step - loss: 0.4211 - accuracy: 0.8462 - val_loss: 0.3269 - val_accuracy: 0.8723\n",
      "Epoch 2/50\n",
      "8877/8877 [==============================] - 1s 134us/step - loss: 0.3357 - accuracy: 0.8654 - val_loss: 0.2892 - val_accuracy: 0.8804\n",
      "Epoch 3/50\n",
      "8877/8877 [==============================] - 1s 154us/step - loss: 0.3134 - accuracy: 0.8786 - val_loss: 0.2931 - val_accuracy: 0.8815\n",
      "Epoch 4/50\n",
      "8877/8877 [==============================] - 1s 144us/step - loss: 0.2967 - accuracy: 0.8827 - val_loss: 0.2794 - val_accuracy: 0.8835\n",
      "Epoch 5/50\n",
      "8877/8877 [==============================] - 1s 120us/step - loss: 0.2873 - accuracy: 0.8892 - val_loss: 0.2775 - val_accuracy: 0.8845\n",
      "Epoch 6/50\n",
      "8877/8877 [==============================] - 1s 109us/step - loss: 0.2860 - accuracy: 0.8883 - val_loss: 0.2709 - val_accuracy: 0.8855\n",
      "Epoch 7/50\n",
      "8877/8877 [==============================] - 1s 111us/step - loss: 0.2765 - accuracy: 0.8920 - val_loss: 0.2638 - val_accuracy: 0.8865\n",
      "Epoch 8/50\n",
      "8877/8877 [==============================] - 1s 123us/step - loss: 0.2698 - accuracy: 0.8937 - val_loss: 0.2613 - val_accuracy: 0.8886\n",
      "Epoch 9/50\n",
      "8877/8877 [==============================] - 1s 145us/step - loss: 0.2702 - accuracy: 0.8949 - val_loss: 0.2546 - val_accuracy: 0.8886\n",
      "Epoch 10/50\n",
      "8877/8877 [==============================] - 1s 103us/step - loss: 0.2652 - accuracy: 0.8974 - val_loss: 0.2579 - val_accuracy: 0.8906\n",
      "Epoch 11/50\n",
      "8877/8877 [==============================] - 1s 143us/step - loss: 0.2654 - accuracy: 0.8984 - val_loss: 0.2600 - val_accuracy: 0.8916\n",
      "Epoch 12/50\n",
      "8877/8877 [==============================] - 1s 142us/step - loss: 0.2642 - accuracy: 0.8981 - val_loss: 0.2531 - val_accuracy: 0.8926\n",
      "Epoch 13/50\n",
      "8877/8877 [==============================] - 1s 120us/step - loss: 0.2588 - accuracy: 0.8961 - val_loss: 0.2552 - val_accuracy: 0.8946\n",
      "Epoch 14/50\n",
      "8877/8877 [==============================] - 1s 124us/step - loss: 0.2578 - accuracy: 0.8961 - val_loss: 0.2526 - val_accuracy: 0.8936\n",
      "Epoch 15/50\n",
      "8877/8877 [==============================] - 1s 130us/step - loss: 0.2549 - accuracy: 0.8994 - val_loss: 0.2470 - val_accuracy: 0.8956\n",
      "Epoch 16/50\n",
      "8877/8877 [==============================] - 1s 127us/step - loss: 0.2538 - accuracy: 0.9003 - val_loss: 0.2472 - val_accuracy: 0.8906\n",
      "Epoch 17/50\n",
      "8877/8877 [==============================] - 1s 126us/step - loss: 0.2504 - accuracy: 0.9014 - val_loss: 0.2462 - val_accuracy: 0.8916\n",
      "Epoch 18/50\n",
      "8877/8877 [==============================] - 1s 138us/step - loss: 0.2546 - accuracy: 0.9015 - val_loss: 0.2485 - val_accuracy: 0.8936\n",
      "Epoch 19/50\n",
      "8877/8877 [==============================] - 1s 144us/step - loss: 0.2530 - accuracy: 0.9015 - val_loss: 0.2452 - val_accuracy: 0.8906\n",
      "Epoch 20/50\n",
      "8877/8877 [==============================] - 1s 153us/step - loss: 0.2556 - accuracy: 0.8997 - val_loss: 0.2490 - val_accuracy: 0.8916\n",
      "Epoch 21/50\n",
      "8877/8877 [==============================] - 1s 138us/step - loss: 0.2468 - accuracy: 0.8999 - val_loss: 0.2472 - val_accuracy: 0.8926\n",
      "Epoch 22/50\n",
      "8877/8877 [==============================] - 1s 130us/step - loss: 0.2465 - accuracy: 0.8977 - val_loss: 0.2430 - val_accuracy: 0.8977\n",
      "Epoch 23/50\n",
      "8877/8877 [==============================] - 1s 153us/step - loss: 0.2488 - accuracy: 0.9000 - val_loss: 0.2436 - val_accuracy: 0.8946\n",
      "Epoch 24/50\n",
      "8877/8877 [==============================] - 1s 142us/step - loss: 0.2496 - accuracy: 0.9001 - val_loss: 0.2428 - val_accuracy: 0.8926\n",
      "Epoch 25/50\n",
      "8877/8877 [==============================] - 1s 131us/step - loss: 0.2436 - accuracy: 0.9018 - val_loss: 0.2425 - val_accuracy: 0.8906\n",
      "Epoch 26/50\n",
      "8877/8877 [==============================] - 1s 128us/step - loss: 0.2413 - accuracy: 0.9030 - val_loss: 0.2437 - val_accuracy: 0.8936\n",
      "Epoch 27/50\n",
      "8877/8877 [==============================] - 1s 141us/step - loss: 0.2469 - accuracy: 0.9000 - val_loss: 0.2428 - val_accuracy: 0.8906\n",
      "Epoch 28/50\n",
      "8877/8877 [==============================] - 1s 140us/step - loss: 0.2507 - accuracy: 0.9019 - val_loss: 0.2451 - val_accuracy: 0.8936\n",
      "Epoch 29/50\n",
      "8877/8877 [==============================] - 1s 138us/step - loss: 0.2428 - accuracy: 0.9021 - val_loss: 0.2430 - val_accuracy: 0.8946\n",
      "Epoch 30/50\n",
      "8877/8877 [==============================] - 1s 132us/step - loss: 0.2455 - accuracy: 0.8995 - val_loss: 0.2393 - val_accuracy: 0.8956\n",
      "Epoch 31/50\n",
      "8877/8877 [==============================] - 1s 168us/step - loss: 0.2480 - accuracy: 0.9026 - val_loss: 0.2423 - val_accuracy: 0.8956\n",
      "Epoch 32/50\n",
      "8877/8877 [==============================] - 1s 139us/step - loss: 0.2412 - accuracy: 0.9023 - val_loss: 0.2420 - val_accuracy: 0.8946\n",
      "Epoch 33/50\n",
      "8877/8877 [==============================] - 1s 133us/step - loss: 0.2449 - accuracy: 0.9049 - val_loss: 0.2434 - val_accuracy: 0.8956\n",
      "Epoch 34/50\n",
      "8877/8877 [==============================] - 1s 121us/step - loss: 0.2397 - accuracy: 0.9046 - val_loss: 0.2397 - val_accuracy: 0.8956\n",
      "Epoch 35/50\n",
      "8877/8877 [==============================] - 1s 136us/step - loss: 0.2416 - accuracy: 0.9020 - val_loss: 0.2407 - val_accuracy: 0.8926\n",
      "Epoch 36/50\n",
      "8877/8877 [==============================] - 1s 125us/step - loss: 0.2359 - accuracy: 0.9038 - val_loss: 0.2429 - val_accuracy: 0.8906\n",
      "Epoch 37/50\n",
      "8877/8877 [==============================] - 1s 141us/step - loss: 0.2364 - accuracy: 0.9056 - val_loss: 0.2418 - val_accuracy: 0.8936\n",
      "Epoch 38/50\n",
      "8877/8877 [==============================] - 1s 146us/step - loss: 0.2431 - accuracy: 0.9011 - val_loss: 0.2404 - val_accuracy: 0.8896\n",
      "Epoch 39/50\n",
      "8877/8877 [==============================] - 1s 111us/step - loss: 0.2387 - accuracy: 0.9055 - val_loss: 0.2443 - val_accuracy: 0.8916\n",
      "Epoch 40/50\n",
      "8877/8877 [==============================] - 1s 103us/step - loss: 0.2333 - accuracy: 0.9060 - val_loss: 0.2432 - val_accuracy: 0.8926\n",
      "Epoch 41/50\n",
      "8877/8877 [==============================] - 1s 103us/step - loss: 0.2363 - accuracy: 0.9059 - val_loss: 0.2442 - val_accuracy: 0.8875\n",
      "Epoch 42/50\n",
      "8877/8877 [==============================] - 1s 102us/step - loss: 0.2405 - accuracy: 0.9038 - val_loss: 0.2444 - val_accuracy: 0.8906\n",
      "Epoch 43/50\n",
      "8877/8877 [==============================] - 1s 102us/step - loss: 0.2356 - accuracy: 0.9054 - val_loss: 0.2420 - val_accuracy: 0.8926\n",
      "Epoch 44/50\n",
      "8877/8877 [==============================] - 1s 106us/step - loss: 0.2345 - accuracy: 0.9036 - val_loss: 0.2423 - val_accuracy: 0.8896\n",
      "Epoch 45/50\n",
      "8877/8877 [==============================] - 1s 103us/step - loss: 0.2305 - accuracy: 0.9064 - val_loss: 0.2409 - val_accuracy: 0.8906\n",
      "Epoch 46/50\n",
      "8877/8877 [==============================] - 1s 102us/step - loss: 0.2356 - accuracy: 0.9057 - val_loss: 0.2434 - val_accuracy: 0.8936\n",
      "Epoch 47/50\n",
      "8877/8877 [==============================] - 1s 150us/step - loss: 0.2345 - accuracy: 0.9047 - val_loss: 0.2428 - val_accuracy: 0.8896\n",
      "Epoch 48/50\n",
      "8877/8877 [==============================] - 1s 159us/step - loss: 0.2343 - accuracy: 0.9075 - val_loss: 0.2423 - val_accuracy: 0.8865\n",
      "Epoch 49/50\n",
      "8877/8877 [==============================] - 1s 148us/step - loss: 0.2393 - accuracy: 0.9049 - val_loss: 0.2439 - val_accuracy: 0.8845\n",
      "Epoch 50/50\n",
      "8877/8877 [==============================] - 1s 139us/step - loss: 0.2338 - accuracy: 0.9063 - val_loss: 0.2416 - val_accuracy: 0.8886\n"
     ]
    }
   ],
   "source": [
    "history = classifier.fit(X_train, y_train, epochs = 50, shuffle=False, validation_split=0.1)"
   ]
  },
  {
   "cell_type": "markdown",
   "metadata": {
    "slideshow": {
     "slide_type": "slide"
    }
   },
   "source": [
    "### I'll output the prediction on the test data and evaluate the Confusion Matrix and Accuracy."
   ]
  },
  {
   "cell_type": "code",
   "execution_count": 36,
   "metadata": {
    "slideshow": {
     "slide_type": "fragment"
    }
   },
   "outputs": [
    {
     "name": "stdout",
     "output_type": "stream",
     "text": [
      "Confusion matrix: \n",
      "[[1946  109]\n",
      " [ 169  242]]\n",
      "Accuracy: 88.73%\n"
     ]
    }
   ],
   "source": [
    "y_pred = classifier.predict(X_test)\n",
    "y_pred = y_pred > 0.5\n",
    "\n",
    "print('Confusion matrix: ')\n",
    "print(confusion_matrix(y_test, y_pred))\n",
    "print(\"Accuracy: {:.2f}%\".format(accuracy_score(y_test, y_pred)*100))"
   ]
  },
  {
   "cell_type": "markdown",
   "metadata": {
    "slideshow": {
     "slide_type": "slide"
    }
   },
   "source": [
    "# Conclusion"
   ]
  },
  {
   "cell_type": "markdown",
   "metadata": {
    "slideshow": {
     "slide_type": "fragment"
    }
   },
   "source": [
    "The confusion matrix helps us understand the visitors who will generate revenue and who won't.Once the prediction of our model is made based on if they will generate revenue, two things will happen:\n",
    "\n",
    "1. If they're predicted to generate revenue then we don't have to give them coupons to buy, but we could give them points on their account that they can use for future purchases.\n",
    "2. If they're not predicted to generate revenue then we can provide them with discounts/coupons to get them to make a purchase."
   ]
  }
 ],
 "metadata": {
  "celltoolbar": "Slideshow",
  "kernelspec": {
   "display_name": "Python 3",
   "language": "python",
   "name": "python3"
  },
  "language_info": {
   "codemirror_mode": {
    "name": "ipython",
    "version": 3
   },
   "file_extension": ".py",
   "mimetype": "text/x-python",
   "name": "python",
   "nbconvert_exporter": "python",
   "pygments_lexer": "ipython3",
   "version": "3.7.6"
  }
 },
 "nbformat": 4,
 "nbformat_minor": 2
}
