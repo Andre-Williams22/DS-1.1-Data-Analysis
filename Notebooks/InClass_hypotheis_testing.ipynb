{
 "cells": [
  {
   "cell_type": "code",
   "execution_count": 8,
   "metadata": {},
   "outputs": [
    {
     "data": {
      "text/html": [
       "<div>\n",
       "<style scoped>\n",
       "    .dataframe tbody tr th:only-of-type {\n",
       "        vertical-align: middle;\n",
       "    }\n",
       "\n",
       "    .dataframe tbody tr th {\n",
       "        vertical-align: top;\n",
       "    }\n",
       "\n",
       "    .dataframe thead th {\n",
       "        text-align: right;\n",
       "    }\n",
       "</style>\n",
       "<table border=\"1\" class=\"dataframe\">\n",
       "  <thead>\n",
       "    <tr style=\"text-align: right;\">\n",
       "      <th></th>\n",
       "      <th>Unnamed: 0</th>\n",
       "      <th>Gender</th>\n",
       "      <th>FSIQ</th>\n",
       "      <th>VIQ</th>\n",
       "      <th>PIQ</th>\n",
       "      <th>Weight</th>\n",
       "      <th>Height</th>\n",
       "      <th>MRI_Count</th>\n",
       "    </tr>\n",
       "  </thead>\n",
       "  <tbody>\n",
       "    <tr>\n",
       "      <th>0</th>\n",
       "      <td>1</td>\n",
       "      <td>Female</td>\n",
       "      <td>133</td>\n",
       "      <td>132</td>\n",
       "      <td>124</td>\n",
       "      <td>118.0</td>\n",
       "      <td>64.5</td>\n",
       "      <td>816932</td>\n",
       "    </tr>\n",
       "    <tr>\n",
       "      <th>1</th>\n",
       "      <td>2</td>\n",
       "      <td>Male</td>\n",
       "      <td>140</td>\n",
       "      <td>150</td>\n",
       "      <td>124</td>\n",
       "      <td>NaN</td>\n",
       "      <td>72.5</td>\n",
       "      <td>1001121</td>\n",
       "    </tr>\n",
       "    <tr>\n",
       "      <th>2</th>\n",
       "      <td>3</td>\n",
       "      <td>Male</td>\n",
       "      <td>139</td>\n",
       "      <td>123</td>\n",
       "      <td>150</td>\n",
       "      <td>143.0</td>\n",
       "      <td>73.3</td>\n",
       "      <td>1038437</td>\n",
       "    </tr>\n",
       "    <tr>\n",
       "      <th>3</th>\n",
       "      <td>4</td>\n",
       "      <td>Male</td>\n",
       "      <td>133</td>\n",
       "      <td>129</td>\n",
       "      <td>128</td>\n",
       "      <td>172.0</td>\n",
       "      <td>68.8</td>\n",
       "      <td>965353</td>\n",
       "    </tr>\n",
       "    <tr>\n",
       "      <th>4</th>\n",
       "      <td>5</td>\n",
       "      <td>Female</td>\n",
       "      <td>137</td>\n",
       "      <td>132</td>\n",
       "      <td>134</td>\n",
       "      <td>147.0</td>\n",
       "      <td>65.0</td>\n",
       "      <td>951545</td>\n",
       "    </tr>\n",
       "  </tbody>\n",
       "</table>\n",
       "</div>"
      ],
      "text/plain": [
       "   Unnamed: 0  Gender  FSIQ  VIQ  PIQ  Weight  Height  MRI_Count\n",
       "0           1  Female   133  132  124   118.0    64.5     816932\n",
       "1           2    Male   140  150  124     NaN    72.5    1001121\n",
       "2           3    Male   139  123  150   143.0    73.3    1038437\n",
       "3           4    Male   133  129  128   172.0    68.8     965353\n",
       "4           5  Female   137  132  134   147.0    65.0     951545"
      ]
     },
     "execution_count": 8,
     "metadata": {},
     "output_type": "execute_result"
    }
   ],
   "source": [
    "import pandas as pd\n",
    "import numpy as np \n",
    "from pandas.plotting import scatter_matrix\n",
    "import matplotlib.pyplot as plt\n",
    "from scipy import stats\n",
    "\n",
    "df = pd.read_csv('Datasets/brain_size.csv', sep=';', na_values=\".\")\n",
    "df.head()"
   ]
  },
  {
   "cell_type": "code",
   "execution_count": 28,
   "metadata": {},
   "outputs": [],
   "source": [
    "df = df.dropna()"
   ]
  },
  {
   "cell_type": "code",
   "execution_count": 29,
   "metadata": {},
   "outputs": [
    {
     "name": "stdout",
     "output_type": "stream",
     "text": [
      "0.4550660394858371\n",
      "The VIQ for male and female are the same\n"
     ]
    }
   ],
   "source": [
    "from scipy.stats import ttest_ind \n",
    "female_iq = df[df['Gender']=='Male']['VIQ']\n",
    "male_iq = df[df['Gender']=='Female']['VIQ']\n",
    "stat, p = ttest_ind(female_iq, male_iq)\n",
    "print(p)\n",
    "if p < .05:\n",
    "    print('The VIQ for male and female are different')\n",
    "else:\n",
    "    print('The VIQ for male and female are the same')"
   ]
  },
  {
   "cell_type": "code",
   "execution_count": 30,
   "metadata": {},
   "outputs": [
    {
     "name": "stdout",
     "output_type": "stream",
     "text": [
      "0.8015127184458677\n",
      "The VIQ for male and female are the same\n"
     ]
    }
   ],
   "source": [
    "from scipy.stats import ttest_ind \n",
    "female_iq = df[df['Gender']=='Male']['PIQ']\n",
    "male_iq = df[df['Gender']=='Female']['PIQ']\n",
    "stat, p = ttest_ind(female_iq, male_iq)\n",
    "print(p)\n",
    "if p < .05:\n",
    "    print('The VIQ for male and female are different')\n",
    "else:\n",
    "    print('The VIQ for male and female are the same')"
   ]
  },
  {
   "cell_type": "code",
   "execution_count": 31,
   "metadata": {},
   "outputs": [
    {
     "name": "stdout",
     "output_type": "stream",
     "text": [
      "2.227293018362118e-05\n",
      "The VIQ for male and female are different\n"
     ]
    }
   ],
   "source": [
    "from scipy.stats import ttest_ind \n",
    "female_iq = df[df['Gender']=='Male']['Weight']\n",
    "male_iq = df[df['Gender']=='Female']['Weight']\n",
    "stat, p = ttest_ind(female_iq, male_iq)\n",
    "print(p)\n",
    "if p < .05:\n",
    "    print('The VIQ for male and female are different')\n",
    "else:\n",
    "    print('The VIQ for male and female are the same')"
   ]
  },
  {
   "cell_type": "code",
   "execution_count": 32,
   "metadata": {},
   "outputs": [
    {
     "name": "stdout",
     "output_type": "stream",
     "text": [
      "0.6582675757550638\n",
      "The VIQ for male and female are the same\n"
     ]
    }
   ],
   "source": [
    "from scipy.stats import ttest_ind \n",
    "female_iq = df[df['Gender']=='Male']['FSIQ']\n",
    "male_iq = df[df['Gender']=='Female']['FSIQ']\n",
    "stat, p = ttest_ind(female_iq, male_iq)\n",
    "print(p)\n",
    "if p < .05:\n",
    "    print('The VIQ for male and female are different')\n",
    "else:\n",
    "    print('The VIQ for male and female are the same')"
   ]
  },
  {
   "cell_type": "code",
   "execution_count": 33,
   "metadata": {},
   "outputs": [
    {
     "name": "stdout",
     "output_type": "stream",
     "text": [
      "5.83598319801381e-07\n",
      "The VIQ for male and female are different 5.83598319801381e-07\n"
     ]
    }
   ],
   "source": [
    "from scipy.stats import ttest_ind \n",
    "female_iq = df[df['Gender']=='Male']['Height']\n",
    "male_iq = df[df['Gender']=='Female']['Height']\n",
    "stat, p = ttest_ind(female_iq, male_iq)\n",
    "print(p)\n",
    "if p < .05:\n",
    "    print('The VIQ for male and female are different '+ str(p))\n",
    "else:\n",
    "    print('The VIQ for male and female are the same '+ str(p))"
   ]
  },
  {
   "cell_type": "code",
   "execution_count": null,
   "metadata": {},
   "outputs": [],
   "source": []
  },
  {
   "cell_type": "code",
   "execution_count": null,
   "metadata": {},
   "outputs": [],
   "source": []
  }
 ],
 "metadata": {
  "kernelspec": {
   "display_name": "Python 3",
   "language": "python",
   "name": "python3"
  },
  "language_info": {
   "codemirror_mode": {
    "name": "ipython",
    "version": 3
   },
   "file_extension": ".py",
   "mimetype": "text/x-python",
   "name": "python",
   "nbconvert_exporter": "python",
   "pygments_lexer": "ipython3",
   "version": "3.7.6"
  }
 },
 "nbformat": 4,
 "nbformat_minor": 2
}
