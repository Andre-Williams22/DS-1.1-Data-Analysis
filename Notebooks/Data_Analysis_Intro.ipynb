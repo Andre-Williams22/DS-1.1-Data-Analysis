{
 "cells": [
  {
   "cell_type": "markdown",
   "metadata": {},
   "source": [
    "## What is Data Science?\n",
    "\n",
    "- Lets watch this good video : https://www.youtube.com/watch?v=KdgQvgE3ji4&t=217s\n",
    "\n",
    "<img src=\"Images/DS_process.png\" width=\"600\" height=\"600\">"
   ]
  },
  {
   "cell_type": "markdown",
   "metadata": {},
   "source": [
    "## Data Science Road Map at Make School\n",
    "\n",
    "- https://docs.google.com/document/d/1dtMNJRDto5cWPLJv0J4eGxv_rv__20ZKsd9RaXU0ioM/edit"
   ]
  },
  {
   "cell_type": "markdown",
   "metadata": {},
   "source": [
    "## What is Exploratory Data Analysis (EDA)?\n",
    "\n",
    "- Refers to the **critical process of performing initial investigations on data**. This allows us to discover patterns, spot anomalies, test our hypothesis, and check assumptions with the help of summary statistics and graphical representations\n",
    "\n",
    "- EDA has three components:\n",
    "\n",
    "    - **Data analysis**. Example: the telecom churn dataset is given, we want to obtain what is the percentage of loyal and non-loyal customers, which state has the highest churn customers, What is the maximum length of international calls among loyal users (Churn == 0) who do not have an international plan?\n",
    "    \n",
    "    - **Data analysis and visualization**. Normally comparison by plotting the result which is easier for human than reading raw numbers\n",
    "    \n",
    "    - **Statistical analysis on the data**. Example: the titanic dataset is given, at specific \"Embark\" what is the distibution of male passengers over all age (were they mainly young, middle age or old)\n",
    "    \n",
    "<img src=\"Images/DA_process.png\" width=\"600\" height=\"600\">"
   ]
  },
  {
   "cell_type": "markdown",
   "metadata": {},
   "source": [
    "## Software and Tools For EDA\n",
    "\n",
    "- For now, you’ll only need [Anaconda](https://www.anaconda.com/distribution/) (built with Python 3.6)\n",
    "\n",
    "- After Anaconda, we mainly use:\n",
    "\n",
    "    - [pandas](https://pandas.pydata.org/), which is a Python library that provides extensive means for data analysis\n",
    "    \n",
    "    - [matplotlib](https://matplotlib.org/) and [seaborn](https://seaborn.pydata.org/), for data visualization\n",
    "    \n",
    "    - [scipy](https://www.scipy.org/) and [statsmodels](https://www.statsmodels.org/stable/index.html) for statistical data analysis\n",
    "    \n",
    "<img src=\"Images/DA_tools.png\" width=\"600\" height=\"600\">"
   ]
  },
  {
   "cell_type": "markdown",
   "metadata": {},
   "source": [
    "## What is Jupyter Notebook?\n",
    "\n",
    "<img src=\"Images/what_is_jupyter_notebook.png\" width=\"600\" height=\"600\">"
   ]
  },
  {
   "cell_type": "markdown",
   "metadata": {},
   "source": [
    "## Which data career makes more money in London?\n",
    "\n",
    "This is an example of Statistical Data Analysis\n",
    "\n",
    "We'll review [this tutorial](https://dashee87.github.io/data%20science/r/Engineering-Data-Engineers/) that shows you how to scrape the Indeed API for all junior/senior positions for Data Engineer, Data Analyst and Data Scientist.\n",
    "\n",
    "<img src=\"Images/DE_DA_DS.png\" width=\"500\" height=\"500\">\n",
    "\n",
    "Later in this course, you'll know how to follow collect, analyze, and visualize data like they do in this tutorial. You will also learn how to represent the salaries in Cumulative Density Function (CDF)\n",
    "\n"
   ]
  },
  {
   "cell_type": "markdown",
   "metadata": {},
   "source": [
    "## Resources we can use to pull/access data\n",
    "\n",
    "- Databases, writing SQL queries for example \n",
    "\n",
    "- CSV files\n",
    "\n",
    "- Calling APIs, such as the previously shown Indeed API\n",
    "\n",
    "- Crawling (Scrape) websites "
   ]
  },
  {
   "cell_type": "markdown",
   "metadata": {},
   "source": [
    "## Activity: How many female passengers survived the Titanic?\n",
    "\n",
    "- Dataset Description: https://www.kaggle.com/andyyang/titanic-survival-project\n",
    "\n",
    "- The intention of this activity is to show that by using appropriate data science packages, we can accelarate our analysis and modeling of our data "
   ]
  },
  {
   "cell_type": "code",
   "execution_count": 2,
   "metadata": {},
   "outputs": [
    {
     "name": "stdout",
     "output_type": "stream",
     "text": [
      "233\n"
     ]
    }
   ],
   "source": [
    "# without using pandas\n",
    "import csv\n",
    "\n",
    "with open('titanic.csv') as csv_file:\n",
    "    csv_reader = csv.reader(csv_file, delimiter=',')\n",
    "    # set the counter\n",
    "    c = 0\n",
    "    # iterate over rows \n",
    "    for row in csv_reader:\n",
    "        # if passenger is female and if she survived, increase the counter\n",
    "        if (row[1] == '1') & (row[4] == 'female'):\n",
    "            c += 1\n",
    "print(c)"
   ]
  },
  {
   "cell_type": "code",
   "execution_count": 26,
   "metadata": {},
   "outputs": [
    {
     "name": "stdout",
     "output_type": "stream",
     "text": [
      "109\n"
     ]
    }
   ],
   "source": [
    "with open('titanic.csv') as csv_file:\n",
    "    csv_reader = csv.reader(csv_file, delimiter=',')\n",
    "    # set the counter\n",
    "    c = 0\n",
    "    # iterate over rows \n",
    "    for row in csv_reader:\n",
    "        # if passenger is female and if she survived, increase the counter\n",
    "        if (row[1] == '1') & (row[4] == 'male'):\n",
    "            c += 1\n",
    "print(c)"
   ]
  },
  {
   "cell_type": "code",
   "execution_count": 55,
   "metadata": {},
   "outputs": [
    {
     "name": "stdout",
     "output_type": "stream",
     "text": [
      "females survived: 233\n"
     ]
    }
   ],
   "source": [
    "# Using pandas\n",
    "\n",
    "import pandas as pd\n",
    "\n",
    "df = pd.read_csv('titanic.csv')\n",
    "\n",
    "fs = len(df[(df['Sex'] == 'female') & (df['Survived'] == 1)])\n",
    "fd = len(df[(df['Sex'] == 'female') & (df['Survived'] == 0)])\n",
    "ms = len(df[(df['Sex'] == 'male') & (df['Survived'] == 1)])\n",
    "md = len(df[(df['Sex'] == 'male') & (df['Survived'] == 0)])\n",
    "\n",
    "total_women = fs + fd\n",
    "total_men = ms + md\n",
    "\n",
    "print('females survived: '+ str(len(df[(df['Sex'] == 'female') & (df['Survived'] == 1)])))"
   ]
  },
  {
   "cell_type": "code",
   "execution_count": 56,
   "metadata": {},
   "outputs": [
    {
     "name": "stdout",
     "output_type": "stream",
     "text": [
      "percent of females survived: 0.7420382165605095\n"
     ]
    }
   ],
   "source": [
    "print('percent of females survived: ' + str((fs) / total_women))"
   ]
  },
  {
   "cell_type": "code",
   "execution_count": 57,
   "metadata": {},
   "outputs": [
    {
     "name": "stdout",
     "output_type": "stream",
     "text": [
      "percent of females died: 0.25796178343949044\n"
     ]
    }
   ],
   "source": [
    "print('percent of females died: ' + str((fd) / total_women))"
   ]
  },
  {
   "cell_type": "code",
   "execution_count": 58,
   "metadata": {},
   "outputs": [
    {
     "name": "stdout",
     "output_type": "stream",
     "text": [
      "percent of men survived: 0.18890814558058924\n"
     ]
    }
   ],
   "source": [
    "print('percent of men survived: ' + str((ms) / total_men))"
   ]
  },
  {
   "cell_type": "code",
   "execution_count": 61,
   "metadata": {},
   "outputs": [
    {
     "name": "stdout",
     "output_type": "stream",
     "text": [
      "percent of men died: 0.8110918544194108\n"
     ]
    }
   ],
   "source": [
    "print('percent of men died: ' + str((md) / total_men))"
   ]
  },
  {
   "cell_type": "code",
   "execution_count": 12,
   "metadata": {},
   "outputs": [
    {
     "data": {
      "text/html": [
       "<div>\n",
       "<style scoped>\n",
       "    .dataframe tbody tr th:only-of-type {\n",
       "        vertical-align: middle;\n",
       "    }\n",
       "\n",
       "    .dataframe tbody tr th {\n",
       "        vertical-align: top;\n",
       "    }\n",
       "\n",
       "    .dataframe thead th {\n",
       "        text-align: right;\n",
       "    }\n",
       "</style>\n",
       "<table border=\"1\" class=\"dataframe\">\n",
       "  <thead>\n",
       "    <tr style=\"text-align: right;\">\n",
       "      <th></th>\n",
       "      <th>PassengerId</th>\n",
       "      <th>Survived</th>\n",
       "      <th>Pclass</th>\n",
       "      <th>Name</th>\n",
       "      <th>Sex</th>\n",
       "      <th>Age</th>\n",
       "      <th>SibSp</th>\n",
       "      <th>Parch</th>\n",
       "      <th>Ticket</th>\n",
       "      <th>Fare</th>\n",
       "      <th>Cabin</th>\n",
       "      <th>Embarked</th>\n",
       "    </tr>\n",
       "  </thead>\n",
       "  <tbody>\n",
       "    <tr>\n",
       "      <th>0</th>\n",
       "      <td>1</td>\n",
       "      <td>0</td>\n",
       "      <td>3</td>\n",
       "      <td>Braund, Mr. Owen Harris</td>\n",
       "      <td>male</td>\n",
       "      <td>22.0</td>\n",
       "      <td>1</td>\n",
       "      <td>0</td>\n",
       "      <td>A/5 21171</td>\n",
       "      <td>7.2500</td>\n",
       "      <td>NaN</td>\n",
       "      <td>S</td>\n",
       "    </tr>\n",
       "    <tr>\n",
       "      <th>1</th>\n",
       "      <td>2</td>\n",
       "      <td>1</td>\n",
       "      <td>1</td>\n",
       "      <td>Cumings, Mrs. John Bradley (Florence Briggs Th...</td>\n",
       "      <td>female</td>\n",
       "      <td>38.0</td>\n",
       "      <td>1</td>\n",
       "      <td>0</td>\n",
       "      <td>PC 17599</td>\n",
       "      <td>71.2833</td>\n",
       "      <td>C85</td>\n",
       "      <td>C</td>\n",
       "    </tr>\n",
       "    <tr>\n",
       "      <th>2</th>\n",
       "      <td>3</td>\n",
       "      <td>1</td>\n",
       "      <td>3</td>\n",
       "      <td>Heikkinen, Miss. Laina</td>\n",
       "      <td>female</td>\n",
       "      <td>26.0</td>\n",
       "      <td>0</td>\n",
       "      <td>0</td>\n",
       "      <td>STON/O2. 3101282</td>\n",
       "      <td>7.9250</td>\n",
       "      <td>NaN</td>\n",
       "      <td>S</td>\n",
       "    </tr>\n",
       "    <tr>\n",
       "      <th>3</th>\n",
       "      <td>4</td>\n",
       "      <td>1</td>\n",
       "      <td>1</td>\n",
       "      <td>Futrelle, Mrs. Jacques Heath (Lily May Peel)</td>\n",
       "      <td>female</td>\n",
       "      <td>35.0</td>\n",
       "      <td>1</td>\n",
       "      <td>0</td>\n",
       "      <td>113803</td>\n",
       "      <td>53.1000</td>\n",
       "      <td>C123</td>\n",
       "      <td>S</td>\n",
       "    </tr>\n",
       "    <tr>\n",
       "      <th>4</th>\n",
       "      <td>5</td>\n",
       "      <td>0</td>\n",
       "      <td>3</td>\n",
       "      <td>Allen, Mr. William Henry</td>\n",
       "      <td>male</td>\n",
       "      <td>35.0</td>\n",
       "      <td>0</td>\n",
       "      <td>0</td>\n",
       "      <td>373450</td>\n",
       "      <td>8.0500</td>\n",
       "      <td>NaN</td>\n",
       "      <td>S</td>\n",
       "    </tr>\n",
       "  </tbody>\n",
       "</table>\n",
       "</div>"
      ],
      "text/plain": [
       "   PassengerId  Survived  Pclass  \\\n",
       "0            1         0       3   \n",
       "1            2         1       1   \n",
       "2            3         1       3   \n",
       "3            4         1       1   \n",
       "4            5         0       3   \n",
       "\n",
       "                                                Name     Sex   Age  SibSp  \\\n",
       "0                            Braund, Mr. Owen Harris    male  22.0      1   \n",
       "1  Cumings, Mrs. John Bradley (Florence Briggs Th...  female  38.0      1   \n",
       "2                             Heikkinen, Miss. Laina  female  26.0      0   \n",
       "3       Futrelle, Mrs. Jacques Heath (Lily May Peel)  female  35.0      1   \n",
       "4                           Allen, Mr. William Henry    male  35.0      0   \n",
       "\n",
       "   Parch            Ticket     Fare Cabin Embarked  \n",
       "0      0         A/5 21171   7.2500   NaN        S  \n",
       "1      0          PC 17599  71.2833   C85        C  \n",
       "2      0  STON/O2. 3101282   7.9250   NaN        S  \n",
       "3      0            113803  53.1000  C123        S  \n",
       "4      0            373450   8.0500   NaN        S  "
      ]
     },
     "execution_count": 12,
     "metadata": {},
     "output_type": "execute_result"
    }
   ],
   "source": [
    "df.head()"
   ]
  },
  {
   "cell_type": "code",
   "execution_count": 36,
   "metadata": {},
   "outputs": [
    {
     "name": "stdout",
     "output_type": "stream",
     "text": [
      "males survived: 109\n"
     ]
    }
   ],
   "source": [
    "print('males survived: '+ str(len(df[(df['Sex'] == 'male') & (df['Survived'] == 1)])))"
   ]
  },
  {
   "cell_type": "code",
   "execution_count": 38,
   "metadata": {},
   "outputs": [
    {
     "name": "stdout",
     "output_type": "stream",
     "text": [
      "males dead: 468\n"
     ]
    }
   ],
   "source": [
    "print('males dead: ' + str(len(df[(df['Sex'] == 'male') & (df['Survived'] == 0)])))"
   ]
  },
  {
   "cell_type": "code",
   "execution_count": null,
   "metadata": {},
   "outputs": [],
   "source": []
  },
  {
   "cell_type": "markdown",
   "metadata": {},
   "source": [
    "## Applications of Data Analysis\n",
    "\n",
    "Here are some example applications of Data Analysis in the real world:\n",
    "    \n",
    "1. Is the new product or website better than the previous product or website?\n",
    "\n",
    "1. If we have a crime dataset for a given city, which region in the city is the most violence part? At what time of the day? Which season? What type of crime is happening the most?\n",
    "\n",
    "\n",
    "### Slack Activity\n",
    "\n",
    "Go to the DS 1.1 slack channel and list an application of Data Analysis in the real world that you would like to see, or would like to create as part of this course\n"
   ]
  },
  {
   "cell_type": "markdown",
   "metadata": {},
   "source": [
    "## What do you want to get out of this course?\n",
    "\n",
    "What are two topics/items/things you want to learn from this course? Submit them through [this form](https://forms.gle/qDobsKhuPiga9MT7A), and we will do our best to make sure those topics/items are covered!"
   ]
  },
  {
   "cell_type": "markdown",
   "metadata": {},
   "source": [
    "## Optional Reading "
   ]
  },
  {
   "cell_type": "code",
   "execution_count": 32,
   "metadata": {},
   "outputs": [
    {
     "name": "stdout",
     "output_type": "stream",
     "text": [
      "233\n"
     ]
    }
   ],
   "source": [
    "# Another way to count number of survived female passenger in Titanic without using pandas\n",
    "\n",
    "import csv\n",
    "\n",
    "with open('titanic.csv') as csv_file:\n",
    "    csv_reader = csv.reader(csv_file, delimiter=',')\n",
    "    gender_ls = []\n",
    "    survive_ls = []\n",
    "    for row in csv_reader:\n",
    "        gender_ls.append(row[4])\n",
    "        survive_ls.append(row[1])\n",
    "        \n",
    "gender_ls = gender_ls[1:]  \n",
    "survive_ls = survive_ls[1:]\n",
    "\n",
    "female_index = [i for i, j in enumerate(gender_ls) if j == 'female']\n",
    "# print(female_index)\n",
    "female_survived_not_survived = [survive_ls[i] for i in female_index]\n",
    "\n",
    "num_female_survived = len([i for i, j in enumerate(female_survived_not_survived) if j == '1'])\n",
    "print(num_female_survived)"
   ]
  },
  {
   "cell_type": "code",
   "execution_count": null,
   "metadata": {},
   "outputs": [],
   "source": []
  }
 ],
 "metadata": {
  "kernelspec": {
   "display_name": "Python 3",
   "language": "python",
   "name": "python3"
  },
  "language_info": {
   "codemirror_mode": {
    "name": "ipython",
    "version": 3
   },
   "file_extension": ".py",
   "mimetype": "text/x-python",
   "name": "python",
   "nbconvert_exporter": "python",
   "pygments_lexer": "ipython3",
   "version": "3.7.3"
  }
 },
 "nbformat": 4,
 "nbformat_minor": 2
}
